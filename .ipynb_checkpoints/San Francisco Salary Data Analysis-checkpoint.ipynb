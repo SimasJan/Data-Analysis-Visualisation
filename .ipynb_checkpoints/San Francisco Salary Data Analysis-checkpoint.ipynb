{
 "cells": [
  {
   "cell_type": "markdown",
   "metadata": {},
   "source": [
    "# <center> San Francisco City Salaries (2011 - 2017) </center>\n",
    "\n",
    "## <center> Data Analysis Project</center>\n",
    "___"
   ]
  },
  {
   "cell_type": "markdown",
   "metadata": {},
   "source": [
    "### <center> Introduction </center>\n",
    "\n",
    "City of San Francisco, CA, has been popular among young professionals. Culture, nightlife, increase of tech hubs and tech related jobs has certainly had to have an impact on the employment and the salary data. Honestly, even I have personaly, once considered the possiblity of find a job in San Francisco and relocate there (I am living in the UK) as it always was in my bucket-list to visit. Once I have found out that you can access openly and freely San Francisco county salary data, I decided to take my Python and Data Analysis skills and put them to practice in analysis this data. \n",
    "\n",
    "\n",
    "### <center> Objectives </center>\n",
    "\n",
    "* Provide exploratory data analysis on the San Francisco salaries data between 2011 - 2017 \n",
    "* Provide insights on how salaries have changed in the country over time. \n",
    "\n",
    "** Libraries ** \n",
    "* Pandas and NumPy libraries will be used for data analysis, and \n",
    "* Matplotlib and Seaborn libraries for Visualisation. Finally,\n",
    "\n",
    "\n",
    "### <center> References </center>\n",
    "\n",
    "Data has been taken from <a href='https://transparentcalifornia.com/salaries/san-francisco/'> <b>Transparent California</b></a> website. Which is California's largest public pay and pension database.\n",
    "\n",
    "Transparent California is provided by the Nevada Policy Research Institute as a public service to provide comprehensive and easily searchable information on the compensation of public employees in California.\n",
    "\n",
    "____\n",
    "# <center> READY ? Let's Dive In! </center>"
   ]
  },
  {
   "cell_type": "code",
   "execution_count": 2,
   "metadata": {},
   "outputs": [
    {
     "data": {
      "text/html": [
       "<script>requirejs.config({paths: { 'plotly': ['https://cdn.plot.ly/plotly-latest.min']},});if(!window.Plotly) {{require(['plotly'],function(plotly) {window.Plotly=plotly;});}}</script>"
      ],
      "text/vnd.plotly.v1+html": [
       "<script>requirejs.config({paths: { 'plotly': ['https://cdn.plot.ly/plotly-latest.min']},});if(!window.Plotly) {{require(['plotly'],function(plotly) {window.Plotly=plotly;});}}</script>"
      ]
     },
     "metadata": {},
     "output_type": "display_data"
    }
   ],
   "source": [
    "# Importing libraries \n",
    "\n",
    "# data analysis libraries\n",
    "import pandas as pd\n",
    "import numpy as np\n",
    "\n",
    "# data visualisation libraries\n",
    "import matplotlib.pyplot as plt\n",
    "import seaborn as sns\n",
    "\n",
    "# interactive visualisation libraries \n",
    "import plotly.plotly as py\n",
    "import cufflinks as cf\n",
    "\n",
    "cf.go_offline(True)\n",
    "\n",
    "# importing check_output subprocess that allows to print local files.\n",
    "from subprocess import check_output\n",
    "\n",
    "# importing glob and os \n",
    "import glob, os\n",
    "\n",
    "# Setting Matplotlib visualisations to be displayed in the IPython Notebook \n",
    "%matplotlib inline"
   ]
  },
  {
   "cell_type": "code",
   "execution_count": 3,
   "metadata": {},
   "outputs": [
    {
     "name": "stdout",
     "output_type": "stream",
     "text": [
      "Files in directory:\n",
      "\n",
      "SF Salaries.ipynb\n",
      "SFsalaries_1.ipynb\n",
      "San Francisco Salary Data Analysis.ipynb\n",
      "all-san-francisco-all.csv\n",
      "san-francisco-2011.csv\n",
      "san-francisco-2012.csv\n",
      "san-francisco-2013.csv\n",
      "san-francisco-2014.csv\n",
      "san-francisco-2015.csv\n",
      "san-francisco-2016.csv\n",
      "san-francisco-2017.csv\n",
      "\n"
     ]
    }
   ],
   "source": [
    "# printing the local files that we will be working on.\n",
    "print('Files in directory:\\n')\n",
    "print(check_output(['ls']).decode('utf8'))"
   ]
  },
  {
   "cell_type": "code",
   "execution_count": 4,
   "metadata": {},
   "outputs": [],
   "source": [
    "# importing all the csv files and concatenating them all into a single Pandas DataFrame\n",
    "df = pd.concat(map(pd.read_csv, glob.glob(os.path.join('','san-francisco*.csv'))),sort=True)"
   ]
  },
  {
   "cell_type": "code",
   "execution_count": 5,
   "metadata": {},
   "outputs": [
    {
     "name": "stdout",
     "output_type": "stream",
     "text": [
      "<class 'pandas.core.frame.DataFrame'>\n",
      "Int64Index: 270573 entries, 0 to 38118\n",
      "Data columns (total 12 columns):\n",
      "Agency                  270573 non-null object\n",
      "Base Pay                270573 non-null object\n",
      "Benefits                270573 non-null object\n",
      "Employee Name           270573 non-null object\n",
      "Job Title               270573 non-null object\n",
      "Notes                   0 non-null float64\n",
      "Other Pay               270573 non-null object\n",
      "Overtime Pay            270573 non-null object\n",
      "Status                  119072 non-null object\n",
      "Total Pay               270573 non-null float64\n",
      "Total Pay & Benefits    270573 non-null float64\n",
      "Year                    270573 non-null int64\n",
      "dtypes: float64(3), int64(1), object(8)\n",
      "memory usage: 26.8+ MB\n"
     ]
    }
   ],
   "source": [
    "# printing the information summary about the dataset. \n",
    "df.info()"
   ]
  },
  {
   "cell_type": "code",
   "execution_count": 6,
   "metadata": {},
   "outputs": [
    {
     "data": {
      "text/html": [
       "<div>\n",
       "<style scoped>\n",
       "    .dataframe tbody tr th:only-of-type {\n",
       "        vertical-align: middle;\n",
       "    }\n",
       "\n",
       "    .dataframe tbody tr th {\n",
       "        vertical-align: top;\n",
       "    }\n",
       "\n",
       "    .dataframe thead th {\n",
       "        text-align: right;\n",
       "    }\n",
       "</style>\n",
       "<table border=\"1\" class=\"dataframe\">\n",
       "  <thead>\n",
       "    <tr style=\"text-align: right;\">\n",
       "      <th></th>\n",
       "      <th>Notes</th>\n",
       "      <th>Total Pay</th>\n",
       "      <th>Total Pay &amp; Benefits</th>\n",
       "      <th>Year</th>\n",
       "    </tr>\n",
       "  </thead>\n",
       "  <tbody>\n",
       "    <tr>\n",
       "      <th>count</th>\n",
       "      <td>0.0</td>\n",
       "      <td>270573.000000</td>\n",
       "      <td>270573.000000</td>\n",
       "      <td>270573.000000</td>\n",
       "    </tr>\n",
       "    <tr>\n",
       "      <th>mean</th>\n",
       "      <td>NaN</td>\n",
       "      <td>77492.395990</td>\n",
       "      <td>98966.541230</td>\n",
       "      <td>2014.097608</td>\n",
       "    </tr>\n",
       "    <tr>\n",
       "      <th>std</th>\n",
       "      <td>NaN</td>\n",
       "      <td>52401.256958</td>\n",
       "      <td>65379.902423</td>\n",
       "      <td>2.002397</td>\n",
       "    </tr>\n",
       "    <tr>\n",
       "      <th>min</th>\n",
       "      <td>NaN</td>\n",
       "      <td>-618.130000</td>\n",
       "      <td>-3628.780000</td>\n",
       "      <td>2011.000000</td>\n",
       "    </tr>\n",
       "    <tr>\n",
       "      <th>25%</th>\n",
       "      <td>NaN</td>\n",
       "      <td>37812.900000</td>\n",
       "      <td>47618.960000</td>\n",
       "      <td>2012.000000</td>\n",
       "    </tr>\n",
       "    <tr>\n",
       "      <th>50%</th>\n",
       "      <td>NaN</td>\n",
       "      <td>73697.010000</td>\n",
       "      <td>97767.580000</td>\n",
       "      <td>2014.000000</td>\n",
       "    </tr>\n",
       "    <tr>\n",
       "      <th>75%</th>\n",
       "      <td>NaN</td>\n",
       "      <td>109459.500000</td>\n",
       "      <td>139543.140000</td>\n",
       "      <td>2016.000000</td>\n",
       "    </tr>\n",
       "    <tr>\n",
       "      <th>max</th>\n",
       "      <td>NaN</td>\n",
       "      <td>567595.430000</td>\n",
       "      <td>666180.140000</td>\n",
       "      <td>2017.000000</td>\n",
       "    </tr>\n",
       "  </tbody>\n",
       "</table>\n",
       "</div>"
      ],
      "text/plain": [
       "       Notes      Total Pay  Total Pay & Benefits           Year\n",
       "count    0.0  270573.000000         270573.000000  270573.000000\n",
       "mean     NaN   77492.395990          98966.541230    2014.097608\n",
       "std      NaN   52401.256958          65379.902423       2.002397\n",
       "min      NaN    -618.130000          -3628.780000    2011.000000\n",
       "25%      NaN   37812.900000          47618.960000    2012.000000\n",
       "50%      NaN   73697.010000          97767.580000    2014.000000\n",
       "75%      NaN  109459.500000         139543.140000    2016.000000\n",
       "max      NaN  567595.430000         666180.140000    2017.000000"
      ]
     },
     "execution_count": 6,
     "metadata": {},
     "output_type": "execute_result"
    }
   ],
   "source": [
    "# printing the describtive summary information of the dataset.\n",
    "df.describe()"
   ]
  },
  {
   "cell_type": "code",
   "execution_count": 7,
   "metadata": {},
   "outputs": [
    {
     "name": "stdout",
     "output_type": "stream",
     "text": [
      "Agency                       0\n",
      "Base Pay                     0\n",
      "Benefits                     0\n",
      "Employee Name                0\n",
      "Job Title                    0\n",
      "Notes                   270573\n",
      "Other Pay                    0\n",
      "Overtime Pay                 0\n",
      "Status                  151501\n",
      "Total Pay                    0\n",
      "Total Pay & Benefits         0\n",
      "Year                         0\n",
      "dtype: int64\n",
      "----------\n",
      "Agency                       0\n",
      "Base Pay                     0\n",
      "Benefits                     0\n",
      "Employee Name                0\n",
      "Job Title                    0\n",
      "Notes                   270573\n",
      "Other Pay                    0\n",
      "Overtime Pay                 0\n",
      "Status                  151501\n",
      "Total Pay                    0\n",
      "Total Pay & Benefits         0\n",
      "Year                         0\n",
      "dtype: int64\n",
      "----------\n"
     ]
    }
   ],
   "source": [
    "# checking the missing values in the dataset.\n",
    "print(df.isnull().sum())\n",
    "print('-'*10)\n",
    "print(df.isna().sum())\n",
    "print('-'*10)"
   ]
  },
  {
   "cell_type": "markdown",
   "metadata": {},
   "source": [
    "___\n",
    "### <center> DATA CLEANING AREA </center>\n",
    "___"
   ]
  },
  {
   "cell_type": "code",
   "execution_count": 8,
   "metadata": {},
   "outputs": [],
   "source": [
    "# creating a copy of the original dataframe to work with.\n",
    "salaries = df.copy(deep=True)"
   ]
  },
  {
   "cell_type": "code",
   "execution_count": 9,
   "metadata": {},
   "outputs": [],
   "source": [
    "# removing the Notes column, as it does not contain any useful information that we could use.\n",
    "salaries.drop('Notes',axis=1,inplace=True)\n",
    "\n",
    "# fills missing values in Status column with the mode value of the Status column.\n",
    "salaries['Status'].fillna(salaries['Status'].mode()[0],inplace=True)\n",
    "    \n",
    "# replacing the 'NaN' values in the Benefits column with zero.\n",
    "salaries['Benefits'].fillna('0',inplace=True)\n"
   ]
  },
  {
   "cell_type": "code",
   "execution_count": 10,
   "metadata": {},
   "outputs": [],
   "source": [
    "# creating a dictionary of of missing values which will replace any keys found in dataset with the key values.\n",
    "missing_values = {\n",
    "    'Not Provided': 'NaN',\n",
    "    'Not provided': 'NaN',\n",
    "    'null':'NaN',\n",
    "}\n",
    "\n",
    "# replacing missing values found by dictionary keys and replacing with dictionary values.\n",
    "salaries.replace(missing_values,regex=True,inplace=True)"
   ]
  },
  {
   "cell_type": "code",
   "execution_count": 11,
   "metadata": {},
   "outputs": [],
   "source": [
    "# creating a variable with the column names that will be converted to numeric dtypes.\n",
    "columns_to_convert = ['Base Pay', 'Benefits','Other Pay','Overtime Pay']\n",
    "\n",
    "# using apply method to convert object type columns to numeric type. \n",
    "salaries[columns_to_convert] = salaries[columns_to_convert].apply(pd.to_numeric, errors='coerce',axis=0)"
   ]
  },
  {
   "cell_type": "code",
   "execution_count": 12,
   "metadata": {},
   "outputs": [
    {
     "name": "stdout",
     "output_type": "stream",
     "text": [
      "<class 'pandas.core.frame.DataFrame'>\n",
      "Int64Index: 270573 entries, 0 to 38118\n",
      "Data columns (total 11 columns):\n",
      "Agency                  270573 non-null object\n",
      "Base Pay                269967 non-null float64\n",
      "Benefits                234413 non-null float64\n",
      "Employee Name           270573 non-null object\n",
      "Job Title               270573 non-null object\n",
      "Other Pay               270572 non-null float64\n",
      "Overtime Pay            270572 non-null float64\n",
      "Status                  270573 non-null object\n",
      "Total Pay               270573 non-null float64\n",
      "Total Pay & Benefits    270573 non-null float64\n",
      "Year                    270573 non-null int64\n",
      "dtypes: float64(6), int64(1), object(4)\n",
      "memory usage: 24.8+ MB\n",
      "None\n"
     ]
    },
    {
     "data": {
      "text/html": [
       "<div>\n",
       "<style scoped>\n",
       "    .dataframe tbody tr th:only-of-type {\n",
       "        vertical-align: middle;\n",
       "    }\n",
       "\n",
       "    .dataframe tbody tr th {\n",
       "        vertical-align: top;\n",
       "    }\n",
       "\n",
       "    .dataframe thead th {\n",
       "        text-align: right;\n",
       "    }\n",
       "</style>\n",
       "<table border=\"1\" class=\"dataframe\">\n",
       "  <thead>\n",
       "    <tr style=\"text-align: right;\">\n",
       "      <th></th>\n",
       "      <th>Base Pay</th>\n",
       "      <th>Benefits</th>\n",
       "      <th>Other Pay</th>\n",
       "      <th>Overtime Pay</th>\n",
       "      <th>Total Pay</th>\n",
       "      <th>Total Pay &amp; Benefits</th>\n",
       "      <th>Year</th>\n",
       "    </tr>\n",
       "  </thead>\n",
       "  <tbody>\n",
       "    <tr>\n",
       "      <th>count</th>\n",
       "      <td>269967.000000</td>\n",
       "      <td>234413.000000</td>\n",
       "      <td>270572.000000</td>\n",
       "      <td>270572.000000</td>\n",
       "      <td>270573.000000</td>\n",
       "      <td>270573.000000</td>\n",
       "      <td>270573.000000</td>\n",
       "    </tr>\n",
       "    <tr>\n",
       "      <th>mean</th>\n",
       "      <td>68689.412915</td>\n",
       "      <td>24786.696558</td>\n",
       "      <td>3456.473597</td>\n",
       "      <td>5500.385662</td>\n",
       "      <td>77492.395990</td>\n",
       "      <td>98966.541230</td>\n",
       "      <td>2014.097608</td>\n",
       "    </tr>\n",
       "    <tr>\n",
       "      <th>std</th>\n",
       "      <td>44627.266435</td>\n",
       "      <td>14958.766264</td>\n",
       "      <td>7400.766266</td>\n",
       "      <td>12328.761334</td>\n",
       "      <td>52401.256958</td>\n",
       "      <td>65379.902423</td>\n",
       "      <td>2.002397</td>\n",
       "    </tr>\n",
       "    <tr>\n",
       "      <th>min</th>\n",
       "      <td>-474.400000</td>\n",
       "      <td>-13939.420000</td>\n",
       "      <td>-7058.590000</td>\n",
       "      <td>-292.800000</td>\n",
       "      <td>-618.130000</td>\n",
       "      <td>-3628.780000</td>\n",
       "      <td>2011.000000</td>\n",
       "    </tr>\n",
       "    <tr>\n",
       "      <th>25%</th>\n",
       "      <td>34861.640000</td>\n",
       "      <td>12481.630000</td>\n",
       "      <td>0.000000</td>\n",
       "      <td>0.000000</td>\n",
       "      <td>37812.900000</td>\n",
       "      <td>47618.960000</td>\n",
       "      <td>2012.000000</td>\n",
       "    </tr>\n",
       "    <tr>\n",
       "      <th>50%</th>\n",
       "      <td>66707.160000</td>\n",
       "      <td>27994.080000</td>\n",
       "      <td>731.160000</td>\n",
       "      <td>0.000000</td>\n",
       "      <td>73697.010000</td>\n",
       "      <td>97767.580000</td>\n",
       "      <td>2014.000000</td>\n",
       "    </tr>\n",
       "    <tr>\n",
       "      <th>75%</th>\n",
       "      <td>97813.730000</td>\n",
       "      <td>35027.150000</td>\n",
       "      <td>3958.680000</td>\n",
       "      <td>5077.875000</td>\n",
       "      <td>109459.500000</td>\n",
       "      <td>139543.140000</td>\n",
       "      <td>2016.000000</td>\n",
       "    </tr>\n",
       "    <tr>\n",
       "      <th>max</th>\n",
       "      <td>545294.860000</td>\n",
       "      <td>125891.730000</td>\n",
       "      <td>400184.250000</td>\n",
       "      <td>273076.560000</td>\n",
       "      <td>567595.430000</td>\n",
       "      <td>666180.140000</td>\n",
       "      <td>2017.000000</td>\n",
       "    </tr>\n",
       "  </tbody>\n",
       "</table>\n",
       "</div>"
      ],
      "text/plain": [
       "            Base Pay       Benefits      Other Pay   Overtime Pay  \\\n",
       "count  269967.000000  234413.000000  270572.000000  270572.000000   \n",
       "mean    68689.412915   24786.696558    3456.473597    5500.385662   \n",
       "std     44627.266435   14958.766264    7400.766266   12328.761334   \n",
       "min      -474.400000  -13939.420000   -7058.590000    -292.800000   \n",
       "25%     34861.640000   12481.630000       0.000000       0.000000   \n",
       "50%     66707.160000   27994.080000     731.160000       0.000000   \n",
       "75%     97813.730000   35027.150000    3958.680000    5077.875000   \n",
       "max    545294.860000  125891.730000  400184.250000  273076.560000   \n",
       "\n",
       "           Total Pay  Total Pay & Benefits           Year  \n",
       "count  270573.000000         270573.000000  270573.000000  \n",
       "mean    77492.395990          98966.541230    2014.097608  \n",
       "std     52401.256958          65379.902423       2.002397  \n",
       "min      -618.130000          -3628.780000    2011.000000  \n",
       "25%     37812.900000          47618.960000    2012.000000  \n",
       "50%     73697.010000          97767.580000    2014.000000  \n",
       "75%    109459.500000         139543.140000    2016.000000  \n",
       "max    567595.430000         666180.140000    2017.000000  "
      ]
     },
     "execution_count": 12,
     "metadata": {},
     "output_type": "execute_result"
    }
   ],
   "source": [
    "# printing info summary to confirm data type conversion.\n",
    "print(salaries.info())\n",
    "salaries.describe()"
   ]
  },
  {
   "cell_type": "code",
   "execution_count": 13,
   "metadata": {},
   "outputs": [],
   "source": [
    "# filtering the values where Total Pay & Benefits are equal to 0\n",
    "salaries = salaries[salaries['Total Pay & Benefits'] !=0]"
   ]
  },
  {
   "cell_type": "code",
   "execution_count": 14,
   "metadata": {},
   "outputs": [
    {
     "data": {
      "text/plain": [
       "Agency                      0\n",
       "Base Pay                  605\n",
       "Benefits                36156\n",
       "Employee Name               0\n",
       "Job Title                   0\n",
       "Other Pay                   0\n",
       "Overtime Pay                0\n",
       "Status                      0\n",
       "Total Pay                   0\n",
       "Total Pay & Benefits        0\n",
       "Year                        0\n",
       "dtype: int64"
      ]
     },
     "execution_count": 14,
     "metadata": {},
     "output_type": "execute_result"
    }
   ],
   "source": [
    "salaries.isnull().sum()"
   ]
  },
  {
   "cell_type": "markdown",
   "metadata": {},
   "source": [
    "** Notes:**\n",
    "\n",
    "* From the summary above there are 605 row fields with value equal to zero within Base Pay column. In most scenarios, we would either delete the missing values or would impute them with the closest approximation. However, in this case values will be kept as there are some employees who has received no Base Pay, yet received salary in other type of payments (see the descriptive summary below)."
   ]
  },
  {
   "cell_type": "code",
   "execution_count": 15,
   "metadata": {},
   "outputs": [
    {
     "data": {
      "text/html": [
       "<div>\n",
       "<style scoped>\n",
       "    .dataframe tbody tr th:only-of-type {\n",
       "        vertical-align: middle;\n",
       "    }\n",
       "\n",
       "    .dataframe tbody tr th {\n",
       "        vertical-align: top;\n",
       "    }\n",
       "\n",
       "    .dataframe thead th {\n",
       "        text-align: right;\n",
       "    }\n",
       "</style>\n",
       "<table border=\"1\" class=\"dataframe\">\n",
       "  <thead>\n",
       "    <tr style=\"text-align: right;\">\n",
       "      <th></th>\n",
       "      <th>count</th>\n",
       "      <th>mean</th>\n",
       "      <th>std</th>\n",
       "      <th>min</th>\n",
       "      <th>25%</th>\n",
       "      <th>50%</th>\n",
       "      <th>75%</th>\n",
       "      <th>max</th>\n",
       "    </tr>\n",
       "  </thead>\n",
       "  <tbody>\n",
       "    <tr>\n",
       "      <th>Base Pay</th>\n",
       "      <td>2598.0</td>\n",
       "      <td>0.000000</td>\n",
       "      <td>0.000000</td>\n",
       "      <td>0.00</td>\n",
       "      <td>0.0000</td>\n",
       "      <td>0.000</td>\n",
       "      <td>0.0000</td>\n",
       "      <td>0.00</td>\n",
       "    </tr>\n",
       "    <tr>\n",
       "      <th>Benefits</th>\n",
       "      <td>2149.0</td>\n",
       "      <td>2738.857878</td>\n",
       "      <td>4671.040323</td>\n",
       "      <td>-3628.78</td>\n",
       "      <td>0.0000</td>\n",
       "      <td>255.700</td>\n",
       "      <td>4645.5600</td>\n",
       "      <td>27898.03</td>\n",
       "    </tr>\n",
       "    <tr>\n",
       "      <th>Other Pay</th>\n",
       "      <td>2598.0</td>\n",
       "      <td>3857.789477</td>\n",
       "      <td>11384.717195</td>\n",
       "      <td>-618.13</td>\n",
       "      <td>139.1625</td>\n",
       "      <td>845.595</td>\n",
       "      <td>3314.6825</td>\n",
       "      <td>191685.15</td>\n",
       "    </tr>\n",
       "    <tr>\n",
       "      <th>Overtime Pay</th>\n",
       "      <td>2598.0</td>\n",
       "      <td>102.829072</td>\n",
       "      <td>1360.880112</td>\n",
       "      <td>0.00</td>\n",
       "      <td>0.0000</td>\n",
       "      <td>0.000</td>\n",
       "      <td>0.0000</td>\n",
       "      <td>33176.65</td>\n",
       "    </tr>\n",
       "    <tr>\n",
       "      <th>Total Pay</th>\n",
       "      <td>2598.0</td>\n",
       "      <td>3960.618549</td>\n",
       "      <td>11838.459737</td>\n",
       "      <td>-618.13</td>\n",
       "      <td>146.5975</td>\n",
       "      <td>868.900</td>\n",
       "      <td>3339.2175</td>\n",
       "      <td>191685.15</td>\n",
       "    </tr>\n",
       "    <tr>\n",
       "      <th>Total Pay &amp; Benefits</th>\n",
       "      <td>2598.0</td>\n",
       "      <td>6226.132629</td>\n",
       "      <td>12306.727684</td>\n",
       "      <td>-3628.78</td>\n",
       "      <td>639.9175</td>\n",
       "      <td>2810.160</td>\n",
       "      <td>7511.4100</td>\n",
       "      <td>191685.15</td>\n",
       "    </tr>\n",
       "    <tr>\n",
       "      <th>Year</th>\n",
       "      <td>2598.0</td>\n",
       "      <td>2014.165897</td>\n",
       "      <td>2.114502</td>\n",
       "      <td>2011.00</td>\n",
       "      <td>2012.0000</td>\n",
       "      <td>2015.000</td>\n",
       "      <td>2016.0000</td>\n",
       "      <td>2017.00</td>\n",
       "    </tr>\n",
       "  </tbody>\n",
       "</table>\n",
       "</div>"
      ],
      "text/plain": [
       "                       count         mean           std      min        25%  \\\n",
       "Base Pay              2598.0     0.000000      0.000000     0.00     0.0000   \n",
       "Benefits              2149.0  2738.857878   4671.040323 -3628.78     0.0000   \n",
       "Other Pay             2598.0  3857.789477  11384.717195  -618.13   139.1625   \n",
       "Overtime Pay          2598.0   102.829072   1360.880112     0.00     0.0000   \n",
       "Total Pay             2598.0  3960.618549  11838.459737  -618.13   146.5975   \n",
       "Total Pay & Benefits  2598.0  6226.132629  12306.727684 -3628.78   639.9175   \n",
       "Year                  2598.0  2014.165897      2.114502  2011.00  2012.0000   \n",
       "\n",
       "                           50%        75%        max  \n",
       "Base Pay                 0.000     0.0000       0.00  \n",
       "Benefits               255.700  4645.5600   27898.03  \n",
       "Other Pay              845.595  3314.6825  191685.15  \n",
       "Overtime Pay             0.000     0.0000   33176.65  \n",
       "Total Pay              868.900  3339.2175  191685.15  \n",
       "Total Pay & Benefits  2810.160  7511.4100  191685.15  \n",
       "Year                  2015.000  2016.0000    2017.00  "
      ]
     },
     "execution_count": 15,
     "metadata": {},
     "output_type": "execute_result"
    }
   ],
   "source": [
    "# printing descriptive summary of data set where 'Base Pay' is equal to 0\n",
    "salaries[salaries['Base Pay']==0].describe().transpose()"
   ]
  },
  {
   "cell_type": "code",
   "execution_count": 16,
   "metadata": {},
   "outputs": [
    {
     "data": {
      "text/plain": [
       "Agency                  0\n",
       "Base Pay                0\n",
       "Benefits                0\n",
       "Employee Name           0\n",
       "Job Title               0\n",
       "Other Pay               0\n",
       "Overtime Pay            0\n",
       "Status                  0\n",
       "Total Pay               0\n",
       "Total Pay & Benefits    0\n",
       "Year                    0\n",
       "dtype: int64"
      ]
     },
     "execution_count": 16,
     "metadata": {},
     "output_type": "execute_result"
    }
   ],
   "source": [
    "# checking whether there are any rows with zero values in any pay type.\n",
    "salaries[salaries['Total Pay & Benefits']==0].count()"
   ]
  },
  {
   "cell_type": "code",
   "execution_count": 17,
   "metadata": {},
   "outputs": [
    {
     "name": "stdout",
     "output_type": "stream",
     "text": [
      "Agency                      0\n",
      "Base Pay                  605\n",
      "Benefits                36156\n",
      "Employee Name               0\n",
      "Job Title                   0\n",
      "Other Pay                   0\n",
      "Overtime Pay                0\n",
      "Status                      0\n",
      "Total Pay                   0\n",
      "Total Pay & Benefits        0\n",
      "Year                        0\n",
      "dtype: int64\n",
      "----------\n",
      "Agency                      0\n",
      "Base Pay                  605\n",
      "Benefits                36156\n",
      "Employee Name               0\n",
      "Job Title                   0\n",
      "Other Pay                   0\n",
      "Overtime Pay                0\n",
      "Status                      0\n",
      "Total Pay                   0\n",
      "Total Pay & Benefits        0\n",
      "Year                        0\n",
      "dtype: int64\n"
     ]
    }
   ],
   "source": [
    "# Final check of the data set to ensure there are no missing value points\n",
    "print(salaries.isnull().sum())\n",
    "print('-'*10)\n",
    "print(salaries.isna().sum())"
   ]
  },
  {
   "cell_type": "markdown",
   "metadata": {},
   "source": [
    "** Notes: **\n",
    "We are happy with the data set cleaning, as described above some employees has received no Base Pay yet their Total Pay package amounts to certain values. Whilst, Benefits column even though contains 72,312 missing value points, we will assume that those employees that corresponds to these data set rows has received no Benefits."
   ]
  },
  {
   "cell_type": "markdown",
   "metadata": {},
   "source": [
    "___\n",
    "## <center> Exploratory Data Analysis </center>\n",
    "___"
   ]
  },
  {
   "cell_type": "code",
   "execution_count": 18,
   "metadata": {},
   "outputs": [
    {
     "data": {
      "text/html": [
       "<div>\n",
       "<style scoped>\n",
       "    .dataframe tbody tr th:only-of-type {\n",
       "        vertical-align: middle;\n",
       "    }\n",
       "\n",
       "    .dataframe tbody tr th {\n",
       "        vertical-align: top;\n",
       "    }\n",
       "\n",
       "    .dataframe thead th {\n",
       "        text-align: right;\n",
       "    }\n",
       "</style>\n",
       "<table border=\"1\" class=\"dataframe\">\n",
       "  <thead>\n",
       "    <tr style=\"text-align: right;\">\n",
       "      <th></th>\n",
       "      <th>Base Pay</th>\n",
       "      <th>Benefits</th>\n",
       "      <th>Other Pay</th>\n",
       "      <th>Overtime Pay</th>\n",
       "      <th>Total Pay</th>\n",
       "      <th>Total Pay &amp; Benefits</th>\n",
       "      <th>Year</th>\n",
       "    </tr>\n",
       "  </thead>\n",
       "  <tbody>\n",
       "    <tr>\n",
       "      <th>count</th>\n",
       "      <td>269931.000000</td>\n",
       "      <td>234380.000000</td>\n",
       "      <td>270536.000000</td>\n",
       "      <td>270536.000000</td>\n",
       "      <td>270536.000000</td>\n",
       "      <td>270536.000000</td>\n",
       "      <td>270536.000000</td>\n",
       "    </tr>\n",
       "    <tr>\n",
       "      <th>mean</th>\n",
       "      <td>68698.573845</td>\n",
       "      <td>24790.186450</td>\n",
       "      <td>3456.933548</td>\n",
       "      <td>5501.117594</td>\n",
       "      <td>77502.994278</td>\n",
       "      <td>98980.076442</td>\n",
       "      <td>2014.097577</td>\n",
       "    </tr>\n",
       "    <tr>\n",
       "      <th>std</th>\n",
       "      <td>44623.191044</td>\n",
       "      <td>14956.927432</td>\n",
       "      <td>7401.151242</td>\n",
       "      <td>12329.418313</td>\n",
       "      <td>52397.002523</td>\n",
       "      <td>65374.127378</td>\n",
       "      <td>2.002468</td>\n",
       "    </tr>\n",
       "    <tr>\n",
       "      <th>min</th>\n",
       "      <td>-474.400000</td>\n",
       "      <td>-13939.420000</td>\n",
       "      <td>-7058.590000</td>\n",
       "      <td>-292.800000</td>\n",
       "      <td>-618.130000</td>\n",
       "      <td>-3628.780000</td>\n",
       "      <td>2011.000000</td>\n",
       "    </tr>\n",
       "    <tr>\n",
       "      <th>25%</th>\n",
       "      <td>34887.570000</td>\n",
       "      <td>12494.510000</td>\n",
       "      <td>0.000000</td>\n",
       "      <td>0.000000</td>\n",
       "      <td>37843.165000</td>\n",
       "      <td>47661.225000</td>\n",
       "      <td>2012.000000</td>\n",
       "    </tr>\n",
       "    <tr>\n",
       "      <th>50%</th>\n",
       "      <td>66714.310000</td>\n",
       "      <td>27996.470000</td>\n",
       "      <td>731.740000</td>\n",
       "      <td>0.000000</td>\n",
       "      <td>73706.775000</td>\n",
       "      <td>97776.365000</td>\n",
       "      <td>2014.000000</td>\n",
       "    </tr>\n",
       "    <tr>\n",
       "      <th>75%</th>\n",
       "      <td>97819.560000</td>\n",
       "      <td>35027.685000</td>\n",
       "      <td>3958.680000</td>\n",
       "      <td>5079.925000</td>\n",
       "      <td>109461.375000</td>\n",
       "      <td>139552.640000</td>\n",
       "      <td>2016.000000</td>\n",
       "    </tr>\n",
       "    <tr>\n",
       "      <th>max</th>\n",
       "      <td>545294.860000</td>\n",
       "      <td>125891.730000</td>\n",
       "      <td>400184.250000</td>\n",
       "      <td>273076.560000</td>\n",
       "      <td>567595.430000</td>\n",
       "      <td>666180.140000</td>\n",
       "      <td>2017.000000</td>\n",
       "    </tr>\n",
       "  </tbody>\n",
       "</table>\n",
       "</div>"
      ],
      "text/plain": [
       "            Base Pay       Benefits      Other Pay   Overtime Pay  \\\n",
       "count  269931.000000  234380.000000  270536.000000  270536.000000   \n",
       "mean    68698.573845   24790.186450    3456.933548    5501.117594   \n",
       "std     44623.191044   14956.927432    7401.151242   12329.418313   \n",
       "min      -474.400000  -13939.420000   -7058.590000    -292.800000   \n",
       "25%     34887.570000   12494.510000       0.000000       0.000000   \n",
       "50%     66714.310000   27996.470000     731.740000       0.000000   \n",
       "75%     97819.560000   35027.685000    3958.680000    5079.925000   \n",
       "max    545294.860000  125891.730000  400184.250000  273076.560000   \n",
       "\n",
       "           Total Pay  Total Pay & Benefits           Year  \n",
       "count  270536.000000         270536.000000  270536.000000  \n",
       "mean    77502.994278          98980.076442    2014.097577  \n",
       "std     52397.002523          65374.127378       2.002468  \n",
       "min      -618.130000          -3628.780000    2011.000000  \n",
       "25%     37843.165000          47661.225000    2012.000000  \n",
       "50%     73706.775000          97776.365000    2014.000000  \n",
       "75%    109461.375000         139552.640000    2016.000000  \n",
       "max    567595.430000         666180.140000    2017.000000  "
      ]
     },
     "execution_count": 18,
     "metadata": {},
     "output_type": "execute_result"
    }
   ],
   "source": [
    "# printing descriptive statistics\n",
    "salaries.describe()"
   ]
  },
  {
   "cell_type": "markdown",
   "metadata": {},
   "source": [
    "### What is the median Base Pay by Year in San Francisco ?"
   ]
  },
  {
   "cell_type": "code",
   "execution_count": 19,
   "metadata": {
    "scrolled": false
   },
   "outputs": [
    {
     "name": "stdout",
     "output_type": "stream",
     "text": [
      "Year\n",
      "2011    62876.625\n",
      "2012    64017.370\n",
      "2013    67669.000\n",
      "2014    65055.000\n",
      "2015    66811.030\n",
      "2016    69662.305\n",
      "2017    73665.880\n",
      "Name: Base Pay, dtype: float64\n"
     ]
    }
   ],
   "source": [
    "print(salaries.groupby('Year').median()['Base Pay'])"
   ]
  },
  {
   "cell_type": "markdown",
   "metadata": {},
   "source": [
    "### What is the average pay by the year and the salary type? "
   ]
  },
  {
   "cell_type": "code",
   "execution_count": 20,
   "metadata": {},
   "outputs": [
    {
     "data": {
      "text/html": [
       "<div>\n",
       "<style scoped>\n",
       "    .dataframe tbody tr th:only-of-type {\n",
       "        vertical-align: middle;\n",
       "    }\n",
       "\n",
       "    .dataframe tbody tr th {\n",
       "        vertical-align: top;\n",
       "    }\n",
       "\n",
       "    .dataframe thead th {\n",
       "        text-align: right;\n",
       "    }\n",
       "</style>\n",
       "<table border=\"1\" class=\"dataframe\">\n",
       "  <thead>\n",
       "    <tr style=\"text-align: right;\">\n",
       "      <th></th>\n",
       "      <th>Base Pay</th>\n",
       "      <th>Overtime Pay</th>\n",
       "      <th>Other Pay</th>\n",
       "      <th>Benefits</th>\n",
       "      <th>Total Pay</th>\n",
       "      <th>Total Pay &amp; Benefits</th>\n",
       "    </tr>\n",
       "    <tr>\n",
       "      <th>Year</th>\n",
       "      <th></th>\n",
       "      <th></th>\n",
       "      <th></th>\n",
       "      <th></th>\n",
       "      <th></th>\n",
       "      <th></th>\n",
       "    </tr>\n",
       "  </thead>\n",
       "  <tbody>\n",
       "    <tr>\n",
       "      <th>2011</th>\n",
       "      <td>62876.625</td>\n",
       "      <td>4531.441388</td>\n",
       "      <td>795.885</td>\n",
       "      <td>NaN</td>\n",
       "      <td>68217.525</td>\n",
       "      <td>68217.525</td>\n",
       "    </tr>\n",
       "    <tr>\n",
       "      <th>2012</th>\n",
       "      <td>64017.370</td>\n",
       "      <td>5023.417824</td>\n",
       "      <td>920.645</td>\n",
       "      <td>30640.190</td>\n",
       "      <td>70714.680</td>\n",
       "      <td>101751.290</td>\n",
       "    </tr>\n",
       "    <tr>\n",
       "      <th>2013</th>\n",
       "      <td>67669.000</td>\n",
       "      <td>5281.641980</td>\n",
       "      <td>792.060</td>\n",
       "      <td>27156.260</td>\n",
       "      <td>74500.015</td>\n",
       "      <td>101969.445</td>\n",
       "    </tr>\n",
       "    <tr>\n",
       "      <th>2014</th>\n",
       "      <td>65055.000</td>\n",
       "      <td>5405.255126</td>\n",
       "      <td>697.850</td>\n",
       "      <td>28434.160</td>\n",
       "      <td>72393.045</td>\n",
       "      <td>101154.495</td>\n",
       "    </tr>\n",
       "    <tr>\n",
       "      <th>2015</th>\n",
       "      <td>66811.030</td>\n",
       "      <td>5607.503538</td>\n",
       "      <td>624.000</td>\n",
       "      <td>27251.080</td>\n",
       "      <td>73886.960</td>\n",
       "      <td>101170.770</td>\n",
       "    </tr>\n",
       "    <tr>\n",
       "      <th>2016</th>\n",
       "      <td>69662.305</td>\n",
       "      <td>6136.871755</td>\n",
       "      <td>625.260</td>\n",
       "      <td>26351.085</td>\n",
       "      <td>76968.165</td>\n",
       "      <td>103484.385</td>\n",
       "    </tr>\n",
       "    <tr>\n",
       "      <th>2017</th>\n",
       "      <td>73665.880</td>\n",
       "      <td>6326.231195</td>\n",
       "      <td>696.500</td>\n",
       "      <td>28403.050</td>\n",
       "      <td>80570.480</td>\n",
       "      <td>108725.150</td>\n",
       "    </tr>\n",
       "  </tbody>\n",
       "</table>\n",
       "</div>"
      ],
      "text/plain": [
       "       Base Pay  Overtime Pay  Other Pay   Benefits  Total Pay  \\\n",
       "Year                                                             \n",
       "2011  62876.625   4531.441388    795.885        NaN  68217.525   \n",
       "2012  64017.370   5023.417824    920.645  30640.190  70714.680   \n",
       "2013  67669.000   5281.641980    792.060  27156.260  74500.015   \n",
       "2014  65055.000   5405.255126    697.850  28434.160  72393.045   \n",
       "2015  66811.030   5607.503538    624.000  27251.080  73886.960   \n",
       "2016  69662.305   6136.871755    625.260  26351.085  76968.165   \n",
       "2017  73665.880   6326.231195    696.500  28403.050  80570.480   \n",
       "\n",
       "      Total Pay & Benefits  \n",
       "Year                        \n",
       "2011             68217.525  \n",
       "2012            101751.290  \n",
       "2013            101969.445  \n",
       "2014            101154.495  \n",
       "2015            101170.770  \n",
       "2016            103484.385  \n",
       "2017            108725.150  "
      ]
     },
     "execution_count": 20,
     "metadata": {},
     "output_type": "execute_result"
    }
   ],
   "source": [
    "salaries.groupby('Year').aggregate({'Base Pay':np.median,\n",
    "                                   'Overtime Pay': np.mean,\n",
    "                                   'Other Pay': np.median,\n",
    "                                    'Benefits':np.median,\n",
    "                                   'Total Pay':np.median,\n",
    "                                   'Total Pay & Benefits':np.median})"
   ]
  },
  {
   "cell_type": "markdown",
   "metadata": {},
   "source": [
    "** Notes:\n",
    "In the year 2011 Benefits were not disclosed in the dataset. **\n",
    "___"
   ]
  },
  {
   "cell_type": "markdown",
   "metadata": {},
   "source": [
    "### How did salaries in San Francisco changed over the years?"
   ]
  },
  {
   "cell_type": "code",
   "execution_count": 21,
   "metadata": {},
   "outputs": [
    {
     "name": "stdout",
     "output_type": "stream",
     "text": [
      "Mean Annual Pay Change (percentage) of San Francisco Public Employees\n"
     ]
    },
    {
     "data": {
      "text/html": [
       "<div>\n",
       "<style scoped>\n",
       "    .dataframe tbody tr th:only-of-type {\n",
       "        vertical-align: middle;\n",
       "    }\n",
       "\n",
       "    .dataframe tbody tr th {\n",
       "        vertical-align: top;\n",
       "    }\n",
       "\n",
       "    .dataframe thead th {\n",
       "        text-align: right;\n",
       "    }\n",
       "</style>\n",
       "<table border=\"1\" class=\"dataframe\">\n",
       "  <thead>\n",
       "    <tr style=\"text-align: right;\">\n",
       "      <th></th>\n",
       "      <th>Base Pay</th>\n",
       "      <th>Overtime Pay</th>\n",
       "      <th>Other Pay</th>\n",
       "      <th>Total Pay</th>\n",
       "      <th>Total Pay &amp; Benefits</th>\n",
       "      <th>Benefits</th>\n",
       "    </tr>\n",
       "    <tr>\n",
       "      <th>Year</th>\n",
       "      <th></th>\n",
       "      <th></th>\n",
       "      <th></th>\n",
       "      <th></th>\n",
       "      <th></th>\n",
       "      <th></th>\n",
       "    </tr>\n",
       "  </thead>\n",
       "  <tbody>\n",
       "    <tr>\n",
       "      <th>2012</th>\n",
       "      <td>0.028854</td>\n",
       "      <td>0.108570</td>\n",
       "      <td>0.009967</td>\n",
       "      <td>0.032937</td>\n",
       "      <td>0.401438</td>\n",
       "      <td>NaN</td>\n",
       "    </tr>\n",
       "    <tr>\n",
       "      <th>2013</th>\n",
       "      <td>0.064087</td>\n",
       "      <td>0.051404</td>\n",
       "      <td>0.045582</td>\n",
       "      <td>0.047200</td>\n",
       "      <td>0.008824</td>\n",
       "      <td>-0.098748</td>\n",
       "    </tr>\n",
       "    <tr>\n",
       "      <th>2014</th>\n",
       "      <td>-0.043450</td>\n",
       "      <td>0.023404</td>\n",
       "      <td>-0.081789</td>\n",
       "      <td>-0.026981</td>\n",
       "      <td>-0.011027</td>\n",
       "      <td>0.040937</td>\n",
       "    </tr>\n",
       "    <tr>\n",
       "      <th>2015</th>\n",
       "      <td>0.032710</td>\n",
       "      <td>0.037417</td>\n",
       "      <td>-0.108959</td>\n",
       "      <td>0.026467</td>\n",
       "      <td>0.014097</td>\n",
       "      <td>-0.023563</td>\n",
       "    </tr>\n",
       "    <tr>\n",
       "      <th>2016</th>\n",
       "      <td>0.034941</td>\n",
       "      <td>0.094404</td>\n",
       "      <td>0.023094</td>\n",
       "      <td>0.038765</td>\n",
       "      <td>0.028067</td>\n",
       "      <td>-0.006172</td>\n",
       "    </tr>\n",
       "    <tr>\n",
       "      <th>2017</th>\n",
       "      <td>0.047612</td>\n",
       "      <td>0.030856</td>\n",
       "      <td>0.044094</td>\n",
       "      <td>0.046195</td>\n",
       "      <td>0.048625</td>\n",
       "      <td>0.056751</td>\n",
       "    </tr>\n",
       "  </tbody>\n",
       "</table>\n",
       "</div>"
      ],
      "text/plain": [
       "      Base Pay  Overtime Pay  Other Pay  Total Pay  Total Pay & Benefits  \\\n",
       "Year                                                                       \n",
       "2012  0.028854      0.108570   0.009967   0.032937              0.401438   \n",
       "2013  0.064087      0.051404   0.045582   0.047200              0.008824   \n",
       "2014 -0.043450      0.023404  -0.081789  -0.026981             -0.011027   \n",
       "2015  0.032710      0.037417  -0.108959   0.026467              0.014097   \n",
       "2016  0.034941      0.094404   0.023094   0.038765              0.028067   \n",
       "2017  0.047612      0.030856   0.044094   0.046195              0.048625   \n",
       "\n",
       "      Benefits  \n",
       "Year            \n",
       "2012       NaN  \n",
       "2013 -0.098748  \n",
       "2014  0.040937  \n",
       "2015 -0.023563  \n",
       "2016 -0.006172  \n",
       "2017  0.056751  "
      ]
     },
     "execution_count": 21,
     "metadata": {},
     "output_type": "execute_result"
    }
   ],
   "source": [
    "annual_change = salaries.groupby('Year').mean()[['Base Pay','Overtime Pay',\n",
    "                                                 'Other Pay','Total Pay','Total Pay & Benefits','Benefits']].pct_change()\n",
    "\n",
    "print('Mean Annual Pay Change (percentage) of San Francisco Public Employees')\n",
    "annual_change[1:]"
   ]
  },
  {
   "cell_type": "code",
   "execution_count": 22,
   "metadata": {},
   "outputs": [
    {
     "data": {
      "application/vnd.plotly.v1+json": {
       "data": [
        {
         "marker": {
          "color": "rgba(255, 153, 51, 0.6)",
          "line": {
           "color": "rgba(255, 153, 51, 1.0)",
           "width": 1
          }
         },
         "name": "Base Pay",
         "orientation": "v",
         "text": "",
         "type": "bar",
         "x": [
          2012,
          2013,
          2014,
          2015,
          2016,
          2017
         ],
         "y": [
          0.0288543703967723,
          0.06408700539129564,
          -0.04344994274148939,
          0.032710488541142,
          0.034940759689447765,
          0.04761210680375383
         ]
        },
        {
         "marker": {
          "color": "rgba(55, 128, 191, 0.6)",
          "line": {
           "color": "rgba(55, 128, 191, 1.0)",
           "width": 1
          }
         },
         "name": "Overtime Pay",
         "orientation": "v",
         "text": "",
         "type": "bar",
         "x": [
          2012,
          2013,
          2014,
          2015,
          2016,
          2017
         ],
         "y": [
          0.10856952436450706,
          0.0514040767497177,
          0.023404302387773468,
          0.037416996587423146,
          0.09440354578662546,
          0.030856020259621086
         ]
        },
        {
         "marker": {
          "color": "rgba(50, 171, 96, 0.6)",
          "line": {
           "color": "rgba(50, 171, 96, 1.0)",
           "width": 1
          }
         },
         "name": "Other Pay",
         "orientation": "v",
         "text": "",
         "type": "bar",
         "x": [
          2012,
          2013,
          2014,
          2015,
          2016,
          2017
         ],
         "y": [
          0.009967300655129074,
          0.04558211811269963,
          -0.08178898832431758,
          -0.10895906800435573,
          0.02309422924211124,
          0.044094452768228765
         ]
        },
        {
         "marker": {
          "color": "rgba(128, 0, 128, 0.6)",
          "line": {
           "color": "rgba(128, 0, 128, 1.0)",
           "width": 1
          }
         },
         "name": "Total Pay",
         "orientation": "v",
         "text": "",
         "type": "bar",
         "x": [
          2012,
          2013,
          2014,
          2015,
          2016,
          2017
         ],
         "y": [
          0.03293663617018261,
          0.04720047087391821,
          -0.026981085968071028,
          0.02646727297413154,
          0.038764648612267694,
          0.04619536154489756
         ]
        },
        {
         "marker": {
          "color": "rgba(219, 64, 82, 0.6)",
          "line": {
           "color": "rgba(219, 64, 82, 1.0)",
           "width": 1
          }
         },
         "name": "Total Pay & Benefits",
         "orientation": "v",
         "text": "",
         "type": "bar",
         "x": [
          2012,
          2013,
          2014,
          2015,
          2016,
          2017
         ],
         "y": [
          0.40143762647817294,
          0.008824087386061441,
          -0.011026653017439325,
          0.014097326768976348,
          0.028066798673310744,
          0.04862458381867807
         ]
        },
        {
         "marker": {
          "color": "rgba(0, 128, 128, 0.6)",
          "line": {
           "color": "rgba(0, 128, 128, 1.0)",
           "width": 1
          }
         },
         "name": "Benefits",
         "orientation": "v",
         "text": "",
         "type": "bar",
         "x": [
          2012,
          2013,
          2014,
          2015,
          2016,
          2017
         ],
         "y": [
          "",
          -0.09874786902895694,
          0.040937029337710706,
          -0.023562921741444254,
          -0.0061715426335667845,
          0.056750815552439215
         ]
        }
       ],
       "layout": {
        "legend": {
         "bgcolor": "#F5F6F9",
         "font": {
          "color": "#4D5663"
         }
        },
        "paper_bgcolor": "#F5F6F9",
        "plot_bgcolor": "#F5F6F9",
        "title": "Mean Salary Percentage Change 2011 - 2017 (by Salary Type)",
        "titlefont": {
         "color": "#4D5663"
        },
        "xaxis1": {
         "gridcolor": "#E1E5ED",
         "showgrid": true,
         "tickfont": {
          "color": "#4D5663"
         },
         "title": "Year",
         "titlefont": {
          "color": "#4D5663"
         },
         "zerolinecolor": "#E1E5ED"
        },
        "yaxis1": {
         "gridcolor": "#E1E5ED",
         "showgrid": true,
         "tickfont": {
          "color": "#4D5663"
         },
         "title": "Percentage Change",
         "titlefont": {
          "color": "#4D5663"
         },
         "zerolinecolor": "#E1E5ED"
        }
       }
      },
      "text/html": [
       "<div id=\"1e5b8b11-f12b-402a-a8a4-ba36875fc138\" style=\"height: 525px; width: 100%;\" class=\"plotly-graph-div\"></div><script type=\"text/javascript\">require([\"plotly\"], function(Plotly) { window.PLOTLYENV=window.PLOTLYENV || {};window.PLOTLYENV.BASE_URL=\"https://plot.ly\";Plotly.newPlot(\"1e5b8b11-f12b-402a-a8a4-ba36875fc138\", [{\"type\": \"bar\", \"x\": [2012, 2013, 2014, 2015, 2016, 2017], \"y\": [0.0288543703967723, 0.06408700539129564, -0.04344994274148939, 0.032710488541142, 0.034940759689447765, 0.04761210680375383], \"name\": \"Base Pay\", \"text\": \"\", \"marker\": {\"color\": \"rgba(255, 153, 51, 0.6)\", \"line\": {\"color\": \"rgba(255, 153, 51, 1.0)\", \"width\": 1}}, \"orientation\": \"v\"}, {\"type\": \"bar\", \"x\": [2012, 2013, 2014, 2015, 2016, 2017], \"y\": [0.10856952436450706, 0.0514040767497177, 0.023404302387773468, 0.037416996587423146, 0.09440354578662546, 0.030856020259621086], \"name\": \"Overtime Pay\", \"text\": \"\", \"marker\": {\"color\": \"rgba(55, 128, 191, 0.6)\", \"line\": {\"color\": \"rgba(55, 128, 191, 1.0)\", \"width\": 1}}, \"orientation\": \"v\"}, {\"type\": \"bar\", \"x\": [2012, 2013, 2014, 2015, 2016, 2017], \"y\": [0.009967300655129074, 0.04558211811269963, -0.08178898832431758, -0.10895906800435573, 0.02309422924211124, 0.044094452768228765], \"name\": \"Other Pay\", \"text\": \"\", \"marker\": {\"color\": \"rgba(50, 171, 96, 0.6)\", \"line\": {\"color\": \"rgba(50, 171, 96, 1.0)\", \"width\": 1}}, \"orientation\": \"v\"}, {\"type\": \"bar\", \"x\": [2012, 2013, 2014, 2015, 2016, 2017], \"y\": [0.03293663617018261, 0.04720047087391821, -0.026981085968071028, 0.02646727297413154, 0.038764648612267694, 0.04619536154489756], \"name\": \"Total Pay\", \"text\": \"\", \"marker\": {\"color\": \"rgba(128, 0, 128, 0.6)\", \"line\": {\"color\": \"rgba(128, 0, 128, 1.0)\", \"width\": 1}}, \"orientation\": \"v\"}, {\"type\": \"bar\", \"x\": [2012, 2013, 2014, 2015, 2016, 2017], \"y\": [0.40143762647817294, 0.008824087386061441, -0.011026653017439325, 0.014097326768976348, 0.028066798673310744, 0.04862458381867807], \"name\": \"Total Pay & Benefits\", \"text\": \"\", \"marker\": {\"color\": \"rgba(219, 64, 82, 0.6)\", \"line\": {\"color\": \"rgba(219, 64, 82, 1.0)\", \"width\": 1}}, \"orientation\": \"v\"}, {\"type\": \"bar\", \"x\": [2012, 2013, 2014, 2015, 2016, 2017], \"y\": [\"\", -0.09874786902895694, 0.040937029337710706, -0.023562921741444254, -0.0061715426335667845, 0.056750815552439215], \"name\": \"Benefits\", \"text\": \"\", \"marker\": {\"color\": \"rgba(0, 128, 128, 0.6)\", \"line\": {\"color\": \"rgba(0, 128, 128, 1.0)\", \"width\": 1}}, \"orientation\": \"v\"}], {\"legend\": {\"bgcolor\": \"#F5F6F9\", \"font\": {\"color\": \"#4D5663\"}}, \"paper_bgcolor\": \"#F5F6F9\", \"plot_bgcolor\": \"#F5F6F9\", \"yaxis1\": {\"tickfont\": {\"color\": \"#4D5663\"}, \"gridcolor\": \"#E1E5ED\", \"titlefont\": {\"color\": \"#4D5663\"}, \"zerolinecolor\": \"#E1E5ED\", \"showgrid\": true, \"title\": \"Percentage Change\"}, \"xaxis1\": {\"tickfont\": {\"color\": \"#4D5663\"}, \"gridcolor\": \"#E1E5ED\", \"titlefont\": {\"color\": \"#4D5663\"}, \"zerolinecolor\": \"#E1E5ED\", \"showgrid\": true, \"title\": \"Year\"}, \"titlefont\": {\"color\": \"#4D5663\"}, \"title\": \"Mean Salary Percentage Change 2011 - 2017 (by Salary Type)\"}, {\"showLink\": true, \"linkText\": \"Export to plot.ly\"})});</script>"
      ],
      "text/vnd.plotly.v1+html": [
       "<div id=\"1e5b8b11-f12b-402a-a8a4-ba36875fc138\" style=\"height: 525px; width: 100%;\" class=\"plotly-graph-div\"></div><script type=\"text/javascript\">require([\"plotly\"], function(Plotly) { window.PLOTLYENV=window.PLOTLYENV || {};window.PLOTLYENV.BASE_URL=\"https://plot.ly\";Plotly.newPlot(\"1e5b8b11-f12b-402a-a8a4-ba36875fc138\", [{\"type\": \"bar\", \"x\": [2012, 2013, 2014, 2015, 2016, 2017], \"y\": [0.0288543703967723, 0.06408700539129564, -0.04344994274148939, 0.032710488541142, 0.034940759689447765, 0.04761210680375383], \"name\": \"Base Pay\", \"text\": \"\", \"marker\": {\"color\": \"rgba(255, 153, 51, 0.6)\", \"line\": {\"color\": \"rgba(255, 153, 51, 1.0)\", \"width\": 1}}, \"orientation\": \"v\"}, {\"type\": \"bar\", \"x\": [2012, 2013, 2014, 2015, 2016, 2017], \"y\": [0.10856952436450706, 0.0514040767497177, 0.023404302387773468, 0.037416996587423146, 0.09440354578662546, 0.030856020259621086], \"name\": \"Overtime Pay\", \"text\": \"\", \"marker\": {\"color\": \"rgba(55, 128, 191, 0.6)\", \"line\": {\"color\": \"rgba(55, 128, 191, 1.0)\", \"width\": 1}}, \"orientation\": \"v\"}, {\"type\": \"bar\", \"x\": [2012, 2013, 2014, 2015, 2016, 2017], \"y\": [0.009967300655129074, 0.04558211811269963, -0.08178898832431758, -0.10895906800435573, 0.02309422924211124, 0.044094452768228765], \"name\": \"Other Pay\", \"text\": \"\", \"marker\": {\"color\": \"rgba(50, 171, 96, 0.6)\", \"line\": {\"color\": \"rgba(50, 171, 96, 1.0)\", \"width\": 1}}, \"orientation\": \"v\"}, {\"type\": \"bar\", \"x\": [2012, 2013, 2014, 2015, 2016, 2017], \"y\": [0.03293663617018261, 0.04720047087391821, -0.026981085968071028, 0.02646727297413154, 0.038764648612267694, 0.04619536154489756], \"name\": \"Total Pay\", \"text\": \"\", \"marker\": {\"color\": \"rgba(128, 0, 128, 0.6)\", \"line\": {\"color\": \"rgba(128, 0, 128, 1.0)\", \"width\": 1}}, \"orientation\": \"v\"}, {\"type\": \"bar\", \"x\": [2012, 2013, 2014, 2015, 2016, 2017], \"y\": [0.40143762647817294, 0.008824087386061441, -0.011026653017439325, 0.014097326768976348, 0.028066798673310744, 0.04862458381867807], \"name\": \"Total Pay & Benefits\", \"text\": \"\", \"marker\": {\"color\": \"rgba(219, 64, 82, 0.6)\", \"line\": {\"color\": \"rgba(219, 64, 82, 1.0)\", \"width\": 1}}, \"orientation\": \"v\"}, {\"type\": \"bar\", \"x\": [2012, 2013, 2014, 2015, 2016, 2017], \"y\": [\"\", -0.09874786902895694, 0.040937029337710706, -0.023562921741444254, -0.0061715426335667845, 0.056750815552439215], \"name\": \"Benefits\", \"text\": \"\", \"marker\": {\"color\": \"rgba(0, 128, 128, 0.6)\", \"line\": {\"color\": \"rgba(0, 128, 128, 1.0)\", \"width\": 1}}, \"orientation\": \"v\"}], {\"legend\": {\"bgcolor\": \"#F5F6F9\", \"font\": {\"color\": \"#4D5663\"}}, \"paper_bgcolor\": \"#F5F6F9\", \"plot_bgcolor\": \"#F5F6F9\", \"yaxis1\": {\"tickfont\": {\"color\": \"#4D5663\"}, \"gridcolor\": \"#E1E5ED\", \"titlefont\": {\"color\": \"#4D5663\"}, \"zerolinecolor\": \"#E1E5ED\", \"showgrid\": true, \"title\": \"Percentage Change\"}, \"xaxis1\": {\"tickfont\": {\"color\": \"#4D5663\"}, \"gridcolor\": \"#E1E5ED\", \"titlefont\": {\"color\": \"#4D5663\"}, \"zerolinecolor\": \"#E1E5ED\", \"showgrid\": true, \"title\": \"Year\"}, \"titlefont\": {\"color\": \"#4D5663\"}, \"title\": \"Mean Salary Percentage Change 2011 - 2017 (by Salary Type)\"}, {\"showLink\": true, \"linkText\": \"Export to plot.ly\"})});</script>"
      ]
     },
     "metadata": {},
     "output_type": "display_data"
    }
   ],
   "source": [
    "annual_change[1:].iplot('bar',title='Mean Salary Percentage Change 2011 - 2017 (by Salary Type)',\n",
    "                       xTitle='Year',yTitle='Percentage Change')"
   ]
  },
  {
   "cell_type": "markdown",
   "metadata": {},
   "source": [
    "### What is the highest amount of Overtime Pay in the dataset? Which Job Title and who was the person?"
   ]
  },
  {
   "cell_type": "code",
   "execution_count": 23,
   "metadata": {
    "scrolled": true
   },
   "outputs": [
    {
     "data": {
      "text/plain": [
       "Job Title              ZOO CURATOR\n",
       "Employee Name    Zykeill J Council\n",
       "Overtime Pay                273077\n",
       "dtype: object"
      ]
     },
     "execution_count": 23,
     "metadata": {},
     "output_type": "execute_result"
    }
   ],
   "source": [
    "salaries.max()[['Job Title','Employee Name','Overtime Pay']]"
   ]
  },
  {
   "cell_type": "markdown",
   "metadata": {},
   "source": [
    "### Who is the highest paid person?"
   ]
  },
  {
   "cell_type": "code",
   "execution_count": 24,
   "metadata": {
    "scrolled": true
   },
   "outputs": [
    {
     "data": {
      "text/html": [
       "<div>\n",
       "<style scoped>\n",
       "    .dataframe tbody tr th:only-of-type {\n",
       "        vertical-align: middle;\n",
       "    }\n",
       "\n",
       "    .dataframe tbody tr th {\n",
       "        vertical-align: top;\n",
       "    }\n",
       "\n",
       "    .dataframe thead th {\n",
       "        text-align: right;\n",
       "    }\n",
       "</style>\n",
       "<table border=\"1\" class=\"dataframe\">\n",
       "  <thead>\n",
       "    <tr style=\"text-align: right;\">\n",
       "      <th></th>\n",
       "      <th>Agency</th>\n",
       "      <th>Base Pay</th>\n",
       "      <th>Benefits</th>\n",
       "      <th>Employee Name</th>\n",
       "      <th>Job Title</th>\n",
       "      <th>Other Pay</th>\n",
       "      <th>Overtime Pay</th>\n",
       "      <th>Status</th>\n",
       "      <th>Total Pay</th>\n",
       "      <th>Total Pay &amp; Benefits</th>\n",
       "      <th>Year</th>\n",
       "    </tr>\n",
       "  </thead>\n",
       "  <tbody>\n",
       "    <tr>\n",
       "      <th>0</th>\n",
       "      <td>San Francisco</td>\n",
       "      <td>545294.86</td>\n",
       "      <td>120885.28</td>\n",
       "      <td>William J Coaker Jr.</td>\n",
       "      <td>Chief Investment Officer</td>\n",
       "      <td>0.0</td>\n",
       "      <td>0.0</td>\n",
       "      <td>FT</td>\n",
       "      <td>545294.86</td>\n",
       "      <td>666180.14</td>\n",
       "      <td>2017</td>\n",
       "    </tr>\n",
       "  </tbody>\n",
       "</table>\n",
       "</div>"
      ],
      "text/plain": [
       "          Agency   Base Pay   Benefits         Employee Name  \\\n",
       "0  San Francisco  545294.86  120885.28  William J Coaker Jr.   \n",
       "\n",
       "                  Job Title  Other Pay  Overtime Pay Status  Total Pay  \\\n",
       "0  Chief Investment Officer        0.0           0.0     FT  545294.86   \n",
       "\n",
       "   Total Pay & Benefits  Year  \n",
       "0             666180.14  2017  "
      ]
     },
     "execution_count": 24,
     "metadata": {},
     "output_type": "execute_result"
    }
   ],
   "source": [
    "salaries[salaries['Total Pay & Benefits']== salaries['Total Pay & Benefits'].max()]"
   ]
  },
  {
   "cell_type": "markdown",
   "metadata": {},
   "source": [
    "### Who is the lowest paid person?"
   ]
  },
  {
   "cell_type": "code",
   "execution_count": 25,
   "metadata": {
    "scrolled": true
   },
   "outputs": [
    {
     "data": {
      "text/html": [
       "<div>\n",
       "<style scoped>\n",
       "    .dataframe tbody tr th:only-of-type {\n",
       "        vertical-align: middle;\n",
       "    }\n",
       "\n",
       "    .dataframe tbody tr th {\n",
       "        vertical-align: top;\n",
       "    }\n",
       "\n",
       "    .dataframe thead th {\n",
       "        text-align: right;\n",
       "    }\n",
       "</style>\n",
       "<table border=\"1\" class=\"dataframe\">\n",
       "  <thead>\n",
       "    <tr style=\"text-align: right;\">\n",
       "      <th></th>\n",
       "      <th>Agency</th>\n",
       "      <th>Base Pay</th>\n",
       "      <th>Benefits</th>\n",
       "      <th>Employee Name</th>\n",
       "      <th>Job Title</th>\n",
       "      <th>Other Pay</th>\n",
       "      <th>Overtime Pay</th>\n",
       "      <th>Status</th>\n",
       "      <th>Total Pay</th>\n",
       "      <th>Total Pay &amp; Benefits</th>\n",
       "      <th>Year</th>\n",
       "    </tr>\n",
       "  </thead>\n",
       "  <tbody>\n",
       "    <tr>\n",
       "      <th>41565</th>\n",
       "      <td>San Francisco</td>\n",
       "      <td>0.0</td>\n",
       "      <td>-3628.78</td>\n",
       "      <td>Melinda R Valle</td>\n",
       "      <td>Medical Evaluations Assistant</td>\n",
       "      <td>0.0</td>\n",
       "      <td>0.0</td>\n",
       "      <td>PT</td>\n",
       "      <td>0.0</td>\n",
       "      <td>-3628.78</td>\n",
       "      <td>2017</td>\n",
       "    </tr>\n",
       "  </tbody>\n",
       "</table>\n",
       "</div>"
      ],
      "text/plain": [
       "              Agency  Base Pay  Benefits    Employee Name  \\\n",
       "41565  San Francisco       0.0  -3628.78  Melinda R Valle   \n",
       "\n",
       "                           Job Title  Other Pay  Overtime Pay Status  \\\n",
       "41565  Medical Evaluations Assistant        0.0           0.0     PT   \n",
       "\n",
       "       Total Pay  Total Pay & Benefits  Year  \n",
       "41565        0.0              -3628.78  2017  "
      ]
     },
     "execution_count": 25,
     "metadata": {},
     "output_type": "execute_result"
    }
   ],
   "source": [
    "salaries[salaries['Total Pay & Benefits']== salaries['Total Pay & Benefits'].min()]"
   ]
  },
  {
   "cell_type": "markdown",
   "metadata": {},
   "source": [
    "### How many unique job titles are present in the dataset?"
   ]
  },
  {
   "cell_type": "code",
   "execution_count": 26,
   "metadata": {
    "scrolled": true
   },
   "outputs": [
    {
     "data": {
      "text/plain": [
       "2254"
      ]
     },
     "execution_count": 26,
     "metadata": {},
     "output_type": "execute_result"
    }
   ],
   "source": [
    "salaries['Job Title'].nunique()"
   ]
  },
  {
   "cell_type": "markdown",
   "metadata": {},
   "source": [
    "### What about by year?"
   ]
  },
  {
   "cell_type": "code",
   "execution_count": 27,
   "metadata": {},
   "outputs": [
    {
     "data": {
      "text/plain": [
       "Year\n",
       "2011    1045\n",
       "2012    1044\n",
       "2013    1051\n",
       "2014     996\n",
       "2015    1010\n",
       "2016    1008\n",
       "2017    1017\n",
       "Name: Job Title, dtype: int64"
      ]
     },
     "execution_count": 27,
     "metadata": {},
     "output_type": "execute_result"
    }
   ],
   "source": [
    "salaries.groupby('Year')['Job Title'].nunique()"
   ]
  },
  {
   "cell_type": "markdown",
   "metadata": {},
   "source": [
    "** Notes: \n",
    "From above we see that on average there are over 1000 distinct job titles in the data set. \n",
    "Also, in 2014 employee layoffs has occured. **"
   ]
  },
  {
   "cell_type": "markdown",
   "metadata": {},
   "source": [
    "### What are the top most common jobs? What is their pay?"
   ]
  },
  {
   "cell_type": "code",
   "execution_count": 28,
   "metadata": {},
   "outputs": [],
   "source": [
    "job_titles = pd.DataFrame()\n",
    "groupby1 = 'Job Title'\n",
    "\n",
    "job_titles['Count'] = salaries['Job Title'].value_counts()\n",
    "job_titles['Median Total Pay'] = salaries.groupby(groupby1)['Total Pay'].median()\n",
    "job_titles['Median TP & Benefits'] = salaries.groupby(groupby1)['Total Pay & Benefits'].median()"
   ]
  },
  {
   "cell_type": "code",
   "execution_count": 29,
   "metadata": {},
   "outputs": [
    {
     "data": {
      "application/vnd.plotly.v1+json": {
       "data": [
        {
         "marker": {
          "color": "rgba(255, 153, 51, 0.6)",
          "line": {
           "color": "rgba(255, 153, 51, 1.0)",
           "width": 1
          }
         },
         "name": "Count",
         "orientation": "v",
         "text": "",
         "type": "bar",
         "x": [
          "Transit Operator",
          "Special Nurse",
          "Registered Nurse",
          "Firefighter",
          "Custodian",
          "Police Officer 3",
          "Public Svc Aide-Public Works",
          "Public Service Trainee",
          "Recreation Leader",
          "Patient Care Assistant",
          "Deputy Sheriff",
          "Police Officer",
          "TRANSIT OPERATOR",
          "Police Officer 2",
          "Attorney (Civil/Criminal)",
          "Sergeant 3",
          "Porter",
          "General Laborer",
          "HSA Sr Eligibility Worker",
          "EMT/Paramedic/Firefighter",
          "Senior Clerk",
          "Parking Control Officer",
          "Gardener",
          "Clerk",
          "Library Page",
          "Senior Administrative Analyst",
          "SPECIAL NURSE",
          "Licensed Vocational Nurse",
          "Medical Evaluations Assistant",
          "Nurse Practitioner",
          "Transit Supervisor",
          "Stationary Engineer",
          "Electrical Transit System Mech",
          "Senior Clerk Typist",
          "Protective Services Worker",
          "School Crossing Guard",
          "Community Police Services Aide",
          "REGISTERED NURSE",
          "Lieutenant, Fire Suppression",
          "Junior Clerk",
          "Pr Administrative Analyst",
          "Librarian 1",
          "Museum Guard",
          "Assoc Engineer",
          "Food Service Worker",
          "Truck Driver",
          "Publ Svc Aide-Asst to Prof",
          "PS Aide to Prof",
          "Public SafetyComm Disp",
          "StdntDsgnTrain1, Arch/Eng/Plng"
         ],
         "xaxis": "x1",
         "y": [
          15254,
          9224,
          7804,
          4977,
          4902,
          4621,
          4317,
          4055,
          4022,
          3625,
          3611,
          3575,
          2387,
          2327,
          2298,
          2292,
          2236,
          2117,
          2106,
          2031,
          1837,
          1802,
          1787,
          1614,
          1577,
          1421,
          1402,
          1365,
          1353,
          1343,
          1342,
          1342,
          1330,
          1288,
          1257,
          1238,
          1228,
          1219,
          1154,
          1134,
          1129,
          1128,
          1123,
          1105,
          1103,
          1079,
          1064,
          1017,
          998,
          994
         ],
         "yaxis": "y2"
        },
        {
         "marker": {
          "color": "rgba(55, 128, 191, 0.6)",
          "line": {
           "color": "rgba(55, 128, 191, 1.0)",
           "width": 1
          }
         },
         "name": "Median Total Pay",
         "orientation": "v",
         "text": "",
         "type": "bar",
         "x": [
          "Transit Operator",
          "Special Nurse",
          "Registered Nurse",
          "Firefighter",
          "Custodian",
          "Police Officer 3",
          "Public Svc Aide-Public Works",
          "Public Service Trainee",
          "Recreation Leader",
          "Patient Care Assistant",
          "Deputy Sheriff",
          "Police Officer",
          "TRANSIT OPERATOR",
          "Police Officer 2",
          "Attorney (Civil/Criminal)",
          "Sergeant 3",
          "Porter",
          "General Laborer",
          "HSA Sr Eligibility Worker",
          "EMT/Paramedic/Firefighter",
          "Senior Clerk",
          "Parking Control Officer",
          "Gardener",
          "Clerk",
          "Library Page",
          "Senior Administrative Analyst",
          "SPECIAL NURSE",
          "Licensed Vocational Nurse",
          "Medical Evaluations Assistant",
          "Nurse Practitioner",
          "Transit Supervisor",
          "Stationary Engineer",
          "Electrical Transit System Mech",
          "Senior Clerk Typist",
          "Protective Services Worker",
          "School Crossing Guard",
          "Community Police Services Aide",
          "REGISTERED NURSE",
          "Lieutenant, Fire Suppression",
          "Junior Clerk",
          "Pr Administrative Analyst",
          "Librarian 1",
          "Museum Guard",
          "Assoc Engineer",
          "Food Service Worker",
          "Truck Driver",
          "Publ Svc Aide-Asst to Prof",
          "PS Aide to Prof",
          "Public SafetyComm Disp",
          "StdntDsgnTrain1, Arch/Eng/Plng"
         ],
         "y": [
          72222.65,
          22032.760000000002,
          129535.16500000001,
          145629.6,
          56710.66,
          140326.03,
          7032.15,
          3657.2,
          6017.655000000001,
          58511.98,
          117304.84,
          99231.28,
          70134.52,
          137710.82,
          157119.075,
          168313.16999999998,
          55593,
          63589.28,
          71052.64000000001,
          129595.73,
          52210.14,
          63461.19,
          64495.81,
          45736.265,
          24375.96,
          93236,
          20311.48,
          74682.43,
          56970.24,
          111596.75,
          104706.20000000001,
          91872.615,
          108781.89499999999,
          60436.515,
          95229.06,
          8008.46,
          72916.57,
          114009.05,
          180475.35499999998,
          3059.5,
          112625.23,
          59361.57,
          21670.11,
          114386,
          41011.5,
          82398.6,
          9189.67,
          16624.7,
          101188.67,
          11919.895
         ]
        },
        {
         "marker": {
          "color": "rgba(50, 171, 96, 0.6)",
          "line": {
           "color": "rgba(50, 171, 96, 1.0)",
           "width": 1
          }
         },
         "name": "Median TP & Benefits",
         "orientation": "v",
         "text": "",
         "type": "bar",
         "x": [
          "Transit Operator",
          "Special Nurse",
          "Registered Nurse",
          "Firefighter",
          "Custodian",
          "Police Officer 3",
          "Public Svc Aide-Public Works",
          "Public Service Trainee",
          "Recreation Leader",
          "Patient Care Assistant",
          "Deputy Sheriff",
          "Police Officer",
          "TRANSIT OPERATOR",
          "Police Officer 2",
          "Attorney (Civil/Criminal)",
          "Sergeant 3",
          "Porter",
          "General Laborer",
          "HSA Sr Eligibility Worker",
          "EMT/Paramedic/Firefighter",
          "Senior Clerk",
          "Parking Control Officer",
          "Gardener",
          "Clerk",
          "Library Page",
          "Senior Administrative Analyst",
          "SPECIAL NURSE",
          "Licensed Vocational Nurse",
          "Medical Evaluations Assistant",
          "Nurse Practitioner",
          "Transit Supervisor",
          "Stationary Engineer",
          "Electrical Transit System Mech",
          "Senior Clerk Typist",
          "Protective Services Worker",
          "School Crossing Guard",
          "Community Police Services Aide",
          "REGISTERED NURSE",
          "Lieutenant, Fire Suppression",
          "Junior Clerk",
          "Pr Administrative Analyst",
          "Librarian 1",
          "Museum Guard",
          "Assoc Engineer",
          "Food Service Worker",
          "Truck Driver",
          "Publ Svc Aide-Asst to Prof",
          "PS Aide to Prof",
          "Public SafetyComm Disp",
          "StdntDsgnTrain1, Arch/Eng/Plng"
         ],
         "y": [
          103600.895,
          25578.93,
          168616.76,
          185851.82,
          82546.8,
          176955.68,
          7615.6,
          4181.6,
          6584.395,
          83227.59,
          155826.86,
          130483.39,
          70134.52,
          174111.41,
          202957.51,
          209290.36,
          81249.01,
          90228.21,
          98119.83,
          164819.83,
          78008.4,
          89626.33,
          91437.07,
          69671.1,
          37236.19,
          127109.31,
          20311.48,
          102852.7,
          82224.07,
          144505.96,
          137992.815,
          123755.73,
          142750.21000000002,
          86644.64,
          128844.87,
          8419.995,
          101148.73,
          114009.05,
          224291.18,
          3198.0299999999997,
          149567.55,
          81922.39,
          23199.33,
          151086.33,
          56769.76,
          113311.37,
          9793.45,
          18114.42,
          134470.60499999998,
          12845.07
         ]
        }
       ],
       "layout": {
        "legend": {
         "bgcolor": "#F5F6F9",
         "font": {
          "color": "#4D5663"
         }
        },
        "paper_bgcolor": "#F5F6F9",
        "plot_bgcolor": "#F5F6F9",
        "title": "Most Common Job Titles and Associated Pay",
        "titlefont": {
         "color": "#4D5663"
        },
        "xaxis1": {
         "gridcolor": "#E1E5ED",
         "showgrid": true,
         "tickfont": {
          "color": "#4D5663"
         },
         "title": "",
         "titlefont": {
          "color": "#4D5663"
         },
         "zerolinecolor": "#E1E5ED"
        },
        "yaxis1": {
         "gridcolor": "#E1E5ED",
         "showgrid": true,
         "tickfont": {
          "color": "#4D5663"
         },
         "title": "Number of Employees",
         "titlefont": {
          "color": "#4D5663"
         },
         "zerolinecolor": "#E1E5ED"
        },
        "yaxis2": {
         "anchor": "x1",
         "gridcolor": "#E1E5ED",
         "overlaying": "y1",
         "showgrid": true,
         "side": "right",
         "tickfont": {
          "color": "#4D5663"
         },
         "title": "Median Salary",
         "titlefont": {
          "color": "#4D5663"
         },
         "zerolinecolor": "#E1E5ED"
        }
       }
      },
      "text/html": [
       "<div id=\"c20da3cd-0f64-466f-959e-fd905848308c\" style=\"height: 525px; width: 100%;\" class=\"plotly-graph-div\"></div><script type=\"text/javascript\">require([\"plotly\"], function(Plotly) { window.PLOTLYENV=window.PLOTLYENV || {};window.PLOTLYENV.BASE_URL=\"https://plot.ly\";Plotly.newPlot(\"c20da3cd-0f64-466f-959e-fd905848308c\", [{\"type\": \"bar\", \"x\": [\"Transit Operator\", \"Special Nurse\", \"Registered Nurse\", \"Firefighter\", \"Custodian\", \"Police Officer 3\", \"Public Svc Aide-Public Works\", \"Public Service Trainee\", \"Recreation Leader\", \"Patient Care Assistant\", \"Deputy Sheriff\", \"Police Officer\", \"TRANSIT OPERATOR\", \"Police Officer 2\", \"Attorney (Civil/Criminal)\", \"Sergeant 3\", \"Porter\", \"General Laborer\", \"HSA Sr Eligibility Worker\", \"EMT/Paramedic/Firefighter\", \"Senior Clerk\", \"Parking Control Officer\", \"Gardener\", \"Clerk\", \"Library Page\", \"Senior Administrative Analyst\", \"SPECIAL NURSE\", \"Licensed Vocational Nurse\", \"Medical Evaluations Assistant\", \"Nurse Practitioner\", \"Transit Supervisor\", \"Stationary Engineer\", \"Electrical Transit System Mech\", \"Senior Clerk Typist\", \"Protective Services Worker\", \"School Crossing Guard\", \"Community Police Services Aide\", \"REGISTERED NURSE\", \"Lieutenant, Fire Suppression\", \"Junior Clerk\", \"Pr Administrative Analyst\", \"Librarian 1\", \"Museum Guard\", \"Assoc Engineer\", \"Food Service Worker\", \"Truck Driver\", \"Publ Svc Aide-Asst to Prof\", \"PS Aide to Prof\", \"Public SafetyComm Disp\", \"StdntDsgnTrain1, Arch/Eng/Plng\"], \"y\": [15254, 9224, 7804, 4977, 4902, 4621, 4317, 4055, 4022, 3625, 3611, 3575, 2387, 2327, 2298, 2292, 2236, 2117, 2106, 2031, 1837, 1802, 1787, 1614, 1577, 1421, 1402, 1365, 1353, 1343, 1342, 1342, 1330, 1288, 1257, 1238, 1228, 1219, 1154, 1134, 1129, 1128, 1123, 1105, 1103, 1079, 1064, 1017, 998, 994], \"name\": \"Count\", \"text\": \"\", \"marker\": {\"color\": \"rgba(255, 153, 51, 0.6)\", \"line\": {\"color\": \"rgba(255, 153, 51, 1.0)\", \"width\": 1}}, \"orientation\": \"v\", \"xaxis\": \"x1\", \"yaxis\": \"y2\"}, {\"type\": \"bar\", \"x\": [\"Transit Operator\", \"Special Nurse\", \"Registered Nurse\", \"Firefighter\", \"Custodian\", \"Police Officer 3\", \"Public Svc Aide-Public Works\", \"Public Service Trainee\", \"Recreation Leader\", \"Patient Care Assistant\", \"Deputy Sheriff\", \"Police Officer\", \"TRANSIT OPERATOR\", \"Police Officer 2\", \"Attorney (Civil/Criminal)\", \"Sergeant 3\", \"Porter\", \"General Laborer\", \"HSA Sr Eligibility Worker\", \"EMT/Paramedic/Firefighter\", \"Senior Clerk\", \"Parking Control Officer\", \"Gardener\", \"Clerk\", \"Library Page\", \"Senior Administrative Analyst\", \"SPECIAL NURSE\", \"Licensed Vocational Nurse\", \"Medical Evaluations Assistant\", \"Nurse Practitioner\", \"Transit Supervisor\", \"Stationary Engineer\", \"Electrical Transit System Mech\", \"Senior Clerk Typist\", \"Protective Services Worker\", \"School Crossing Guard\", \"Community Police Services Aide\", \"REGISTERED NURSE\", \"Lieutenant, Fire Suppression\", \"Junior Clerk\", \"Pr Administrative Analyst\", \"Librarian 1\", \"Museum Guard\", \"Assoc Engineer\", \"Food Service Worker\", \"Truck Driver\", \"Publ Svc Aide-Asst to Prof\", \"PS Aide to Prof\", \"Public SafetyComm Disp\", \"StdntDsgnTrain1, Arch/Eng/Plng\"], \"y\": [72222.65, 22032.760000000002, 129535.16500000001, 145629.6, 56710.66, 140326.03, 7032.15, 3657.2, 6017.655000000001, 58511.98, 117304.84, 99231.28, 70134.52, 137710.82, 157119.075, 168313.16999999998, 55593.0, 63589.28, 71052.64000000001, 129595.73, 52210.14, 63461.19, 64495.81, 45736.265, 24375.96, 93236.0, 20311.48, 74682.43, 56970.24, 111596.75, 104706.20000000001, 91872.615, 108781.89499999999, 60436.515, 95229.06, 8008.46, 72916.57, 114009.05, 180475.35499999998, 3059.5, 112625.23, 59361.57, 21670.11, 114386.0, 41011.5, 82398.6, 9189.67, 16624.7, 101188.67, 11919.895], \"name\": \"Median Total Pay\", \"text\": \"\", \"marker\": {\"color\": \"rgba(55, 128, 191, 0.6)\", \"line\": {\"color\": \"rgba(55, 128, 191, 1.0)\", \"width\": 1}}, \"orientation\": \"v\"}, {\"type\": \"bar\", \"x\": [\"Transit Operator\", \"Special Nurse\", \"Registered Nurse\", \"Firefighter\", \"Custodian\", \"Police Officer 3\", \"Public Svc Aide-Public Works\", \"Public Service Trainee\", \"Recreation Leader\", \"Patient Care Assistant\", \"Deputy Sheriff\", \"Police Officer\", \"TRANSIT OPERATOR\", \"Police Officer 2\", \"Attorney (Civil/Criminal)\", \"Sergeant 3\", \"Porter\", \"General Laborer\", \"HSA Sr Eligibility Worker\", \"EMT/Paramedic/Firefighter\", \"Senior Clerk\", \"Parking Control Officer\", \"Gardener\", \"Clerk\", \"Library Page\", \"Senior Administrative Analyst\", \"SPECIAL NURSE\", \"Licensed Vocational Nurse\", \"Medical Evaluations Assistant\", \"Nurse Practitioner\", \"Transit Supervisor\", \"Stationary Engineer\", \"Electrical Transit System Mech\", \"Senior Clerk Typist\", \"Protective Services Worker\", \"School Crossing Guard\", \"Community Police Services Aide\", \"REGISTERED NURSE\", \"Lieutenant, Fire Suppression\", \"Junior Clerk\", \"Pr Administrative Analyst\", \"Librarian 1\", \"Museum Guard\", \"Assoc Engineer\", \"Food Service Worker\", \"Truck Driver\", \"Publ Svc Aide-Asst to Prof\", \"PS Aide to Prof\", \"Public SafetyComm Disp\", \"StdntDsgnTrain1, Arch/Eng/Plng\"], \"y\": [103600.895, 25578.93, 168616.76, 185851.82, 82546.8, 176955.68, 7615.6, 4181.6, 6584.395, 83227.59, 155826.86, 130483.39, 70134.52, 174111.41, 202957.51, 209290.36, 81249.01, 90228.21, 98119.83, 164819.83, 78008.4, 89626.33, 91437.07, 69671.1, 37236.19, 127109.31, 20311.48, 102852.7, 82224.07, 144505.96, 137992.815, 123755.73, 142750.21000000002, 86644.64, 128844.87, 8419.995, 101148.73, 114009.05, 224291.18, 3198.0299999999997, 149567.55, 81922.39, 23199.33, 151086.33, 56769.76, 113311.37, 9793.45, 18114.42, 134470.60499999998, 12845.07], \"name\": \"Median TP & Benefits\", \"text\": \"\", \"marker\": {\"color\": \"rgba(50, 171, 96, 0.6)\", \"line\": {\"color\": \"rgba(50, 171, 96, 1.0)\", \"width\": 1}}, \"orientation\": \"v\"}], {\"legend\": {\"bgcolor\": \"#F5F6F9\", \"font\": {\"color\": \"#4D5663\"}}, \"paper_bgcolor\": \"#F5F6F9\", \"plot_bgcolor\": \"#F5F6F9\", \"yaxis1\": {\"tickfont\": {\"color\": \"#4D5663\"}, \"gridcolor\": \"#E1E5ED\", \"titlefont\": {\"color\": \"#4D5663\"}, \"zerolinecolor\": \"#E1E5ED\", \"showgrid\": true, \"title\": \"Number of Employees\"}, \"xaxis1\": {\"tickfont\": {\"color\": \"#4D5663\"}, \"gridcolor\": \"#E1E5ED\", \"titlefont\": {\"color\": \"#4D5663\"}, \"zerolinecolor\": \"#E1E5ED\", \"showgrid\": true, \"title\": \"\"}, \"titlefont\": {\"color\": \"#4D5663\"}, \"title\": \"Most Common Job Titles and Associated Pay\", \"yaxis2\": {\"tickfont\": {\"color\": \"#4D5663\"}, \"gridcolor\": \"#E1E5ED\", \"titlefont\": {\"color\": \"#4D5663\"}, \"zerolinecolor\": \"#E1E5ED\", \"showgrid\": true, \"title\": \"Median Salary\", \"overlaying\": \"y1\", \"side\": \"right\", \"anchor\": \"x1\"}}, {\"showLink\": true, \"linkText\": \"Export to plot.ly\"})});</script>"
      ],
      "text/vnd.plotly.v1+html": [
       "<div id=\"c20da3cd-0f64-466f-959e-fd905848308c\" style=\"height: 525px; width: 100%;\" class=\"plotly-graph-div\"></div><script type=\"text/javascript\">require([\"plotly\"], function(Plotly) { window.PLOTLYENV=window.PLOTLYENV || {};window.PLOTLYENV.BASE_URL=\"https://plot.ly\";Plotly.newPlot(\"c20da3cd-0f64-466f-959e-fd905848308c\", [{\"type\": \"bar\", \"x\": [\"Transit Operator\", \"Special Nurse\", \"Registered Nurse\", \"Firefighter\", \"Custodian\", \"Police Officer 3\", \"Public Svc Aide-Public Works\", \"Public Service Trainee\", \"Recreation Leader\", \"Patient Care Assistant\", \"Deputy Sheriff\", \"Police Officer\", \"TRANSIT OPERATOR\", \"Police Officer 2\", \"Attorney (Civil/Criminal)\", \"Sergeant 3\", \"Porter\", \"General Laborer\", \"HSA Sr Eligibility Worker\", \"EMT/Paramedic/Firefighter\", \"Senior Clerk\", \"Parking Control Officer\", \"Gardener\", \"Clerk\", \"Library Page\", \"Senior Administrative Analyst\", \"SPECIAL NURSE\", \"Licensed Vocational Nurse\", \"Medical Evaluations Assistant\", \"Nurse Practitioner\", \"Transit Supervisor\", \"Stationary Engineer\", \"Electrical Transit System Mech\", \"Senior Clerk Typist\", \"Protective Services Worker\", \"School Crossing Guard\", \"Community Police Services Aide\", \"REGISTERED NURSE\", \"Lieutenant, Fire Suppression\", \"Junior Clerk\", \"Pr Administrative Analyst\", \"Librarian 1\", \"Museum Guard\", \"Assoc Engineer\", \"Food Service Worker\", \"Truck Driver\", \"Publ Svc Aide-Asst to Prof\", \"PS Aide to Prof\", \"Public SafetyComm Disp\", \"StdntDsgnTrain1, Arch/Eng/Plng\"], \"y\": [15254, 9224, 7804, 4977, 4902, 4621, 4317, 4055, 4022, 3625, 3611, 3575, 2387, 2327, 2298, 2292, 2236, 2117, 2106, 2031, 1837, 1802, 1787, 1614, 1577, 1421, 1402, 1365, 1353, 1343, 1342, 1342, 1330, 1288, 1257, 1238, 1228, 1219, 1154, 1134, 1129, 1128, 1123, 1105, 1103, 1079, 1064, 1017, 998, 994], \"name\": \"Count\", \"text\": \"\", \"marker\": {\"color\": \"rgba(255, 153, 51, 0.6)\", \"line\": {\"color\": \"rgba(255, 153, 51, 1.0)\", \"width\": 1}}, \"orientation\": \"v\", \"xaxis\": \"x1\", \"yaxis\": \"y2\"}, {\"type\": \"bar\", \"x\": [\"Transit Operator\", \"Special Nurse\", \"Registered Nurse\", \"Firefighter\", \"Custodian\", \"Police Officer 3\", \"Public Svc Aide-Public Works\", \"Public Service Trainee\", \"Recreation Leader\", \"Patient Care Assistant\", \"Deputy Sheriff\", \"Police Officer\", \"TRANSIT OPERATOR\", \"Police Officer 2\", \"Attorney (Civil/Criminal)\", \"Sergeant 3\", \"Porter\", \"General Laborer\", \"HSA Sr Eligibility Worker\", \"EMT/Paramedic/Firefighter\", \"Senior Clerk\", \"Parking Control Officer\", \"Gardener\", \"Clerk\", \"Library Page\", \"Senior Administrative Analyst\", \"SPECIAL NURSE\", \"Licensed Vocational Nurse\", \"Medical Evaluations Assistant\", \"Nurse Practitioner\", \"Transit Supervisor\", \"Stationary Engineer\", \"Electrical Transit System Mech\", \"Senior Clerk Typist\", \"Protective Services Worker\", \"School Crossing Guard\", \"Community Police Services Aide\", \"REGISTERED NURSE\", \"Lieutenant, Fire Suppression\", \"Junior Clerk\", \"Pr Administrative Analyst\", \"Librarian 1\", \"Museum Guard\", \"Assoc Engineer\", \"Food Service Worker\", \"Truck Driver\", \"Publ Svc Aide-Asst to Prof\", \"PS Aide to Prof\", \"Public SafetyComm Disp\", \"StdntDsgnTrain1, Arch/Eng/Plng\"], \"y\": [72222.65, 22032.760000000002, 129535.16500000001, 145629.6, 56710.66, 140326.03, 7032.15, 3657.2, 6017.655000000001, 58511.98, 117304.84, 99231.28, 70134.52, 137710.82, 157119.075, 168313.16999999998, 55593.0, 63589.28, 71052.64000000001, 129595.73, 52210.14, 63461.19, 64495.81, 45736.265, 24375.96, 93236.0, 20311.48, 74682.43, 56970.24, 111596.75, 104706.20000000001, 91872.615, 108781.89499999999, 60436.515, 95229.06, 8008.46, 72916.57, 114009.05, 180475.35499999998, 3059.5, 112625.23, 59361.57, 21670.11, 114386.0, 41011.5, 82398.6, 9189.67, 16624.7, 101188.67, 11919.895], \"name\": \"Median Total Pay\", \"text\": \"\", \"marker\": {\"color\": \"rgba(55, 128, 191, 0.6)\", \"line\": {\"color\": \"rgba(55, 128, 191, 1.0)\", \"width\": 1}}, \"orientation\": \"v\"}, {\"type\": \"bar\", \"x\": [\"Transit Operator\", \"Special Nurse\", \"Registered Nurse\", \"Firefighter\", \"Custodian\", \"Police Officer 3\", \"Public Svc Aide-Public Works\", \"Public Service Trainee\", \"Recreation Leader\", \"Patient Care Assistant\", \"Deputy Sheriff\", \"Police Officer\", \"TRANSIT OPERATOR\", \"Police Officer 2\", \"Attorney (Civil/Criminal)\", \"Sergeant 3\", \"Porter\", \"General Laborer\", \"HSA Sr Eligibility Worker\", \"EMT/Paramedic/Firefighter\", \"Senior Clerk\", \"Parking Control Officer\", \"Gardener\", \"Clerk\", \"Library Page\", \"Senior Administrative Analyst\", \"SPECIAL NURSE\", \"Licensed Vocational Nurse\", \"Medical Evaluations Assistant\", \"Nurse Practitioner\", \"Transit Supervisor\", \"Stationary Engineer\", \"Electrical Transit System Mech\", \"Senior Clerk Typist\", \"Protective Services Worker\", \"School Crossing Guard\", \"Community Police Services Aide\", \"REGISTERED NURSE\", \"Lieutenant, Fire Suppression\", \"Junior Clerk\", \"Pr Administrative Analyst\", \"Librarian 1\", \"Museum Guard\", \"Assoc Engineer\", \"Food Service Worker\", \"Truck Driver\", \"Publ Svc Aide-Asst to Prof\", \"PS Aide to Prof\", \"Public SafetyComm Disp\", \"StdntDsgnTrain1, Arch/Eng/Plng\"], \"y\": [103600.895, 25578.93, 168616.76, 185851.82, 82546.8, 176955.68, 7615.6, 4181.6, 6584.395, 83227.59, 155826.86, 130483.39, 70134.52, 174111.41, 202957.51, 209290.36, 81249.01, 90228.21, 98119.83, 164819.83, 78008.4, 89626.33, 91437.07, 69671.1, 37236.19, 127109.31, 20311.48, 102852.7, 82224.07, 144505.96, 137992.815, 123755.73, 142750.21000000002, 86644.64, 128844.87, 8419.995, 101148.73, 114009.05, 224291.18, 3198.0299999999997, 149567.55, 81922.39, 23199.33, 151086.33, 56769.76, 113311.37, 9793.45, 18114.42, 134470.60499999998, 12845.07], \"name\": \"Median TP & Benefits\", \"text\": \"\", \"marker\": {\"color\": \"rgba(50, 171, 96, 0.6)\", \"line\": {\"color\": \"rgba(50, 171, 96, 1.0)\", \"width\": 1}}, \"orientation\": \"v\"}], {\"legend\": {\"bgcolor\": \"#F5F6F9\", \"font\": {\"color\": \"#4D5663\"}}, \"paper_bgcolor\": \"#F5F6F9\", \"plot_bgcolor\": \"#F5F6F9\", \"yaxis1\": {\"tickfont\": {\"color\": \"#4D5663\"}, \"gridcolor\": \"#E1E5ED\", \"titlefont\": {\"color\": \"#4D5663\"}, \"zerolinecolor\": \"#E1E5ED\", \"showgrid\": true, \"title\": \"Number of Employees\"}, \"xaxis1\": {\"tickfont\": {\"color\": \"#4D5663\"}, \"gridcolor\": \"#E1E5ED\", \"titlefont\": {\"color\": \"#4D5663\"}, \"zerolinecolor\": \"#E1E5ED\", \"showgrid\": true, \"title\": \"\"}, \"titlefont\": {\"color\": \"#4D5663\"}, \"title\": \"Most Common Job Titles and Associated Pay\", \"yaxis2\": {\"tickfont\": {\"color\": \"#4D5663\"}, \"gridcolor\": \"#E1E5ED\", \"titlefont\": {\"color\": \"#4D5663\"}, \"zerolinecolor\": \"#E1E5ED\", \"showgrid\": true, \"title\": \"Median Salary\", \"overlaying\": \"y1\", \"side\": \"right\", \"anchor\": \"x1\"}}, {\"showLink\": true, \"linkText\": \"Export to plot.ly\"})});</script>"
      ]
     },
     "metadata": {},
     "output_type": "display_data"
    }
   ],
   "source": [
    "job_titles.head(50).iplot('bar',secondary_y='Count',\n",
    "                         title='Most Common Job Titles and Associated Pay',\n",
    "                         secondary_y_title = 'Median Salary',\n",
    "                         yTitle='Number of Employees')"
   ]
  },
  {
   "cell_type": "markdown",
   "metadata": {},
   "source": [
    "### What are the the least 50 common jobs ? What is their pay?"
   ]
  },
  {
   "cell_type": "code",
   "execution_count": 99,
   "metadata": {
    "scrolled": false
   },
   "outputs": [
    {
     "data": {
      "application/vnd.plotly.v1+json": {
       "data": [
        {
         "marker": {
          "color": "rgba(255, 153, 51, 0.6)",
          "line": {
           "color": "rgba(255, 153, 51, 1.0)",
           "width": 1
          }
         },
         "name": "Count",
         "orientation": "v",
         "text": "",
         "type": "bar",
         "x": [
          "ELECTRICAL ENGINEERING ASSOCIATE I",
          "TRAINING TECHNICIAN",
          "Conversion",
          "IS TRAINER - SENIOR",
          "CONFIDENTIAL SECRETARY TO DISTRICT ATTORNEY",
          "CONFIDENTIAL SECRETARY CITY ATTORNEY",
          "TREE TOPPER SUPERVISOR II",
          "CHIEF VICTIM/WITNESS INVESTIGATOR",
          "Microbiologist I/II",
          "SENIOR PHARMACY HELPER",
          "MEDIA PRODUCTION SUPERVISOR",
          "BUILDING SERVICES TECHNICIAN",
          "ORTHOPEDIC TECHNICIAN I",
          "Civil Case Settlmnt Specialist",
          "MUNICIPAL STADIUM GROUNDSKEEPER",
          "COURT SUPERVISOR I",
          "DIRECTOR, JUVENILE HALL",
          "CRANE MECHANIC SUPERVISOR",
          "CHIEF HOUSING INSPECTOR",
          "BARBER",
          "HEAD AIRPORT ELECTRICIAN",
          "Cfdntal Sctry to Distric Atty",
          "ZOO CURATOR",
          "Special Assistant 1",
          "TRANSIT POWER LINE WORKER SUPERVISOR II",
          "MAYORAL STAFF II",
          "Managing Attorney",
          "HUMAN RESOURCES DIRECTOR",
          "INSTITUTIONAL POLICE LIEUTENANT",
          "Chf Distt Atty Inves (SFERS)",
          "TREASURER",
          "PRINCIPAL MUSEUM PREPARATOR",
          "ASSISTANT INDUSTRIAL HYGIENIST",
          "Senior Inventory Clerk",
          "ASSISTANT COURT REPORTER COORDINATOR",
          "SUPERVISING WELFARE FRAUD INVESTIGATOR",
          "LIEUTENANT I, (POLICE DEPARTMENT)",
          "PUBLIC SAFETY COMMUNICATIONS TECHNICIAN",
          "Sheriff's Sergeant (SFERS)",
          "ATTORNEY FOR THE PUBLIC ADMINISTRATOR",
          "Exec Asst to Airport Director",
          "ANIMAL CARE ASSISTANT SUPERVISOR",
          "METAL FABRICATOR",
          "Special Assistant 18",
          "SENIOR FOOD SERVICE SUPERVISOR",
          "MAYORAL STAFF XI",
          "SUPERVISING PARTS STOREKEEPER",
          "Legislative Calendar Clerk",
          "COURT CLERK",
          "DEPUTY SEALER OF WEIGHTS AND MEASURES"
         ],
         "y": [
          1,
          1,
          1,
          1,
          1,
          1,
          1,
          1,
          1,
          1,
          1,
          1,
          1,
          1,
          1,
          1,
          1,
          1,
          1,
          1,
          1,
          1,
          1,
          1,
          1,
          1,
          1,
          1,
          1,
          1,
          1,
          1,
          1,
          1,
          1,
          1,
          1,
          1,
          1,
          1,
          1,
          1,
          1,
          1,
          1,
          1,
          1,
          1,
          1,
          1
         ]
        },
        {
         "marker": {
          "color": "rgba(55, 128, 191, 0.6)",
          "line": {
           "color": "rgba(55, 128, 191, 1.0)",
           "width": 1
          }
         },
         "name": "Median Total Pay",
         "orientation": "v",
         "text": "",
         "type": "bar",
         "x": [
          "ELECTRICAL ENGINEERING ASSOCIATE I",
          "TRAINING TECHNICIAN",
          "Conversion",
          "IS TRAINER - SENIOR",
          "CONFIDENTIAL SECRETARY TO DISTRICT ATTORNEY",
          "CONFIDENTIAL SECRETARY CITY ATTORNEY",
          "TREE TOPPER SUPERVISOR II",
          "CHIEF VICTIM/WITNESS INVESTIGATOR",
          "Microbiologist I/II",
          "SENIOR PHARMACY HELPER",
          "MEDIA PRODUCTION SUPERVISOR",
          "BUILDING SERVICES TECHNICIAN",
          "ORTHOPEDIC TECHNICIAN I",
          "Civil Case Settlmnt Specialist",
          "MUNICIPAL STADIUM GROUNDSKEEPER",
          "COURT SUPERVISOR I",
          "DIRECTOR, JUVENILE HALL",
          "CRANE MECHANIC SUPERVISOR",
          "CHIEF HOUSING INSPECTOR",
          "BARBER",
          "HEAD AIRPORT ELECTRICIAN",
          "Cfdntal Sctry to Distric Atty",
          "ZOO CURATOR",
          "Special Assistant 1",
          "TRANSIT POWER LINE WORKER SUPERVISOR II",
          "MAYORAL STAFF II",
          "Managing Attorney",
          "HUMAN RESOURCES DIRECTOR",
          "INSTITUTIONAL POLICE LIEUTENANT",
          "Chf Distt Atty Inves (SFERS)",
          "TREASURER",
          "PRINCIPAL MUSEUM PREPARATOR",
          "ASSISTANT INDUSTRIAL HYGIENIST",
          "Senior Inventory Clerk",
          "ASSISTANT COURT REPORTER COORDINATOR",
          "SUPERVISING WELFARE FRAUD INVESTIGATOR",
          "LIEUTENANT I, (POLICE DEPARTMENT)",
          "PUBLIC SAFETY COMMUNICATIONS TECHNICIAN",
          "Sheriff's Sergeant (SFERS)",
          "ATTORNEY FOR THE PUBLIC ADMINISTRATOR",
          "Exec Asst to Airport Director",
          "ANIMAL CARE ASSISTANT SUPERVISOR",
          "METAL FABRICATOR",
          "Special Assistant 18",
          "SENIOR FOOD SERVICE SUPERVISOR",
          "MAYORAL STAFF XI",
          "SUPERVISING PARTS STOREKEEPER",
          "Legislative Calendar Clerk",
          "COURT CLERK",
          "DEPUTY SEALER OF WEIGHTS AND MEASURES"
         ],
         "y": [
          74573.05,
          82567.29,
          3361.44,
          95203.01,
          81650.52,
          78482.26,
          82303.6,
          101588.34,
          59382.36,
          59483.8,
          83503.09,
          84302.65,
          3583.4,
          139473.42,
          98934.25,
          92364.44,
          119203.65,
          106963.49,
          119337.33,
          12410.38,
          132582.43,
          86658.02,
          66686.56,
          18884.6,
          135806.52,
          35398.8,
          168228.23,
          196377.99,
          59242.59,
          182015.11,
          160257.08,
          34401.6,
          79904,
          83101.24,
          126571.71,
          93878.75,
          153795.73,
          149.51,
          8687,
          170844.78,
          91961.91,
          56298.62,
          79209.43,
          11215.17,
          70367.08,
          12196.8,
          105972.13,
          36961.43,
          76467,
          59114.62
         ]
        },
        {
         "marker": {
          "color": "rgba(50, 171, 96, 0.6)",
          "line": {
           "color": "rgba(50, 171, 96, 1.0)",
           "width": 1
          }
         },
         "name": "Median TP & Benefits",
         "orientation": "v",
         "text": "",
         "type": "bar",
         "x": [
          "ELECTRICAL ENGINEERING ASSOCIATE I",
          "TRAINING TECHNICIAN",
          "Conversion",
          "IS TRAINER - SENIOR",
          "CONFIDENTIAL SECRETARY TO DISTRICT ATTORNEY",
          "CONFIDENTIAL SECRETARY CITY ATTORNEY",
          "TREE TOPPER SUPERVISOR II",
          "CHIEF VICTIM/WITNESS INVESTIGATOR",
          "Microbiologist I/II",
          "SENIOR PHARMACY HELPER",
          "MEDIA PRODUCTION SUPERVISOR",
          "BUILDING SERVICES TECHNICIAN",
          "ORTHOPEDIC TECHNICIAN I",
          "Civil Case Settlmnt Specialist",
          "MUNICIPAL STADIUM GROUNDSKEEPER",
          "COURT SUPERVISOR I",
          "DIRECTOR, JUVENILE HALL",
          "CRANE MECHANIC SUPERVISOR",
          "CHIEF HOUSING INSPECTOR",
          "BARBER",
          "HEAD AIRPORT ELECTRICIAN",
          "Cfdntal Sctry to Distric Atty",
          "ZOO CURATOR",
          "Special Assistant 1",
          "TRANSIT POWER LINE WORKER SUPERVISOR II",
          "MAYORAL STAFF II",
          "Managing Attorney",
          "HUMAN RESOURCES DIRECTOR",
          "INSTITUTIONAL POLICE LIEUTENANT",
          "Chf Distt Atty Inves (SFERS)",
          "TREASURER",
          "PRINCIPAL MUSEUM PREPARATOR",
          "ASSISTANT INDUSTRIAL HYGIENIST",
          "Senior Inventory Clerk",
          "ASSISTANT COURT REPORTER COORDINATOR",
          "SUPERVISING WELFARE FRAUD INVESTIGATOR",
          "LIEUTENANT I, (POLICE DEPARTMENT)",
          "PUBLIC SAFETY COMMUNICATIONS TECHNICIAN",
          "Sheriff's Sergeant (SFERS)",
          "ATTORNEY FOR THE PUBLIC ADMINISTRATOR",
          "Exec Asst to Airport Director",
          "ANIMAL CARE ASSISTANT SUPERVISOR",
          "METAL FABRICATOR",
          "Special Assistant 18",
          "SENIOR FOOD SERVICE SUPERVISOR",
          "MAYORAL STAFF XI",
          "SUPERVISING PARTS STOREKEEPER",
          "Legislative Calendar Clerk",
          "COURT CLERK",
          "DEPUTY SEALER OF WEIGHTS AND MEASURES"
         ],
         "y": [
          74573.05,
          82567.29,
          3361.44,
          95203.01,
          81650.52,
          78482.26,
          82303.6,
          101588.34,
          83882.8,
          59483.8,
          83503.09,
          84302.65,
          3583.4,
          180233.91,
          98934.25,
          92364.44,
          119203.65,
          106963.49,
          119337.33,
          12410.38,
          132582.43,
          123372.45,
          66686.56,
          23714.76,
          135806.52,
          35398.8,
          225738.14,
          196377.99,
          59242.59,
          232879.22,
          160257.08,
          34401.6,
          79904,
          110612.2,
          126571.71,
          93878.75,
          153795.73,
          149.51,
          8773.85,
          170844.78,
          115947.01,
          56298.62,
          79209.43,
          15254.77,
          70367.08,
          12196.8,
          105972.13,
          53019.84,
          76467,
          59114.62
         ]
        }
       ],
       "layout": {
        "legend": {
         "bgcolor": "#F5F6F9",
         "font": {
          "color": "#4D5663"
         }
        },
        "paper_bgcolor": "#F5F6F9",
        "plot_bgcolor": "#F5F6F9",
        "title": "Least Common Job Titles and Associated Pay",
        "titlefont": {
         "color": "#4D5663"
        },
        "xaxis1": {
         "gridcolor": "#E1E5ED",
         "showgrid": true,
         "tickfont": {
          "color": "#4D5663"
         },
         "title": "",
         "titlefont": {
          "color": "#4D5663"
         },
         "zerolinecolor": "#E1E5ED"
        },
        "yaxis1": {
         "gridcolor": "#E1E5ED",
         "showgrid": true,
         "tickfont": {
          "color": "#4D5663"
         },
         "title": "Median Pay",
         "titlefont": {
          "color": "#4D5663"
         },
         "zerolinecolor": "#E1E5ED"
        }
       }
      },
      "text/html": [
       "<div id=\"7111bdee-fb8e-4aa8-8c4d-1b51d2e1b0b5\" style=\"height: 525px; width: 100%;\" class=\"plotly-graph-div\"></div><script type=\"text/javascript\">require([\"plotly\"], function(Plotly) { window.PLOTLYENV=window.PLOTLYENV || {};window.PLOTLYENV.BASE_URL=\"https://plot.ly\";Plotly.newPlot(\"7111bdee-fb8e-4aa8-8c4d-1b51d2e1b0b5\", [{\"type\": \"bar\", \"x\": [\"ELECTRICAL ENGINEERING ASSOCIATE I\", \"TRAINING TECHNICIAN\", \"Conversion\", \"IS TRAINER - SENIOR\", \"CONFIDENTIAL SECRETARY TO DISTRICT ATTORNEY\", \"CONFIDENTIAL SECRETARY CITY ATTORNEY\", \"TREE TOPPER SUPERVISOR II\", \"CHIEF VICTIM/WITNESS INVESTIGATOR\", \"Microbiologist I/II\", \"SENIOR PHARMACY HELPER\", \"MEDIA PRODUCTION SUPERVISOR\", \"BUILDING SERVICES TECHNICIAN\", \"ORTHOPEDIC TECHNICIAN I\", \"Civil Case Settlmnt Specialist\", \"MUNICIPAL STADIUM GROUNDSKEEPER\", \"COURT SUPERVISOR I\", \"DIRECTOR, JUVENILE HALL\", \"CRANE MECHANIC SUPERVISOR\", \"CHIEF HOUSING INSPECTOR\", \"BARBER\", \"HEAD AIRPORT ELECTRICIAN\", \"Cfdntal Sctry to Distric Atty\", \"ZOO CURATOR\", \"Special Assistant 1\", \"TRANSIT POWER LINE WORKER SUPERVISOR II\", \"MAYORAL STAFF II\", \"Managing Attorney\", \"HUMAN RESOURCES DIRECTOR\", \"INSTITUTIONAL POLICE LIEUTENANT\", \"Chf Distt Atty Inves (SFERS)\", \"TREASURER\", \"PRINCIPAL MUSEUM PREPARATOR\", \"ASSISTANT INDUSTRIAL HYGIENIST\", \"Senior Inventory Clerk\", \"ASSISTANT COURT REPORTER COORDINATOR\", \"SUPERVISING WELFARE FRAUD INVESTIGATOR\", \"LIEUTENANT I, (POLICE DEPARTMENT)\", \"PUBLIC SAFETY COMMUNICATIONS TECHNICIAN\", \"Sheriff's Sergeant (SFERS)\", \"ATTORNEY FOR THE PUBLIC ADMINISTRATOR\", \"Exec Asst to Airport Director\", \"ANIMAL CARE ASSISTANT SUPERVISOR\", \"METAL FABRICATOR\", \"Special Assistant 18\", \"SENIOR FOOD SERVICE SUPERVISOR\", \"MAYORAL STAFF XI\", \"SUPERVISING PARTS STOREKEEPER\", \"Legislative Calendar Clerk\", \"COURT CLERK\", \"DEPUTY SEALER OF WEIGHTS AND MEASURES\"], \"y\": [1, 1, 1, 1, 1, 1, 1, 1, 1, 1, 1, 1, 1, 1, 1, 1, 1, 1, 1, 1, 1, 1, 1, 1, 1, 1, 1, 1, 1, 1, 1, 1, 1, 1, 1, 1, 1, 1, 1, 1, 1, 1, 1, 1, 1, 1, 1, 1, 1, 1], \"name\": \"Count\", \"text\": \"\", \"marker\": {\"color\": \"rgba(255, 153, 51, 0.6)\", \"line\": {\"color\": \"rgba(255, 153, 51, 1.0)\", \"width\": 1}}, \"orientation\": \"v\"}, {\"type\": \"bar\", \"x\": [\"ELECTRICAL ENGINEERING ASSOCIATE I\", \"TRAINING TECHNICIAN\", \"Conversion\", \"IS TRAINER - SENIOR\", \"CONFIDENTIAL SECRETARY TO DISTRICT ATTORNEY\", \"CONFIDENTIAL SECRETARY CITY ATTORNEY\", \"TREE TOPPER SUPERVISOR II\", \"CHIEF VICTIM/WITNESS INVESTIGATOR\", \"Microbiologist I/II\", \"SENIOR PHARMACY HELPER\", \"MEDIA PRODUCTION SUPERVISOR\", \"BUILDING SERVICES TECHNICIAN\", \"ORTHOPEDIC TECHNICIAN I\", \"Civil Case Settlmnt Specialist\", \"MUNICIPAL STADIUM GROUNDSKEEPER\", \"COURT SUPERVISOR I\", \"DIRECTOR, JUVENILE HALL\", \"CRANE MECHANIC SUPERVISOR\", \"CHIEF HOUSING INSPECTOR\", \"BARBER\", \"HEAD AIRPORT ELECTRICIAN\", \"Cfdntal Sctry to Distric Atty\", \"ZOO CURATOR\", \"Special Assistant 1\", \"TRANSIT POWER LINE WORKER SUPERVISOR II\", \"MAYORAL STAFF II\", \"Managing Attorney\", \"HUMAN RESOURCES DIRECTOR\", \"INSTITUTIONAL POLICE LIEUTENANT\", \"Chf Distt Atty Inves (SFERS)\", \"TREASURER\", \"PRINCIPAL MUSEUM PREPARATOR\", \"ASSISTANT INDUSTRIAL HYGIENIST\", \"Senior Inventory Clerk\", \"ASSISTANT COURT REPORTER COORDINATOR\", \"SUPERVISING WELFARE FRAUD INVESTIGATOR\", \"LIEUTENANT I, (POLICE DEPARTMENT)\", \"PUBLIC SAFETY COMMUNICATIONS TECHNICIAN\", \"Sheriff's Sergeant (SFERS)\", \"ATTORNEY FOR THE PUBLIC ADMINISTRATOR\", \"Exec Asst to Airport Director\", \"ANIMAL CARE ASSISTANT SUPERVISOR\", \"METAL FABRICATOR\", \"Special Assistant 18\", \"SENIOR FOOD SERVICE SUPERVISOR\", \"MAYORAL STAFF XI\", \"SUPERVISING PARTS STOREKEEPER\", \"Legislative Calendar Clerk\", \"COURT CLERK\", \"DEPUTY SEALER OF WEIGHTS AND MEASURES\"], \"y\": [74573.05, 82567.29, 3361.44, 95203.01, 81650.52, 78482.26, 82303.6, 101588.34, 59382.36, 59483.8, 83503.09, 84302.65, 3583.4, 139473.42, 98934.25, 92364.44, 119203.65, 106963.49, 119337.33, 12410.38, 132582.43, 86658.02, 66686.56, 18884.6, 135806.52, 35398.8, 168228.23, 196377.99, 59242.59, 182015.11, 160257.08, 34401.6, 79904.0, 83101.24, 126571.71, 93878.75, 153795.73, 149.51, 8687.0, 170844.78, 91961.91, 56298.62, 79209.43, 11215.17, 70367.08, 12196.8, 105972.13, 36961.43, 76467.0, 59114.62], \"name\": \"Median Total Pay\", \"text\": \"\", \"marker\": {\"color\": \"rgba(55, 128, 191, 0.6)\", \"line\": {\"color\": \"rgba(55, 128, 191, 1.0)\", \"width\": 1}}, \"orientation\": \"v\"}, {\"type\": \"bar\", \"x\": [\"ELECTRICAL ENGINEERING ASSOCIATE I\", \"TRAINING TECHNICIAN\", \"Conversion\", \"IS TRAINER - SENIOR\", \"CONFIDENTIAL SECRETARY TO DISTRICT ATTORNEY\", \"CONFIDENTIAL SECRETARY CITY ATTORNEY\", \"TREE TOPPER SUPERVISOR II\", \"CHIEF VICTIM/WITNESS INVESTIGATOR\", \"Microbiologist I/II\", \"SENIOR PHARMACY HELPER\", \"MEDIA PRODUCTION SUPERVISOR\", \"BUILDING SERVICES TECHNICIAN\", \"ORTHOPEDIC TECHNICIAN I\", \"Civil Case Settlmnt Specialist\", \"MUNICIPAL STADIUM GROUNDSKEEPER\", \"COURT SUPERVISOR I\", \"DIRECTOR, JUVENILE HALL\", \"CRANE MECHANIC SUPERVISOR\", \"CHIEF HOUSING INSPECTOR\", \"BARBER\", \"HEAD AIRPORT ELECTRICIAN\", \"Cfdntal Sctry to Distric Atty\", \"ZOO CURATOR\", \"Special Assistant 1\", \"TRANSIT POWER LINE WORKER SUPERVISOR II\", \"MAYORAL STAFF II\", \"Managing Attorney\", \"HUMAN RESOURCES DIRECTOR\", \"INSTITUTIONAL POLICE LIEUTENANT\", \"Chf Distt Atty Inves (SFERS)\", \"TREASURER\", \"PRINCIPAL MUSEUM PREPARATOR\", \"ASSISTANT INDUSTRIAL HYGIENIST\", \"Senior Inventory Clerk\", \"ASSISTANT COURT REPORTER COORDINATOR\", \"SUPERVISING WELFARE FRAUD INVESTIGATOR\", \"LIEUTENANT I, (POLICE DEPARTMENT)\", \"PUBLIC SAFETY COMMUNICATIONS TECHNICIAN\", \"Sheriff's Sergeant (SFERS)\", \"ATTORNEY FOR THE PUBLIC ADMINISTRATOR\", \"Exec Asst to Airport Director\", \"ANIMAL CARE ASSISTANT SUPERVISOR\", \"METAL FABRICATOR\", \"Special Assistant 18\", \"SENIOR FOOD SERVICE SUPERVISOR\", \"MAYORAL STAFF XI\", \"SUPERVISING PARTS STOREKEEPER\", \"Legislative Calendar Clerk\", \"COURT CLERK\", \"DEPUTY SEALER OF WEIGHTS AND MEASURES\"], \"y\": [74573.05, 82567.29, 3361.44, 95203.01, 81650.52, 78482.26, 82303.6, 101588.34, 83882.8, 59483.8, 83503.09, 84302.65, 3583.4, 180233.91, 98934.25, 92364.44, 119203.65, 106963.49, 119337.33, 12410.38, 132582.43, 123372.45, 66686.56, 23714.76, 135806.52, 35398.8, 225738.14, 196377.99, 59242.59, 232879.22, 160257.08, 34401.6, 79904.0, 110612.2, 126571.71, 93878.75, 153795.73, 149.51, 8773.85, 170844.78, 115947.01, 56298.62, 79209.43, 15254.77, 70367.08, 12196.8, 105972.13, 53019.84, 76467.0, 59114.62], \"name\": \"Median TP & Benefits\", \"text\": \"\", \"marker\": {\"color\": \"rgba(50, 171, 96, 0.6)\", \"line\": {\"color\": \"rgba(50, 171, 96, 1.0)\", \"width\": 1}}, \"orientation\": \"v\"}], {\"legend\": {\"bgcolor\": \"#F5F6F9\", \"font\": {\"color\": \"#4D5663\"}}, \"paper_bgcolor\": \"#F5F6F9\", \"plot_bgcolor\": \"#F5F6F9\", \"yaxis1\": {\"tickfont\": {\"color\": \"#4D5663\"}, \"gridcolor\": \"#E1E5ED\", \"titlefont\": {\"color\": \"#4D5663\"}, \"zerolinecolor\": \"#E1E5ED\", \"showgrid\": true, \"title\": \"Median Pay\"}, \"xaxis1\": {\"tickfont\": {\"color\": \"#4D5663\"}, \"gridcolor\": \"#E1E5ED\", \"titlefont\": {\"color\": \"#4D5663\"}, \"zerolinecolor\": \"#E1E5ED\", \"showgrid\": true, \"title\": \"\"}, \"titlefont\": {\"color\": \"#4D5663\"}, \"title\": \"Least Common Job Titles and Associated Pay\"}, {\"showLink\": true, \"linkText\": \"Export to plot.ly\"})});</script>"
      ],
      "text/vnd.plotly.v1+html": [
       "<div id=\"7111bdee-fb8e-4aa8-8c4d-1b51d2e1b0b5\" style=\"height: 525px; width: 100%;\" class=\"plotly-graph-div\"></div><script type=\"text/javascript\">require([\"plotly\"], function(Plotly) { window.PLOTLYENV=window.PLOTLYENV || {};window.PLOTLYENV.BASE_URL=\"https://plot.ly\";Plotly.newPlot(\"7111bdee-fb8e-4aa8-8c4d-1b51d2e1b0b5\", [{\"type\": \"bar\", \"x\": [\"ELECTRICAL ENGINEERING ASSOCIATE I\", \"TRAINING TECHNICIAN\", \"Conversion\", \"IS TRAINER - SENIOR\", \"CONFIDENTIAL SECRETARY TO DISTRICT ATTORNEY\", \"CONFIDENTIAL SECRETARY CITY ATTORNEY\", \"TREE TOPPER SUPERVISOR II\", \"CHIEF VICTIM/WITNESS INVESTIGATOR\", \"Microbiologist I/II\", \"SENIOR PHARMACY HELPER\", \"MEDIA PRODUCTION SUPERVISOR\", \"BUILDING SERVICES TECHNICIAN\", \"ORTHOPEDIC TECHNICIAN I\", \"Civil Case Settlmnt Specialist\", \"MUNICIPAL STADIUM GROUNDSKEEPER\", \"COURT SUPERVISOR I\", \"DIRECTOR, JUVENILE HALL\", \"CRANE MECHANIC SUPERVISOR\", \"CHIEF HOUSING INSPECTOR\", \"BARBER\", \"HEAD AIRPORT ELECTRICIAN\", \"Cfdntal Sctry to Distric Atty\", \"ZOO CURATOR\", \"Special Assistant 1\", \"TRANSIT POWER LINE WORKER SUPERVISOR II\", \"MAYORAL STAFF II\", \"Managing Attorney\", \"HUMAN RESOURCES DIRECTOR\", \"INSTITUTIONAL POLICE LIEUTENANT\", \"Chf Distt Atty Inves (SFERS)\", \"TREASURER\", \"PRINCIPAL MUSEUM PREPARATOR\", \"ASSISTANT INDUSTRIAL HYGIENIST\", \"Senior Inventory Clerk\", \"ASSISTANT COURT REPORTER COORDINATOR\", \"SUPERVISING WELFARE FRAUD INVESTIGATOR\", \"LIEUTENANT I, (POLICE DEPARTMENT)\", \"PUBLIC SAFETY COMMUNICATIONS TECHNICIAN\", \"Sheriff's Sergeant (SFERS)\", \"ATTORNEY FOR THE PUBLIC ADMINISTRATOR\", \"Exec Asst to Airport Director\", \"ANIMAL CARE ASSISTANT SUPERVISOR\", \"METAL FABRICATOR\", \"Special Assistant 18\", \"SENIOR FOOD SERVICE SUPERVISOR\", \"MAYORAL STAFF XI\", \"SUPERVISING PARTS STOREKEEPER\", \"Legislative Calendar Clerk\", \"COURT CLERK\", \"DEPUTY SEALER OF WEIGHTS AND MEASURES\"], \"y\": [1, 1, 1, 1, 1, 1, 1, 1, 1, 1, 1, 1, 1, 1, 1, 1, 1, 1, 1, 1, 1, 1, 1, 1, 1, 1, 1, 1, 1, 1, 1, 1, 1, 1, 1, 1, 1, 1, 1, 1, 1, 1, 1, 1, 1, 1, 1, 1, 1, 1], \"name\": \"Count\", \"text\": \"\", \"marker\": {\"color\": \"rgba(255, 153, 51, 0.6)\", \"line\": {\"color\": \"rgba(255, 153, 51, 1.0)\", \"width\": 1}}, \"orientation\": \"v\"}, {\"type\": \"bar\", \"x\": [\"ELECTRICAL ENGINEERING ASSOCIATE I\", \"TRAINING TECHNICIAN\", \"Conversion\", \"IS TRAINER - SENIOR\", \"CONFIDENTIAL SECRETARY TO DISTRICT ATTORNEY\", \"CONFIDENTIAL SECRETARY CITY ATTORNEY\", \"TREE TOPPER SUPERVISOR II\", \"CHIEF VICTIM/WITNESS INVESTIGATOR\", \"Microbiologist I/II\", \"SENIOR PHARMACY HELPER\", \"MEDIA PRODUCTION SUPERVISOR\", \"BUILDING SERVICES TECHNICIAN\", \"ORTHOPEDIC TECHNICIAN I\", \"Civil Case Settlmnt Specialist\", \"MUNICIPAL STADIUM GROUNDSKEEPER\", \"COURT SUPERVISOR I\", \"DIRECTOR, JUVENILE HALL\", \"CRANE MECHANIC SUPERVISOR\", \"CHIEF HOUSING INSPECTOR\", \"BARBER\", \"HEAD AIRPORT ELECTRICIAN\", \"Cfdntal Sctry to Distric Atty\", \"ZOO CURATOR\", \"Special Assistant 1\", \"TRANSIT POWER LINE WORKER SUPERVISOR II\", \"MAYORAL STAFF II\", \"Managing Attorney\", \"HUMAN RESOURCES DIRECTOR\", \"INSTITUTIONAL POLICE LIEUTENANT\", \"Chf Distt Atty Inves (SFERS)\", \"TREASURER\", \"PRINCIPAL MUSEUM PREPARATOR\", \"ASSISTANT INDUSTRIAL HYGIENIST\", \"Senior Inventory Clerk\", \"ASSISTANT COURT REPORTER COORDINATOR\", \"SUPERVISING WELFARE FRAUD INVESTIGATOR\", \"LIEUTENANT I, (POLICE DEPARTMENT)\", \"PUBLIC SAFETY COMMUNICATIONS TECHNICIAN\", \"Sheriff's Sergeant (SFERS)\", \"ATTORNEY FOR THE PUBLIC ADMINISTRATOR\", \"Exec Asst to Airport Director\", \"ANIMAL CARE ASSISTANT SUPERVISOR\", \"METAL FABRICATOR\", \"Special Assistant 18\", \"SENIOR FOOD SERVICE SUPERVISOR\", \"MAYORAL STAFF XI\", \"SUPERVISING PARTS STOREKEEPER\", \"Legislative Calendar Clerk\", \"COURT CLERK\", \"DEPUTY SEALER OF WEIGHTS AND MEASURES\"], \"y\": [74573.05, 82567.29, 3361.44, 95203.01, 81650.52, 78482.26, 82303.6, 101588.34, 59382.36, 59483.8, 83503.09, 84302.65, 3583.4, 139473.42, 98934.25, 92364.44, 119203.65, 106963.49, 119337.33, 12410.38, 132582.43, 86658.02, 66686.56, 18884.6, 135806.52, 35398.8, 168228.23, 196377.99, 59242.59, 182015.11, 160257.08, 34401.6, 79904.0, 83101.24, 126571.71, 93878.75, 153795.73, 149.51, 8687.0, 170844.78, 91961.91, 56298.62, 79209.43, 11215.17, 70367.08, 12196.8, 105972.13, 36961.43, 76467.0, 59114.62], \"name\": \"Median Total Pay\", \"text\": \"\", \"marker\": {\"color\": \"rgba(55, 128, 191, 0.6)\", \"line\": {\"color\": \"rgba(55, 128, 191, 1.0)\", \"width\": 1}}, \"orientation\": \"v\"}, {\"type\": \"bar\", \"x\": [\"ELECTRICAL ENGINEERING ASSOCIATE I\", \"TRAINING TECHNICIAN\", \"Conversion\", \"IS TRAINER - SENIOR\", \"CONFIDENTIAL SECRETARY TO DISTRICT ATTORNEY\", \"CONFIDENTIAL SECRETARY CITY ATTORNEY\", \"TREE TOPPER SUPERVISOR II\", \"CHIEF VICTIM/WITNESS INVESTIGATOR\", \"Microbiologist I/II\", \"SENIOR PHARMACY HELPER\", \"MEDIA PRODUCTION SUPERVISOR\", \"BUILDING SERVICES TECHNICIAN\", \"ORTHOPEDIC TECHNICIAN I\", \"Civil Case Settlmnt Specialist\", \"MUNICIPAL STADIUM GROUNDSKEEPER\", \"COURT SUPERVISOR I\", \"DIRECTOR, JUVENILE HALL\", \"CRANE MECHANIC SUPERVISOR\", \"CHIEF HOUSING INSPECTOR\", \"BARBER\", \"HEAD AIRPORT ELECTRICIAN\", \"Cfdntal Sctry to Distric Atty\", \"ZOO CURATOR\", \"Special Assistant 1\", \"TRANSIT POWER LINE WORKER SUPERVISOR II\", \"MAYORAL STAFF II\", \"Managing Attorney\", \"HUMAN RESOURCES DIRECTOR\", \"INSTITUTIONAL POLICE LIEUTENANT\", \"Chf Distt Atty Inves (SFERS)\", \"TREASURER\", \"PRINCIPAL MUSEUM PREPARATOR\", \"ASSISTANT INDUSTRIAL HYGIENIST\", \"Senior Inventory Clerk\", \"ASSISTANT COURT REPORTER COORDINATOR\", \"SUPERVISING WELFARE FRAUD INVESTIGATOR\", \"LIEUTENANT I, (POLICE DEPARTMENT)\", \"PUBLIC SAFETY COMMUNICATIONS TECHNICIAN\", \"Sheriff's Sergeant (SFERS)\", \"ATTORNEY FOR THE PUBLIC ADMINISTRATOR\", \"Exec Asst to Airport Director\", \"ANIMAL CARE ASSISTANT SUPERVISOR\", \"METAL FABRICATOR\", \"Special Assistant 18\", \"SENIOR FOOD SERVICE SUPERVISOR\", \"MAYORAL STAFF XI\", \"SUPERVISING PARTS STOREKEEPER\", \"Legislative Calendar Clerk\", \"COURT CLERK\", \"DEPUTY SEALER OF WEIGHTS AND MEASURES\"], \"y\": [74573.05, 82567.29, 3361.44, 95203.01, 81650.52, 78482.26, 82303.6, 101588.34, 83882.8, 59483.8, 83503.09, 84302.65, 3583.4, 180233.91, 98934.25, 92364.44, 119203.65, 106963.49, 119337.33, 12410.38, 132582.43, 123372.45, 66686.56, 23714.76, 135806.52, 35398.8, 225738.14, 196377.99, 59242.59, 232879.22, 160257.08, 34401.6, 79904.0, 110612.2, 126571.71, 93878.75, 153795.73, 149.51, 8773.85, 170844.78, 115947.01, 56298.62, 79209.43, 15254.77, 70367.08, 12196.8, 105972.13, 53019.84, 76467.0, 59114.62], \"name\": \"Median TP & Benefits\", \"text\": \"\", \"marker\": {\"color\": \"rgba(50, 171, 96, 0.6)\", \"line\": {\"color\": \"rgba(50, 171, 96, 1.0)\", \"width\": 1}}, \"orientation\": \"v\"}], {\"legend\": {\"bgcolor\": \"#F5F6F9\", \"font\": {\"color\": \"#4D5663\"}}, \"paper_bgcolor\": \"#F5F6F9\", \"plot_bgcolor\": \"#F5F6F9\", \"yaxis1\": {\"tickfont\": {\"color\": \"#4D5663\"}, \"gridcolor\": \"#E1E5ED\", \"titlefont\": {\"color\": \"#4D5663\"}, \"zerolinecolor\": \"#E1E5ED\", \"showgrid\": true, \"title\": \"Median Pay\"}, \"xaxis1\": {\"tickfont\": {\"color\": \"#4D5663\"}, \"gridcolor\": \"#E1E5ED\", \"titlefont\": {\"color\": \"#4D5663\"}, \"zerolinecolor\": \"#E1E5ED\", \"showgrid\": true, \"title\": \"\"}, \"titlefont\": {\"color\": \"#4D5663\"}, \"title\": \"Least Common Job Titles and Associated Pay\"}, {\"showLink\": true, \"linkText\": \"Export to plot.ly\"})});</script>"
      ]
     },
     "metadata": {},
     "output_type": "display_data"
    }
   ],
   "source": [
    "job_titles.tail(50).iplot('bar',\n",
    "                         title='Least Common Job Titles and Associated Pay',\n",
    "                         yTitle='Median Pay')"
   ]
  },
  {
   "cell_type": "markdown",
   "metadata": {},
   "source": [
    "### What is the Standard Deviation of the Median Total Pay between different Job Title Holders?"
   ]
  },
  {
   "cell_type": "markdown",
   "metadata": {},
   "source": [
    "### Is there a correlation between the length of the  Job TItle and Salary?"
   ]
  },
  {
   "cell_type": "code",
   "execution_count": 30,
   "metadata": {},
   "outputs": [
    {
     "data": {
      "text/html": [
       "<div>\n",
       "<style scoped>\n",
       "    .dataframe tbody tr th:only-of-type {\n",
       "        vertical-align: middle;\n",
       "    }\n",
       "\n",
       "    .dataframe tbody tr th {\n",
       "        vertical-align: top;\n",
       "    }\n",
       "\n",
       "    .dataframe thead th {\n",
       "        text-align: right;\n",
       "    }\n",
       "</style>\n",
       "<table border=\"1\" class=\"dataframe\">\n",
       "  <thead>\n",
       "    <tr style=\"text-align: right;\">\n",
       "      <th></th>\n",
       "      <th>title_len</th>\n",
       "      <th>Total Pay &amp; Benefits</th>\n",
       "    </tr>\n",
       "  </thead>\n",
       "  <tbody>\n",
       "    <tr>\n",
       "      <th>title_len</th>\n",
       "      <td>1.000000</td>\n",
       "      <td>-0.030236</td>\n",
       "    </tr>\n",
       "    <tr>\n",
       "      <th>Total Pay &amp; Benefits</th>\n",
       "      <td>-0.030236</td>\n",
       "      <td>1.000000</td>\n",
       "    </tr>\n",
       "  </tbody>\n",
       "</table>\n",
       "</div>"
      ],
      "text/plain": [
       "                      title_len  Total Pay & Benefits\n",
       "title_len              1.000000             -0.030236\n",
       "Total Pay & Benefits  -0.030236              1.000000"
      ]
     },
     "execution_count": 30,
     "metadata": {},
     "output_type": "execute_result"
    }
   ],
   "source": [
    "# calculating the length of the title\n",
    "salaries['title_len'] = salaries['Job Title'].apply(len)\n",
    "\n",
    "# calculating correlation between the Job Title and the Tota lPay\n",
    "salaries[['title_len', 'Total Pay & Benefits']].corr()"
   ]
  },
  {
   "cell_type": "markdown",
   "metadata": {},
   "source": [
    "** Notes:\n",
    "There is no correlation. **"
   ]
  },
  {
   "cell_type": "markdown",
   "metadata": {},
   "source": [
    "### What is the pay difference between the largest Total Pay & Benefits earner and the lowest Total Pay & Benefits earner?"
   ]
  },
  {
   "cell_type": "code",
   "execution_count": 31,
   "metadata": {},
   "outputs": [
    {
     "name": "stdout",
     "output_type": "stream",
     "text": [
      "Total Pay (including benefits) difference between the highest earner and the lowest earner: 669808.92\n"
     ]
    }
   ],
   "source": [
    "print('Total Pay (including benefits) difference between the highest earner and the lowest earner:',\n",
    "      salaries['Total Pay & Benefits'].max() - salaries['Total Pay & Benefits'].min())"
   ]
  },
  {
   "cell_type": "markdown",
   "metadata": {},
   "source": [
    "### How many Job Titles were represented by only one person in any year? "
   ]
  },
  {
   "cell_type": "code",
   "execution_count": 32,
   "metadata": {},
   "outputs": [
    {
     "data": {
      "text/plain": [
       "1284"
      ]
     },
     "execution_count": 32,
     "metadata": {},
     "output_type": "execute_result"
    }
   ],
   "source": [
    "sum(salaries.groupby('Year')['Job Title'].value_counts()==1)"
   ]
  },
  {
   "cell_type": "markdown",
   "metadata": {},
   "source": [
    "### How many people have the word Manager in their job titles? "
   ]
  },
  {
   "cell_type": "code",
   "execution_count": 33,
   "metadata": {},
   "outputs": [
    {
     "name": "stdout",
     "output_type": "stream",
     "text": [
      "Total number of Job Titles containing word 'Manger':  7677\n"
     ]
    }
   ],
   "source": [
    "def manager_string(title):\n",
    "    if 'manager' in title.lower():\n",
    "        return True\n",
    "    else:\n",
    "        return False\n",
    "    \n",
    "print(\"Total number of Job Titles containing word 'Manger': \",sum(salaries['Job Title'].apply(lambda x: manager_string(x))))"
   ]
  },
  {
   "cell_type": "markdown",
   "metadata": {},
   "source": [
    "### How many people have the Chief in their Job Titles?"
   ]
  },
  {
   "cell_type": "code",
   "execution_count": 34,
   "metadata": {},
   "outputs": [
    {
     "name": "stdout",
     "output_type": "stream",
     "text": [
      "Total number of Job Titles containing 'Chief': 1076\n"
     ]
    }
   ],
   "source": [
    "def chief_string(title):\n",
    "    if 'chief' in title.lower():\n",
    "        return True\n",
    "    else:\n",
    "        return False\n",
    "    \n",
    "print(\"Total number of Job Titles containing 'Chief':\",sum(salaries['Job Title'].apply(lambda x: chief_string(x))))"
   ]
  },
  {
   "cell_type": "markdown",
   "metadata": {},
   "source": [
    "### Job Titles which brought home Total Pay of US$ 500,000 or more? What is their status and total pay?"
   ]
  },
  {
   "cell_type": "code",
   "execution_count": 35,
   "metadata": {
    "scrolled": true
   },
   "outputs": [
    {
     "data": {
      "text/html": [
       "<div>\n",
       "<style scoped>\n",
       "    .dataframe tbody tr th:only-of-type {\n",
       "        vertical-align: middle;\n",
       "    }\n",
       "\n",
       "    .dataframe tbody tr th {\n",
       "        vertical-align: top;\n",
       "    }\n",
       "\n",
       "    .dataframe thead th {\n",
       "        text-align: right;\n",
       "    }\n",
       "</style>\n",
       "<table border=\"1\" class=\"dataframe\">\n",
       "  <thead>\n",
       "    <tr style=\"text-align: right;\">\n",
       "      <th></th>\n",
       "      <th>Job Title</th>\n",
       "      <th>Status</th>\n",
       "      <th>Total Pay</th>\n",
       "    </tr>\n",
       "  </thead>\n",
       "  <tbody>\n",
       "    <tr>\n",
       "      <th>0</th>\n",
       "      <td>GENERAL MANAGER-METROPOLITAN TRANSIT AUTHORITY</td>\n",
       "      <td>FT</td>\n",
       "      <td>567595.43</td>\n",
       "    </tr>\n",
       "    <tr>\n",
       "      <th>1</th>\n",
       "      <td>CAPTAIN III (POLICE DEPARTMENT)</td>\n",
       "      <td>FT</td>\n",
       "      <td>538909.28</td>\n",
       "    </tr>\n",
       "    <tr>\n",
       "      <th>0</th>\n",
       "      <td>Chief Investment Officer</td>\n",
       "      <td>FT</td>\n",
       "      <td>527343.14</td>\n",
       "    </tr>\n",
       "    <tr>\n",
       "      <th>0</th>\n",
       "      <td>Chief Investment Officer</td>\n",
       "      <td>FT</td>\n",
       "      <td>545294.86</td>\n",
       "    </tr>\n",
       "    <tr>\n",
       "      <th>0</th>\n",
       "      <td>Chief Investment Officer</td>\n",
       "      <td>FT</td>\n",
       "      <td>507831.60</td>\n",
       "    </tr>\n",
       "  </tbody>\n",
       "</table>\n",
       "</div>"
      ],
      "text/plain": [
       "                                        Job Title Status  Total Pay\n",
       "0  GENERAL MANAGER-METROPOLITAN TRANSIT AUTHORITY     FT  567595.43\n",
       "1                 CAPTAIN III (POLICE DEPARTMENT)     FT  538909.28\n",
       "0                        Chief Investment Officer     FT  527343.14\n",
       "0                        Chief Investment Officer     FT  545294.86\n",
       "0                        Chief Investment Officer     FT  507831.60"
      ]
     },
     "execution_count": 35,
     "metadata": {},
     "output_type": "execute_result"
    }
   ],
   "source": [
    "salaries[salaries['Total Pay']>500000][['Job Title','Status','Total Pay']]"
   ]
  },
  {
   "cell_type": "markdown",
   "metadata": {},
   "source": [
    "### Job Titles which brough home Total Pay (including benefits) of US$ 500,000 or more. What is their working status, total pay including benefits and the base pay?"
   ]
  },
  {
   "cell_type": "code",
   "execution_count": 36,
   "metadata": {},
   "outputs": [
    {
     "data": {
      "text/html": [
       "<div>\n",
       "<style scoped>\n",
       "    .dataframe tbody tr th:only-of-type {\n",
       "        vertical-align: middle;\n",
       "    }\n",
       "\n",
       "    .dataframe tbody tr th {\n",
       "        vertical-align: top;\n",
       "    }\n",
       "\n",
       "    .dataframe thead th {\n",
       "        text-align: right;\n",
       "    }\n",
       "</style>\n",
       "<table border=\"1\" class=\"dataframe\">\n",
       "  <thead>\n",
       "    <tr style=\"text-align: right;\">\n",
       "      <th></th>\n",
       "      <th>Job Title</th>\n",
       "      <th>Status</th>\n",
       "      <th>Total Pay &amp; Benefits</th>\n",
       "      <th>Base Pay</th>\n",
       "    </tr>\n",
       "  </thead>\n",
       "  <tbody>\n",
       "    <tr>\n",
       "      <th>0</th>\n",
       "      <td>GENERAL MANAGER-METROPOLITAN TRANSIT AUTHORITY</td>\n",
       "      <td>FT</td>\n",
       "      <td>567595.43</td>\n",
       "      <td>167411.18</td>\n",
       "    </tr>\n",
       "    <tr>\n",
       "      <th>1</th>\n",
       "      <td>CAPTAIN III (POLICE DEPARTMENT)</td>\n",
       "      <td>FT</td>\n",
       "      <td>538909.28</td>\n",
       "      <td>155966.02</td>\n",
       "    </tr>\n",
       "    <tr>\n",
       "      <th>0</th>\n",
       "      <td>Chief Investment Officer</td>\n",
       "      <td>FT</td>\n",
       "      <td>641845.82</td>\n",
       "      <td>527343.14</td>\n",
       "    </tr>\n",
       "    <tr>\n",
       "      <th>1</th>\n",
       "      <td>Managing Director</td>\n",
       "      <td>FT</td>\n",
       "      <td>507526.41</td>\n",
       "      <td>414515.72</td>\n",
       "    </tr>\n",
       "    <tr>\n",
       "      <th>0</th>\n",
       "      <td>Chief Investment Officer</td>\n",
       "      <td>FT</td>\n",
       "      <td>666180.14</td>\n",
       "      <td>545294.86</td>\n",
       "    </tr>\n",
       "    <tr>\n",
       "      <th>1</th>\n",
       "      <td>Managing Director</td>\n",
       "      <td>FT</td>\n",
       "      <td>565892.29</td>\n",
       "      <td>456034.86</td>\n",
       "    </tr>\n",
       "    <tr>\n",
       "      <th>2</th>\n",
       "      <td>Managing Director</td>\n",
       "      <td>FT</td>\n",
       "      <td>551116.09</td>\n",
       "      <td>456034.86</td>\n",
       "    </tr>\n",
       "    <tr>\n",
       "      <th>3</th>\n",
       "      <td>Sheriff's Lieutenant</td>\n",
       "      <td>FT</td>\n",
       "      <td>546240.06</td>\n",
       "      <td>176590.01</td>\n",
       "    </tr>\n",
       "    <tr>\n",
       "      <th>4</th>\n",
       "      <td>Physician Administrator, DPH</td>\n",
       "      <td>FT</td>\n",
       "      <td>543131.18</td>\n",
       "      <td>440281.88</td>\n",
       "    </tr>\n",
       "    <tr>\n",
       "      <th>5</th>\n",
       "      <td>Managing Director</td>\n",
       "      <td>FT</td>\n",
       "      <td>516972.39</td>\n",
       "      <td>414902.82</td>\n",
       "    </tr>\n",
       "    <tr>\n",
       "      <th>0</th>\n",
       "      <td>Chief Investment Officer</td>\n",
       "      <td>FT</td>\n",
       "      <td>633723.33</td>\n",
       "      <td>507831.60</td>\n",
       "    </tr>\n",
       "    <tr>\n",
       "      <th>0</th>\n",
       "      <td>Deputy Chief 3</td>\n",
       "      <td>PT</td>\n",
       "      <td>510732.68</td>\n",
       "      <td>129150.01</td>\n",
       "    </tr>\n",
       "  </tbody>\n",
       "</table>\n",
       "</div>"
      ],
      "text/plain": [
       "                                        Job Title Status  \\\n",
       "0  GENERAL MANAGER-METROPOLITAN TRANSIT AUTHORITY     FT   \n",
       "1                 CAPTAIN III (POLICE DEPARTMENT)     FT   \n",
       "0                        Chief Investment Officer     FT   \n",
       "1                               Managing Director     FT   \n",
       "0                        Chief Investment Officer     FT   \n",
       "1                               Managing Director     FT   \n",
       "2                               Managing Director     FT   \n",
       "3                            Sheriff's Lieutenant     FT   \n",
       "4                    Physician Administrator, DPH     FT   \n",
       "5                               Managing Director     FT   \n",
       "0                        Chief Investment Officer     FT   \n",
       "0                                  Deputy Chief 3     PT   \n",
       "\n",
       "   Total Pay & Benefits   Base Pay  \n",
       "0             567595.43  167411.18  \n",
       "1             538909.28  155966.02  \n",
       "0             641845.82  527343.14  \n",
       "1             507526.41  414515.72  \n",
       "0             666180.14  545294.86  \n",
       "1             565892.29  456034.86  \n",
       "2             551116.09  456034.86  \n",
       "3             546240.06  176590.01  \n",
       "4             543131.18  440281.88  \n",
       "5             516972.39  414902.82  \n",
       "0             633723.33  507831.60  \n",
       "0             510732.68  129150.01  "
      ]
     },
     "execution_count": 36,
     "metadata": {},
     "output_type": "execute_result"
    }
   ],
   "source": [
    "salaries[salaries['Total Pay & Benefits']>500000][['Job Title','Status','Total Pay & Benefits','Base Pay']]"
   ]
  },
  {
   "cell_type": "markdown",
   "metadata": {},
   "source": [
    "### Examining dataset values where Base Pay is equal to zero"
   ]
  },
  {
   "cell_type": "code",
   "execution_count": 37,
   "metadata": {},
   "outputs": [
    {
     "name": "stdout",
     "output_type": "stream",
     "text": [
      "Total number of employees who has no Base Pay: 2598\n"
     ]
    }
   ],
   "source": [
    "print('Total number of employees who has no Base Pay:',\n",
    "      salaries[salaries['Base Pay']==0].count()['Base Pay'])"
   ]
  },
  {
   "cell_type": "code",
   "execution_count": 38,
   "metadata": {},
   "outputs": [],
   "source": [
    "# creating a new dF called where Base Pay is equal to zero. \n",
    "noBasePay = salaries[salaries['Base Pay']==0][['Employee Name', 'Job Title','Overtime Pay', 'Other Pay',\n",
    "       'Benefits', 'Total Pay', 'Total Pay & Benefits', 'Year', 'Agency',\n",
    "       'Status']]\n",
    "\n",
    "# P.S. We do not include the 'Base Pay' column as it we know that all of is equal to zero."
   ]
  },
  {
   "cell_type": "code",
   "execution_count": 39,
   "metadata": {},
   "outputs": [
    {
     "data": {
      "text/html": [
       "<div>\n",
       "<style scoped>\n",
       "    .dataframe tbody tr th:only-of-type {\n",
       "        vertical-align: middle;\n",
       "    }\n",
       "\n",
       "    .dataframe tbody tr th {\n",
       "        vertical-align: top;\n",
       "    }\n",
       "\n",
       "    .dataframe thead th {\n",
       "        text-align: right;\n",
       "    }\n",
       "</style>\n",
       "<table border=\"1\" class=\"dataframe\">\n",
       "  <thead>\n",
       "    <tr style=\"text-align: right;\">\n",
       "      <th></th>\n",
       "      <th>Overtime Pay</th>\n",
       "      <th>Other Pay</th>\n",
       "      <th>Benefits</th>\n",
       "      <th>Total Pay</th>\n",
       "      <th>Total Pay &amp; Benefits</th>\n",
       "      <th>Year</th>\n",
       "    </tr>\n",
       "  </thead>\n",
       "  <tbody>\n",
       "    <tr>\n",
       "      <th>count</th>\n",
       "      <td>2598.000000</td>\n",
       "      <td>2598.000000</td>\n",
       "      <td>2149.000000</td>\n",
       "      <td>2598.000000</td>\n",
       "      <td>2598.000000</td>\n",
       "      <td>2598.000000</td>\n",
       "    </tr>\n",
       "    <tr>\n",
       "      <th>mean</th>\n",
       "      <td>102.829072</td>\n",
       "      <td>3857.789477</td>\n",
       "      <td>2738.857878</td>\n",
       "      <td>3960.618549</td>\n",
       "      <td>6226.132629</td>\n",
       "      <td>2014.165897</td>\n",
       "    </tr>\n",
       "    <tr>\n",
       "      <th>std</th>\n",
       "      <td>1360.880112</td>\n",
       "      <td>11384.717195</td>\n",
       "      <td>4671.040323</td>\n",
       "      <td>11838.459737</td>\n",
       "      <td>12306.727684</td>\n",
       "      <td>2.114502</td>\n",
       "    </tr>\n",
       "    <tr>\n",
       "      <th>min</th>\n",
       "      <td>0.000000</td>\n",
       "      <td>-618.130000</td>\n",
       "      <td>-3628.780000</td>\n",
       "      <td>-618.130000</td>\n",
       "      <td>-3628.780000</td>\n",
       "      <td>2011.000000</td>\n",
       "    </tr>\n",
       "    <tr>\n",
       "      <th>25%</th>\n",
       "      <td>0.000000</td>\n",
       "      <td>139.162500</td>\n",
       "      <td>0.000000</td>\n",
       "      <td>146.597500</td>\n",
       "      <td>639.917500</td>\n",
       "      <td>2012.000000</td>\n",
       "    </tr>\n",
       "    <tr>\n",
       "      <th>50%</th>\n",
       "      <td>0.000000</td>\n",
       "      <td>845.595000</td>\n",
       "      <td>255.700000</td>\n",
       "      <td>868.900000</td>\n",
       "      <td>2810.160000</td>\n",
       "      <td>2015.000000</td>\n",
       "    </tr>\n",
       "    <tr>\n",
       "      <th>75%</th>\n",
       "      <td>0.000000</td>\n",
       "      <td>3314.682500</td>\n",
       "      <td>4645.560000</td>\n",
       "      <td>3339.217500</td>\n",
       "      <td>7511.410000</td>\n",
       "      <td>2016.000000</td>\n",
       "    </tr>\n",
       "    <tr>\n",
       "      <th>max</th>\n",
       "      <td>33176.650000</td>\n",
       "      <td>191685.150000</td>\n",
       "      <td>27898.030000</td>\n",
       "      <td>191685.150000</td>\n",
       "      <td>191685.150000</td>\n",
       "      <td>2017.000000</td>\n",
       "    </tr>\n",
       "  </tbody>\n",
       "</table>\n",
       "</div>"
      ],
      "text/plain": [
       "       Overtime Pay      Other Pay      Benefits      Total Pay  \\\n",
       "count   2598.000000    2598.000000   2149.000000    2598.000000   \n",
       "mean     102.829072    3857.789477   2738.857878    3960.618549   \n",
       "std     1360.880112   11384.717195   4671.040323   11838.459737   \n",
       "min        0.000000    -618.130000  -3628.780000    -618.130000   \n",
       "25%        0.000000     139.162500      0.000000     146.597500   \n",
       "50%        0.000000     845.595000    255.700000     868.900000   \n",
       "75%        0.000000    3314.682500   4645.560000    3339.217500   \n",
       "max    33176.650000  191685.150000  27898.030000  191685.150000   \n",
       "\n",
       "       Total Pay & Benefits         Year  \n",
       "count           2598.000000  2598.000000  \n",
       "mean            6226.132629  2014.165897  \n",
       "std            12306.727684     2.114502  \n",
       "min            -3628.780000  2011.000000  \n",
       "25%              639.917500  2012.000000  \n",
       "50%             2810.160000  2015.000000  \n",
       "75%             7511.410000  2016.000000  \n",
       "max           191685.150000  2017.000000  "
      ]
     },
     "execution_count": 39,
     "metadata": {},
     "output_type": "execute_result"
    }
   ],
   "source": [
    "noBasePay.describe()"
   ]
  },
  {
   "cell_type": "code",
   "execution_count": 135,
   "metadata": {},
   "outputs": [
    {
     "data": {
      "application/vnd.plotly.v1+json": {
       "data": [
        {
         "line": {
          "color": "rgba(255, 153, 51, 1.0)",
          "dash": "solid",
          "shape": "linear",
          "width": 1.3
         },
         "mode": "lines",
         "name": "Other Pay",
         "text": "",
         "type": "scatter",
         "x": [
          2011,
          2012,
          2014,
          2015,
          2016,
          2017
         ],
         "y": [
          4325.836280623612,
          5228.630357142858,
          4214.894292803971,
          3303.9933574879183,
          2747.3517857142842,
          3568.8553157894694
         ]
        },
        {
         "line": {
          "color": "rgba(55, 128, 191, 1.0)",
          "dash": "solid",
          "shape": "linear",
          "width": 1.3
         },
         "mode": "lines",
         "name": "Overtime Pay",
         "text": "",
         "type": "scatter",
         "x": [
          2011,
          2012,
          2014,
          2015,
          2016,
          2017
         ],
         "y": [
          192.96082405345214,
          315.55369047619047,
          1.3188585607940446,
          18.80183574879227,
          10.756578947368421,
          89.31581578947367
         ]
        },
        {
         "line": {
          "color": "rgba(50, 171, 96, 1.0)",
          "dash": "solid",
          "shape": "linear",
          "width": 1.3
         },
         "mode": "lines",
         "name": "Benefits",
         "text": "",
         "type": "scatter",
         "x": [
          2011,
          2012,
          2014,
          2015,
          2016,
          2017
         ],
         "y": [
          "",
          698.4377142857146,
          1839.8164019851097,
          3081.4030676328493,
          4807.746541353403,
          2677.8781578947364
         ]
        }
       ],
       "layout": {
        "legend": {
         "bgcolor": "#F5F6F9",
         "font": {
          "color": "#4D5663"
         }
        },
        "paper_bgcolor": "#F5F6F9",
        "plot_bgcolor": "#F5F6F9",
        "title": "Mean Pay Change of Employees with no Base Pay",
        "titlefont": {
         "color": "#4D5663"
        },
        "xaxis1": {
         "gridcolor": "#E1E5ED",
         "showgrid": true,
         "tickfont": {
          "color": "#4D5663"
         },
         "title": "Year",
         "titlefont": {
          "color": "#4D5663"
         },
         "zerolinecolor": "#E1E5ED"
        },
        "yaxis1": {
         "gridcolor": "#E1E5ED",
         "showgrid": true,
         "tickfont": {
          "color": "#4D5663"
         },
         "title": "Mean Pay Change",
         "titlefont": {
          "color": "#4D5663"
         },
         "zerolinecolor": "#E1E5ED"
        }
       }
      },
      "text/html": [
       "<div id=\"2d20077b-ab44-49ba-852d-819d9531d8bb\" style=\"height: 525px; width: 100%;\" class=\"plotly-graph-div\"></div><script type=\"text/javascript\">require([\"plotly\"], function(Plotly) { window.PLOTLYENV=window.PLOTLYENV || {};window.PLOTLYENV.BASE_URL=\"https://plot.ly\";Plotly.newPlot(\"2d20077b-ab44-49ba-852d-819d9531d8bb\", [{\"type\": \"scatter\", \"x\": [2011, 2012, 2014, 2015, 2016, 2017], \"y\": [4325.836280623612, 5228.630357142858, 4214.894292803971, 3303.9933574879183, 2747.3517857142842, 3568.8553157894694], \"name\": \"Other Pay\", \"text\": \"\", \"line\": {\"color\": \"rgba(255, 153, 51, 1.0)\", \"width\": 1.3, \"dash\": \"solid\", \"shape\": \"linear\"}, \"mode\": \"lines\"}, {\"type\": \"scatter\", \"x\": [2011, 2012, 2014, 2015, 2016, 2017], \"y\": [192.96082405345214, 315.55369047619047, 1.3188585607940446, 18.80183574879227, 10.756578947368421, 89.31581578947367], \"name\": \"Overtime Pay\", \"text\": \"\", \"line\": {\"color\": \"rgba(55, 128, 191, 1.0)\", \"width\": 1.3, \"dash\": \"solid\", \"shape\": \"linear\"}, \"mode\": \"lines\"}, {\"type\": \"scatter\", \"x\": [2011, 2012, 2014, 2015, 2016, 2017], \"y\": [\"\", 698.4377142857146, 1839.8164019851097, 3081.4030676328493, 4807.746541353403, 2677.8781578947364], \"name\": \"Benefits\", \"text\": \"\", \"line\": {\"color\": \"rgba(50, 171, 96, 1.0)\", \"width\": 1.3, \"dash\": \"solid\", \"shape\": \"linear\"}, \"mode\": \"lines\"}], {\"legend\": {\"bgcolor\": \"#F5F6F9\", \"font\": {\"color\": \"#4D5663\"}}, \"paper_bgcolor\": \"#F5F6F9\", \"plot_bgcolor\": \"#F5F6F9\", \"yaxis1\": {\"tickfont\": {\"color\": \"#4D5663\"}, \"gridcolor\": \"#E1E5ED\", \"titlefont\": {\"color\": \"#4D5663\"}, \"zerolinecolor\": \"#E1E5ED\", \"showgrid\": true, \"title\": \"Mean Pay Change\"}, \"xaxis1\": {\"tickfont\": {\"color\": \"#4D5663\"}, \"gridcolor\": \"#E1E5ED\", \"titlefont\": {\"color\": \"#4D5663\"}, \"zerolinecolor\": \"#E1E5ED\", \"showgrid\": true, \"title\": \"Year\"}, \"titlefont\": {\"color\": \"#4D5663\"}, \"title\": \"Mean Pay Change of Employees with no Base Pay\"}, {\"showLink\": true, \"linkText\": \"Export to plot.ly\"})});</script>"
      ],
      "text/vnd.plotly.v1+html": [
       "<div id=\"2d20077b-ab44-49ba-852d-819d9531d8bb\" style=\"height: 525px; width: 100%;\" class=\"plotly-graph-div\"></div><script type=\"text/javascript\">require([\"plotly\"], function(Plotly) { window.PLOTLYENV=window.PLOTLYENV || {};window.PLOTLYENV.BASE_URL=\"https://plot.ly\";Plotly.newPlot(\"2d20077b-ab44-49ba-852d-819d9531d8bb\", [{\"type\": \"scatter\", \"x\": [2011, 2012, 2014, 2015, 2016, 2017], \"y\": [4325.836280623612, 5228.630357142858, 4214.894292803971, 3303.9933574879183, 2747.3517857142842, 3568.8553157894694], \"name\": \"Other Pay\", \"text\": \"\", \"line\": {\"color\": \"rgba(255, 153, 51, 1.0)\", \"width\": 1.3, \"dash\": \"solid\", \"shape\": \"linear\"}, \"mode\": \"lines\"}, {\"type\": \"scatter\", \"x\": [2011, 2012, 2014, 2015, 2016, 2017], \"y\": [192.96082405345214, 315.55369047619047, 1.3188585607940446, 18.80183574879227, 10.756578947368421, 89.31581578947367], \"name\": \"Overtime Pay\", \"text\": \"\", \"line\": {\"color\": \"rgba(55, 128, 191, 1.0)\", \"width\": 1.3, \"dash\": \"solid\", \"shape\": \"linear\"}, \"mode\": \"lines\"}, {\"type\": \"scatter\", \"x\": [2011, 2012, 2014, 2015, 2016, 2017], \"y\": [\"\", 698.4377142857146, 1839.8164019851097, 3081.4030676328493, 4807.746541353403, 2677.8781578947364], \"name\": \"Benefits\", \"text\": \"\", \"line\": {\"color\": \"rgba(50, 171, 96, 1.0)\", \"width\": 1.3, \"dash\": \"solid\", \"shape\": \"linear\"}, \"mode\": \"lines\"}], {\"legend\": {\"bgcolor\": \"#F5F6F9\", \"font\": {\"color\": \"#4D5663\"}}, \"paper_bgcolor\": \"#F5F6F9\", \"plot_bgcolor\": \"#F5F6F9\", \"yaxis1\": {\"tickfont\": {\"color\": \"#4D5663\"}, \"gridcolor\": \"#E1E5ED\", \"titlefont\": {\"color\": \"#4D5663\"}, \"zerolinecolor\": \"#E1E5ED\", \"showgrid\": true, \"title\": \"Mean Pay Change\"}, \"xaxis1\": {\"tickfont\": {\"color\": \"#4D5663\"}, \"gridcolor\": \"#E1E5ED\", \"titlefont\": {\"color\": \"#4D5663\"}, \"zerolinecolor\": \"#E1E5ED\", \"showgrid\": true, \"title\": \"Year\"}, \"titlefont\": {\"color\": \"#4D5663\"}, \"title\": \"Mean Pay Change of Employees with no Base Pay\"}, {\"showLink\": true, \"linkText\": \"Export to plot.ly\"})});</script>"
      ]
     },
     "metadata": {},
     "output_type": "display_data"
    }
   ],
   "source": [
    "noBasePay.groupby('Year')[['Other Pay','Overtime Pay','Benefits']].mean().iplot('scatter',\n",
    "                                                                               title='Mean Pay Change of Employees with no Base Pay',\n",
    "                                                                               xTitle='Year',yTitle='Mean Pay Change')"
   ]
  },
  {
   "cell_type": "code",
   "execution_count": 40,
   "metadata": {},
   "outputs": [
    {
     "name": "stdout",
     "output_type": "stream",
     "text": [
      "Is the year 2013 in the noBasePay dataframe ?\n",
      " False\n"
     ]
    }
   ],
   "source": [
    "print('Is the year 2013 in the noBasePay dataframe ?\\n', 2013 in noBasePay)"
   ]
  },
  {
   "cell_type": "code",
   "execution_count": 137,
   "metadata": {},
   "outputs": [
    {
     "name": "stderr",
     "output_type": "stream",
     "text": [
      "/Users/simasjanusas/anaconda3/lib/python3.6/site-packages/numpy/lib/function_base.py:780: RuntimeWarning:\n",
      "\n",
      "invalid value encountered in greater_equal\n",
      "\n",
      "/Users/simasjanusas/anaconda3/lib/python3.6/site-packages/numpy/lib/function_base.py:781: RuntimeWarning:\n",
      "\n",
      "invalid value encountered in less_equal\n",
      "\n"
     ]
    },
    {
     "data": {
      "text/plain": [
       "<seaborn.axisgrid.PairGrid at 0x114ee7f98>"
      ]
     },
     "execution_count": 137,
     "metadata": {},
     "output_type": "execute_result"
    },
    {
     "data": {
      "image/png": "[encoded data removed]",
      "text/plain": [
       "<Figure size 1128x1080 with 42 Axes>"
      ]
     },
     "metadata": {},
     "output_type": "display_data"
    }
   ],
   "source": [
    "# printing the pairplot chart of the NoBase Pay, categorized by the employment type\n",
    "sns.pairplot(noBasePay,hue='Status')"
   ]
  },
  {
   "cell_type": "markdown",
   "metadata": {},
   "source": [
    "** Notes: **\n",
    "\n",
    "From the pairplot chart above the following insights are present in employees with no Base Pay:\n",
    "- There were no Part Time employees from 2011 until 2014, also in 2016.\n",
    "- Part Timers relied the most on the Overtime Pay, Benefits and Other type of Pay. \n",
    "- Part timers were the highest Benefits receivers in the year 2017. \n",
    "- Other Pay was the highest contributing category of salary to Total Pay (including Benefits)."
   ]
  },
  {
   "cell_type": "code",
   "execution_count": 138,
   "metadata": {},
   "outputs": [],
   "source": [
    "# creating a new dF with the mean percentage change of the salaries over the years.\n",
    "noBasePay_change = noBasePay.groupby('Year').mean()[['Overtime Pay', 'Other Pay', 'Benefits',\n",
    "       'Total Pay', 'Total Pay & Benefits']].pct_change()"
   ]
  },
  {
   "cell_type": "code",
   "execution_count": 139,
   "metadata": {},
   "outputs": [
    {
     "data": {
      "application/vnd.plotly.v1+json": {
       "data": [
        {
         "marker": {
          "color": "rgba(255, 153, 51, 0.6)",
          "line": {
           "color": "rgba(255, 153, 51, 1.0)",
           "width": 1
          }
         },
         "name": "Overtime Pay",
         "orientation": "v",
         "text": "",
         "type": "bar",
         "x": [
          2012,
          2014,
          2015,
          2016,
          2017
         ],
         "xaxis": "x1",
         "y": [
          0.6353251600375569,
          -0.995820493942556,
          13.25614262796479,
          -0.4278974090038328,
          7.303366360856268
         ],
         "yaxis": "y1"
        },
        {
         "marker": {
          "color": "rgba(55, 128, 191, 0.6)",
          "line": {
           "color": "rgba(55, 128, 191, 1.0)",
           "width": 1
          }
         },
         "name": "Other Pay",
         "orientation": "v",
         "text": "",
         "type": "bar",
         "x": [
          2012,
          2014,
          2015,
          2016,
          2017
         ],
         "xaxis": "x2",
         "y": [
          0.20869816099214455,
          -0.1938817615886762,
          -0.21611477584887984,
          -0.16847539070019746,
          0.2990165054023477
         ],
         "yaxis": "y2"
        },
        {
         "marker": {
          "color": "rgba(50, 171, 96, 0.6)",
          "line": {
           "color": "rgba(50, 171, 96, 1.0)",
           "width": 1
          }
         },
         "name": "Benefits",
         "orientation": "v",
         "text": "",
         "type": "bar",
         "x": [
          2012,
          2014,
          2015,
          2016,
          2017
         ],
         "xaxis": "x3",
         "y": [
          "",
          1.6341882237368464,
          0.6748426986019382,
          0.5602459126019952,
          -0.4430076263669046
         ],
         "yaxis": "y3"
        },
        {
         "marker": {
          "color": "rgba(128, 0, 128, 0.6)",
          "line": {
           "color": "rgba(128, 0, 128, 1.0)",
           "width": 1
          }
         },
         "name": "Total Pay",
         "orientation": "v",
         "text": "",
         "type": "bar",
         "x": [
          2012,
          2014,
          2015,
          2016,
          2017
         ],
         "xaxis": "x4",
         "y": [
          0.22691590686394858,
          -0.23952503828305982,
          -0.21190056718049466,
          -0.16994331450955302,
          0.3263333589243165
         ],
         "yaxis": "y4"
        },
        {
         "marker": {
          "color": "rgba(219, 64, 82, 0.6)",
          "line": {
           "color": "rgba(219, 64, 82, 1.0)",
           "width": 1
          }
         },
         "name": "Total Pay & Benefits",
         "orientation": "v",
         "text": "",
         "type": "bar",
         "x": [
          2012,
          2014,
          2015,
          2016,
          2017
         ],
         "xaxis": "x5",
         "y": [
          0.3814786584340075,
          -0.029890039100803345,
          0.05749124974581554,
          0.1813898629971118,
          -0.16254681484357147
         ],
         "yaxis": "y5"
        }
       ],
       "layout": {
        "legend": {
         "bgcolor": "#F5F6F9",
         "font": {
          "color": "#4D5663"
         }
        },
        "paper_bgcolor": "#F5F6F9",
        "plot_bgcolor": "#F5F6F9",
        "title": "Mean Percentage Change of Employees Salaries with no Base Pay",
        "titlefont": {
         "color": "#4D5663"
        },
        "xaxis1": {
         "anchor": "y1",
         "domain": [
          0,
          0.45
         ],
         "gridcolor": "#E1E5ED",
         "showgrid": true,
         "tickfont": {
          "color": "#4D5663"
         },
         "title": "",
         "titlefont": {
          "color": "#4D5663"
         },
         "zerolinecolor": "#E1E5ED"
        },
        "xaxis2": {
         "anchor": "y2",
         "domain": [
          0.55,
          1
         ]
        },
        "xaxis3": {
         "anchor": "y3",
         "domain": [
          0,
          0.45
         ]
        },
        "xaxis4": {
         "anchor": "y4",
         "domain": [
          0.55,
          1
         ]
        },
        "xaxis5": {
         "anchor": "y5",
         "domain": [
          0,
          0.45
         ]
        },
        "yaxis1": {
         "anchor": "x1",
         "domain": [
          0.7333333333333333,
          1
         ],
         "gridcolor": "#E1E5ED",
         "showgrid": true,
         "tickfont": {
          "color": "#4D5663"
         },
         "title": "",
         "titlefont": {
          "color": "#4D5663"
         },
         "zerolinecolor": "#E1E5ED"
        },
        "yaxis2": {
         "anchor": "x2",
         "domain": [
          0.7333333333333333,
          1
         ]
        },
        "yaxis3": {
         "anchor": "x3",
         "domain": [
          0.36666666666666664,
          0.6333333333333333
         ]
        },
        "yaxis4": {
         "anchor": "x4",
         "domain": [
          0.36666666666666664,
          0.6333333333333333
         ]
        },
        "yaxis5": {
         "anchor": "x5",
         "domain": [
          0,
          0.26666666666666666
         ]
        }
       }
      },
      "text/html": [
       "<div id=\"75ecc685-56ec-4c9e-aa42-947030221904\" style=\"height: 525px; width: 100%;\" class=\"plotly-graph-div\"></div><script type=\"text/javascript\">require([\"plotly\"], function(Plotly) { window.PLOTLYENV=window.PLOTLYENV || {};window.PLOTLYENV.BASE_URL=\"https://plot.ly\";Plotly.newPlot(\"75ecc685-56ec-4c9e-aa42-947030221904\", [{\"type\": \"bar\", \"x\": [2012, 2014, 2015, 2016, 2017], \"y\": [0.6353251600375569, -0.995820493942556, 13.25614262796479, -0.4278974090038328, 7.303366360856268], \"name\": \"Overtime Pay\", \"text\": \"\", \"marker\": {\"color\": \"rgba(255, 153, 51, 0.6)\", \"line\": {\"color\": \"rgba(255, 153, 51, 1.0)\", \"width\": 1}}, \"orientation\": \"v\", \"xaxis\": \"x1\", \"yaxis\": \"y1\"}, {\"type\": \"bar\", \"x\": [2012, 2014, 2015, 2016, 2017], \"y\": [0.20869816099214455, -0.1938817615886762, -0.21611477584887984, -0.16847539070019746, 0.2990165054023477], \"name\": \"Other Pay\", \"text\": \"\", \"marker\": {\"color\": \"rgba(55, 128, 191, 0.6)\", \"line\": {\"color\": \"rgba(55, 128, 191, 1.0)\", \"width\": 1}}, \"orientation\": \"v\", \"xaxis\": \"x2\", \"yaxis\": \"y2\"}, {\"type\": \"bar\", \"x\": [2012, 2014, 2015, 2016, 2017], \"y\": [\"\", 1.6341882237368464, 0.6748426986019382, 0.5602459126019952, -0.4430076263669046], \"name\": \"Benefits\", \"text\": \"\", \"marker\": {\"color\": \"rgba(50, 171, 96, 0.6)\", \"line\": {\"color\": \"rgba(50, 171, 96, 1.0)\", \"width\": 1}}, \"orientation\": \"v\", \"xaxis\": \"x3\", \"yaxis\": \"y3\"}, {\"type\": \"bar\", \"x\": [2012, 2014, 2015, 2016, 2017], \"y\": [0.22691590686394858, -0.23952503828305982, -0.21190056718049466, -0.16994331450955302, 0.3263333589243165], \"name\": \"Total Pay\", \"text\": \"\", \"marker\": {\"color\": \"rgba(128, 0, 128, 0.6)\", \"line\": {\"color\": \"rgba(128, 0, 128, 1.0)\", \"width\": 1}}, \"orientation\": \"v\", \"xaxis\": \"x4\", \"yaxis\": \"y4\"}, {\"type\": \"bar\", \"x\": [2012, 2014, 2015, 2016, 2017], \"y\": [0.3814786584340075, -0.029890039100803345, 0.05749124974581554, 0.1813898629971118, -0.16254681484357147], \"name\": \"Total Pay & Benefits\", \"text\": \"\", \"marker\": {\"color\": \"rgba(219, 64, 82, 0.6)\", \"line\": {\"color\": \"rgba(219, 64, 82, 1.0)\", \"width\": 1}}, \"orientation\": \"v\", \"xaxis\": \"x5\", \"yaxis\": \"y5\"}], {\"xaxis1\": {\"domain\": [0.0, 0.45], \"anchor\": \"y1\", \"tickfont\": {\"color\": \"#4D5663\"}, \"gridcolor\": \"#E1E5ED\", \"titlefont\": {\"color\": \"#4D5663\"}, \"zerolinecolor\": \"#E1E5ED\", \"showgrid\": true, \"title\": \"\"}, \"yaxis1\": {\"domain\": [0.7333333333333333, 1.0], \"anchor\": \"x1\", \"tickfont\": {\"color\": \"#4D5663\"}, \"gridcolor\": \"#E1E5ED\", \"titlefont\": {\"color\": \"#4D5663\"}, \"zerolinecolor\": \"#E1E5ED\", \"showgrid\": true, \"title\": \"\"}, \"xaxis2\": {\"domain\": [0.55, 1.0], \"anchor\": \"y2\"}, \"yaxis2\": {\"domain\": [0.7333333333333333, 1.0], \"anchor\": \"x2\"}, \"xaxis3\": {\"domain\": [0.0, 0.45], \"anchor\": \"y3\"}, \"yaxis3\": {\"domain\": [0.36666666666666664, 0.6333333333333333], \"anchor\": \"x3\"}, \"xaxis4\": {\"domain\": [0.55, 1.0], \"anchor\": \"y4\"}, \"yaxis4\": {\"domain\": [0.36666666666666664, 0.6333333333333333], \"anchor\": \"x4\"}, \"xaxis5\": {\"domain\": [0.0, 0.45], \"anchor\": \"y5\"}, \"yaxis5\": {\"domain\": [0.0, 0.26666666666666666], \"anchor\": \"x5\"}, \"legend\": {\"bgcolor\": \"#F5F6F9\", \"font\": {\"color\": \"#4D5663\"}}, \"paper_bgcolor\": \"#F5F6F9\", \"plot_bgcolor\": \"#F5F6F9\", \"titlefont\": {\"color\": \"#4D5663\"}, \"title\": \"Mean Percentage Change of Employees Salaries with no Base Pay\"}, {\"showLink\": true, \"linkText\": \"Export to plot.ly\"})});</script>"
      ],
      "text/vnd.plotly.v1+html": [
       "<div id=\"75ecc685-56ec-4c9e-aa42-947030221904\" style=\"height: 525px; width: 100%;\" class=\"plotly-graph-div\"></div><script type=\"text/javascript\">require([\"plotly\"], function(Plotly) { window.PLOTLYENV=window.PLOTLYENV || {};window.PLOTLYENV.BASE_URL=\"https://plot.ly\";Plotly.newPlot(\"75ecc685-56ec-4c9e-aa42-947030221904\", [{\"type\": \"bar\", \"x\": [2012, 2014, 2015, 2016, 2017], \"y\": [0.6353251600375569, -0.995820493942556, 13.25614262796479, -0.4278974090038328, 7.303366360856268], \"name\": \"Overtime Pay\", \"text\": \"\", \"marker\": {\"color\": \"rgba(255, 153, 51, 0.6)\", \"line\": {\"color\": \"rgba(255, 153, 51, 1.0)\", \"width\": 1}}, \"orientation\": \"v\", \"xaxis\": \"x1\", \"yaxis\": \"y1\"}, {\"type\": \"bar\", \"x\": [2012, 2014, 2015, 2016, 2017], \"y\": [0.20869816099214455, -0.1938817615886762, -0.21611477584887984, -0.16847539070019746, 0.2990165054023477], \"name\": \"Other Pay\", \"text\": \"\", \"marker\": {\"color\": \"rgba(55, 128, 191, 0.6)\", \"line\": {\"color\": \"rgba(55, 128, 191, 1.0)\", \"width\": 1}}, \"orientation\": \"v\", \"xaxis\": \"x2\", \"yaxis\": \"y2\"}, {\"type\": \"bar\", \"x\": [2012, 2014, 2015, 2016, 2017], \"y\": [\"\", 1.6341882237368464, 0.6748426986019382, 0.5602459126019952, -0.4430076263669046], \"name\": \"Benefits\", \"text\": \"\", \"marker\": {\"color\": \"rgba(50, 171, 96, 0.6)\", \"line\": {\"color\": \"rgba(50, 171, 96, 1.0)\", \"width\": 1}}, \"orientation\": \"v\", \"xaxis\": \"x3\", \"yaxis\": \"y3\"}, {\"type\": \"bar\", \"x\": [2012, 2014, 2015, 2016, 2017], \"y\": [0.22691590686394858, -0.23952503828305982, -0.21190056718049466, -0.16994331450955302, 0.3263333589243165], \"name\": \"Total Pay\", \"text\": \"\", \"marker\": {\"color\": \"rgba(128, 0, 128, 0.6)\", \"line\": {\"color\": \"rgba(128, 0, 128, 1.0)\", \"width\": 1}}, \"orientation\": \"v\", \"xaxis\": \"x4\", \"yaxis\": \"y4\"}, {\"type\": \"bar\", \"x\": [2012, 2014, 2015, 2016, 2017], \"y\": [0.3814786584340075, -0.029890039100803345, 0.05749124974581554, 0.1813898629971118, -0.16254681484357147], \"name\": \"Total Pay & Benefits\", \"text\": \"\", \"marker\": {\"color\": \"rgba(219, 64, 82, 0.6)\", \"line\": {\"color\": \"rgba(219, 64, 82, 1.0)\", \"width\": 1}}, \"orientation\": \"v\", \"xaxis\": \"x5\", \"yaxis\": \"y5\"}], {\"xaxis1\": {\"domain\": [0.0, 0.45], \"anchor\": \"y1\", \"tickfont\": {\"color\": \"#4D5663\"}, \"gridcolor\": \"#E1E5ED\", \"titlefont\": {\"color\": \"#4D5663\"}, \"zerolinecolor\": \"#E1E5ED\", \"showgrid\": true, \"title\": \"\"}, \"yaxis1\": {\"domain\": [0.7333333333333333, 1.0], \"anchor\": \"x1\", \"tickfont\": {\"color\": \"#4D5663\"}, \"gridcolor\": \"#E1E5ED\", \"titlefont\": {\"color\": \"#4D5663\"}, \"zerolinecolor\": \"#E1E5ED\", \"showgrid\": true, \"title\": \"\"}, \"xaxis2\": {\"domain\": [0.55, 1.0], \"anchor\": \"y2\"}, \"yaxis2\": {\"domain\": [0.7333333333333333, 1.0], \"anchor\": \"x2\"}, \"xaxis3\": {\"domain\": [0.0, 0.45], \"anchor\": \"y3\"}, \"yaxis3\": {\"domain\": [0.36666666666666664, 0.6333333333333333], \"anchor\": \"x3\"}, \"xaxis4\": {\"domain\": [0.55, 1.0], \"anchor\": \"y4\"}, \"yaxis4\": {\"domain\": [0.36666666666666664, 0.6333333333333333], \"anchor\": \"x4\"}, \"xaxis5\": {\"domain\": [0.0, 0.45], \"anchor\": \"y5\"}, \"yaxis5\": {\"domain\": [0.0, 0.26666666666666666], \"anchor\": \"x5\"}, \"legend\": {\"bgcolor\": \"#F5F6F9\", \"font\": {\"color\": \"#4D5663\"}}, \"paper_bgcolor\": \"#F5F6F9\", \"plot_bgcolor\": \"#F5F6F9\", \"titlefont\": {\"color\": \"#4D5663\"}, \"title\": \"Mean Percentage Change of Employees Salaries with no Base Pay\"}, {\"showLink\": true, \"linkText\": \"Export to plot.ly\"})});</script>"
      ]
     },
     "metadata": {},
     "output_type": "display_data"
    }
   ],
   "source": [
    "# plotting the results\n",
    "noBasePay_change[1:].iplot('bar',subplots=True,title='Mean Percentage Change of Employees Salaries with no Base Pay')"
   ]
  },
  {
   "cell_type": "markdown",
   "metadata": {},
   "source": [
    "### Examining dataset values with negative Base Pay values"
   ]
  },
  {
   "cell_type": "code",
   "execution_count": 41,
   "metadata": {},
   "outputs": [
    {
     "data": {
      "text/plain": [
       "Agency                   1\n",
       "Base Pay                13\n",
       "Benefits                13\n",
       "Employee Name           13\n",
       "Job Title                4\n",
       "Other Pay                2\n",
       "Overtime Pay            12\n",
       "Status                   2\n",
       "Total Pay               13\n",
       "Total Pay & Benefits    13\n",
       "Year                     3\n",
       "title_len                4\n",
       "dtype: int64"
      ]
     },
     "execution_count": 41,
     "metadata": {},
     "output_type": "execute_result"
    }
   ],
   "source": [
    "salaries[salaries['Base Pay']<0].nunique()"
   ]
  },
  {
   "cell_type": "markdown",
   "metadata": {},
   "source": [
    "** Notes: **\n",
    "* There are 13 employees who had negative Base Pay, with 4 different Job Titles in 3 different years."
   ]
  },
  {
   "cell_type": "code",
   "execution_count": 57,
   "metadata": {},
   "outputs": [
    {
     "name": "stdout",
     "output_type": "stream",
     "text": [
      "Junior Clerk               10\n",
      "Clerk                       1\n",
      "Custodian                   1\n",
      "PS Aide Health Services     1\n",
      "Name: Job Title, dtype: int64\n",
      "----------\n",
      "Agency                             San Francisco\n",
      "Base Pay                                  -474.4\n",
      "Benefits                                  -79.35\n",
      "Employee Name           Carlos R Castro Santiago\n",
      "Job Title                                  Clerk\n",
      "Other Pay                                 -23.72\n",
      "Overtime Pay                                   0\n",
      "Status                                        FT\n",
      "Total Pay                                -498.12\n",
      "Total Pay & Benefits                     -577.47\n",
      "Year                                        2012\n",
      "title_len                                      5\n",
      "dtype: object\n"
     ]
    }
   ],
   "source": [
    "# printing data set of employees who has received negative Base Pay.\n",
    "print(salaries[salaries['Base Pay']<0]['Job Title'].value_counts())\n",
    "print('-'*10)\n",
    "print(salaries[salaries['Base Pay']<0].min())"
   ]
  },
  {
   "cell_type": "markdown",
   "metadata": {},
   "source": [
    "** Notes: **\n",
    "* Clerk's were a majority that has received negative Base Pay, within Job Title group. Particularly, Junior Clerk title holders. However, a Custodian, Carlos R Castro Santiago was at the bottom."
   ]
  },
  {
   "cell_type": "markdown",
   "metadata": {},
   "source": [
    "### Are there any negative earnings in a Total Pay & Benefits dataset column?\n",
    "\n"
   ]
  },
  {
   "cell_type": "code",
   "execution_count": 144,
   "metadata": {
    "scrolled": true
   },
   "outputs": [
    {
     "data": {
      "text/plain": [
       "Agency                   1\n",
       "Base Pay                 3\n",
       "Benefits                 9\n",
       "Employee Name           10\n",
       "Job Title                8\n",
       "Other Pay                5\n",
       "Overtime Pay             1\n",
       "Status                   2\n",
       "Total Pay                6\n",
       "Total Pay & Benefits    10\n",
       "Year                     5\n",
       "title_len                8\n",
       "dtype: int64"
      ]
     },
     "execution_count": 144,
     "metadata": {},
     "output_type": "execute_result"
    }
   ],
   "source": [
    "salaries[salaries['Total Pay & Benefits']<0].nunique()"
   ]
  },
  {
   "cell_type": "code",
   "execution_count": 145,
   "metadata": {},
   "outputs": [
    {
     "data": {
      "text/html": [
       "<div>\n",
       "<style scoped>\n",
       "    .dataframe tbody tr th:only-of-type {\n",
       "        vertical-align: middle;\n",
       "    }\n",
       "\n",
       "    .dataframe tbody tr th {\n",
       "        vertical-align: top;\n",
       "    }\n",
       "\n",
       "    .dataframe thead th {\n",
       "        text-align: right;\n",
       "    }\n",
       "</style>\n",
       "<table border=\"1\" class=\"dataframe\">\n",
       "  <thead>\n",
       "    <tr style=\"text-align: right;\">\n",
       "      <th></th>\n",
       "      <th>Agency</th>\n",
       "      <th>Base Pay</th>\n",
       "      <th>Benefits</th>\n",
       "      <th>Employee Name</th>\n",
       "      <th>Job Title</th>\n",
       "      <th>Other Pay</th>\n",
       "      <th>Overtime Pay</th>\n",
       "      <th>Status</th>\n",
       "      <th>Total Pay</th>\n",
       "      <th>Total Pay &amp; Benefits</th>\n",
       "      <th>Year</th>\n",
       "      <th>title_len</th>\n",
       "    </tr>\n",
       "  </thead>\n",
       "  <tbody>\n",
       "    <tr>\n",
       "      <th>37603</th>\n",
       "      <td>San Francisco</td>\n",
       "      <td>NaN</td>\n",
       "      <td>-2.73</td>\n",
       "      <td>Timothy E Gibson</td>\n",
       "      <td>Police Officer 3</td>\n",
       "      <td>0.00</td>\n",
       "      <td>0.0</td>\n",
       "      <td>FT</td>\n",
       "      <td>0.00</td>\n",
       "      <td>-2.73</td>\n",
       "      <td>2013</td>\n",
       "      <td>16</td>\n",
       "    </tr>\n",
       "    <tr>\n",
       "      <th>37604</th>\n",
       "      <td>San Francisco</td>\n",
       "      <td>NaN</td>\n",
       "      <td>-8.20</td>\n",
       "      <td>Mark E Laherty</td>\n",
       "      <td>Police Officer 3</td>\n",
       "      <td>0.00</td>\n",
       "      <td>0.0</td>\n",
       "      <td>FT</td>\n",
       "      <td>0.00</td>\n",
       "      <td>-8.20</td>\n",
       "      <td>2013</td>\n",
       "      <td>16</td>\n",
       "    </tr>\n",
       "    <tr>\n",
       "      <th>37605</th>\n",
       "      <td>San Francisco</td>\n",
       "      <td>NaN</td>\n",
       "      <td>-33.89</td>\n",
       "      <td>David P Kucia</td>\n",
       "      <td>Police Officer 3</td>\n",
       "      <td>0.00</td>\n",
       "      <td>0.0</td>\n",
       "      <td>FT</td>\n",
       "      <td>0.00</td>\n",
       "      <td>-33.89</td>\n",
       "      <td>2013</td>\n",
       "      <td>16</td>\n",
       "    </tr>\n",
       "    <tr>\n",
       "      <th>40967</th>\n",
       "      <td>San Francisco</td>\n",
       "      <td>0.0</td>\n",
       "      <td>-13.15</td>\n",
       "      <td>Rana Calonsag</td>\n",
       "      <td>Executive Secretary 3</td>\n",
       "      <td>1.83</td>\n",
       "      <td>0.0</td>\n",
       "      <td>FT</td>\n",
       "      <td>1.83</td>\n",
       "      <td>-11.32</td>\n",
       "      <td>2016</td>\n",
       "      <td>21</td>\n",
       "    </tr>\n",
       "    <tr>\n",
       "      <th>40968</th>\n",
       "      <td>San Francisco</td>\n",
       "      <td>0.0</td>\n",
       "      <td>-13.15</td>\n",
       "      <td>Bruce W Moore</td>\n",
       "      <td>IS Engineer-Journey</td>\n",
       "      <td>0.00</td>\n",
       "      <td>0.0</td>\n",
       "      <td>FT</td>\n",
       "      <td>0.00</td>\n",
       "      <td>-13.15</td>\n",
       "      <td>2016</td>\n",
       "      <td>19</td>\n",
       "    </tr>\n",
       "    <tr>\n",
       "      <th>40969</th>\n",
       "      <td>San Francisco</td>\n",
       "      <td>0.0</td>\n",
       "      <td>6.69</td>\n",
       "      <td>Elvira James</td>\n",
       "      <td>Secretary 2</td>\n",
       "      <td>-60.00</td>\n",
       "      <td>0.0</td>\n",
       "      <td>FT</td>\n",
       "      <td>-60.00</td>\n",
       "      <td>-53.31</td>\n",
       "      <td>2016</td>\n",
       "      <td>11</td>\n",
       "    </tr>\n",
       "    <tr>\n",
       "      <th>41564</th>\n",
       "      <td>San Francisco</td>\n",
       "      <td>-474.4</td>\n",
       "      <td>-79.35</td>\n",
       "      <td>Carlos R Castro Santiago</td>\n",
       "      <td>Custodian</td>\n",
       "      <td>-23.72</td>\n",
       "      <td>0.0</td>\n",
       "      <td>PT</td>\n",
       "      <td>-498.12</td>\n",
       "      <td>-577.47</td>\n",
       "      <td>2017</td>\n",
       "      <td>9</td>\n",
       "    </tr>\n",
       "    <tr>\n",
       "      <th>41565</th>\n",
       "      <td>San Francisco</td>\n",
       "      <td>0.0</td>\n",
       "      <td>-3628.78</td>\n",
       "      <td>Melinda R Valle</td>\n",
       "      <td>Medical Evaluations Assistant</td>\n",
       "      <td>0.00</td>\n",
       "      <td>0.0</td>\n",
       "      <td>PT</td>\n",
       "      <td>0.00</td>\n",
       "      <td>-3628.78</td>\n",
       "      <td>2017</td>\n",
       "      <td>29</td>\n",
       "    </tr>\n",
       "    <tr>\n",
       "      <th>39386</th>\n",
       "      <td>San Francisco</td>\n",
       "      <td>-292.4</td>\n",
       "      <td>-2.92</td>\n",
       "      <td>Lubna Kaur</td>\n",
       "      <td>PS Aide Health Services</td>\n",
       "      <td>0.00</td>\n",
       "      <td>0.0</td>\n",
       "      <td>PT</td>\n",
       "      <td>-292.40</td>\n",
       "      <td>-295.32</td>\n",
       "      <td>2015</td>\n",
       "      <td>23</td>\n",
       "    </tr>\n",
       "    <tr>\n",
       "      <th>38118</th>\n",
       "      <td>San Francisco</td>\n",
       "      <td>0.0</td>\n",
       "      <td>0.00</td>\n",
       "      <td>Joe Lopez</td>\n",
       "      <td>Counselor, Log Cabin Ranch</td>\n",
       "      <td>-618.13</td>\n",
       "      <td>0.0</td>\n",
       "      <td>PT</td>\n",
       "      <td>-618.13</td>\n",
       "      <td>-618.13</td>\n",
       "      <td>2014</td>\n",
       "      <td>26</td>\n",
       "    </tr>\n",
       "  </tbody>\n",
       "</table>\n",
       "</div>"
      ],
      "text/plain": [
       "              Agency  Base Pay  Benefits             Employee Name  \\\n",
       "37603  San Francisco       NaN     -2.73          Timothy E Gibson   \n",
       "37604  San Francisco       NaN     -8.20            Mark E Laherty   \n",
       "37605  San Francisco       NaN    -33.89             David P Kucia   \n",
       "40967  San Francisco       0.0    -13.15             Rana Calonsag   \n",
       "40968  San Francisco       0.0    -13.15             Bruce W Moore   \n",
       "40969  San Francisco       0.0      6.69              Elvira James   \n",
       "41564  San Francisco    -474.4    -79.35  Carlos R Castro Santiago   \n",
       "41565  San Francisco       0.0  -3628.78           Melinda R Valle   \n",
       "39386  San Francisco    -292.4     -2.92                Lubna Kaur   \n",
       "38118  San Francisco       0.0      0.00                 Joe Lopez   \n",
       "\n",
       "                           Job Title  Other Pay  Overtime Pay Status  \\\n",
       "37603               Police Officer 3       0.00           0.0     FT   \n",
       "37604               Police Officer 3       0.00           0.0     FT   \n",
       "37605               Police Officer 3       0.00           0.0     FT   \n",
       "40967          Executive Secretary 3       1.83           0.0     FT   \n",
       "40968            IS Engineer-Journey       0.00           0.0     FT   \n",
       "40969                    Secretary 2     -60.00           0.0     FT   \n",
       "41564                      Custodian     -23.72           0.0     PT   \n",
       "41565  Medical Evaluations Assistant       0.00           0.0     PT   \n",
       "39386        PS Aide Health Services       0.00           0.0     PT   \n",
       "38118     Counselor, Log Cabin Ranch    -618.13           0.0     PT   \n",
       "\n",
       "       Total Pay  Total Pay & Benefits  Year  title_len  \n",
       "37603       0.00                 -2.73  2013         16  \n",
       "37604       0.00                 -8.20  2013         16  \n",
       "37605       0.00                -33.89  2013         16  \n",
       "40967       1.83                -11.32  2016         21  \n",
       "40968       0.00                -13.15  2016         19  \n",
       "40969     -60.00                -53.31  2016         11  \n",
       "41564    -498.12               -577.47  2017          9  \n",
       "41565       0.00              -3628.78  2017         29  \n",
       "39386    -292.40               -295.32  2015         23  \n",
       "38118    -618.13               -618.13  2014         26  "
      ]
     },
     "execution_count": 145,
     "metadata": {},
     "output_type": "execute_result"
    }
   ],
   "source": [
    "salaries[salaries['Total Pay & Benefits']<0]"
   ]
  },
  {
   "cell_type": "markdown",
   "metadata": {},
   "source": [
    "### Are there any employess that has received benefits largers than their total pays? If yes, which Job Titles they hold?"
   ]
  },
  {
   "cell_type": "code",
   "execution_count": 146,
   "metadata": {},
   "outputs": [
    {
     "name": "stdout",
     "output_type": "stream",
     "text": [
      "Total number of employees who has received Benefits larger than Total Pay:  1727\n"
     ]
    }
   ],
   "source": [
    "print('Total number of employees who has received Benefits larger than Total Pay: ',\n",
    "      sum(salaries[salaries['Benefits']> salaries['Total Pay']]['Employee Name'].value_counts()))"
   ]
  },
  {
   "cell_type": "code",
   "execution_count": 154,
   "metadata": {},
   "outputs": [
    {
     "data": {
      "text/plain": [
       "Transit Operator                317\n",
       "Commissioner 16.700c, No Pay    104\n",
       "Deputy Sheriff                   60\n",
       "Special Nurse                    39\n",
       "BdComm Mbr, Grp5,M$100/Mo        37\n",
       "Custodian                        36\n",
       "General Laborer                  33\n",
       "Parking Control Officer          33\n",
       "BdComm Mbr, Grp3 M=$50/Mtg       33\n",
       "Recreation Director              30\n",
       "Name: Job Title, dtype: int64"
      ]
     },
     "execution_count": 154,
     "metadata": {},
     "output_type": "execute_result"
    }
   ],
   "source": [
    "salaries[salaries['Benefits']> salaries['Total Pay']]['Job Title'].value_counts().head(10)"
   ]
  },
  {
   "cell_type": "markdown",
   "metadata": {},
   "source": [
    "### How many of them are unique Job Title holders?"
   ]
  },
  {
   "cell_type": "code",
   "execution_count": 155,
   "metadata": {},
   "outputs": [
    {
     "data": {
      "text/plain": [
       "303"
      ]
     },
     "execution_count": 155,
     "metadata": {},
     "output_type": "execute_result"
    }
   ],
   "source": [
    "len(salaries[salaries['Benefits']> salaries['Total Pay']]['Job Title'].value_counts())"
   ]
  },
  {
   "cell_type": "markdown",
   "metadata": {},
   "source": [
    "### Top 5 employees with the highest Benefits where their Benefits were greater than Total Pay"
   ]
  },
  {
   "cell_type": "code",
   "execution_count": 156,
   "metadata": {},
   "outputs": [
    {
     "data": {
      "text/html": [
       "<div>\n",
       "<style scoped>\n",
       "    .dataframe tbody tr th:only-of-type {\n",
       "        vertical-align: middle;\n",
       "    }\n",
       "\n",
       "    .dataframe tbody tr th {\n",
       "        vertical-align: top;\n",
       "    }\n",
       "\n",
       "    .dataframe thead th {\n",
       "        text-align: right;\n",
       "    }\n",
       "</style>\n",
       "<table border=\"1\" class=\"dataframe\">\n",
       "  <thead>\n",
       "    <tr style=\"text-align: right;\">\n",
       "      <th></th>\n",
       "      <th>Agency</th>\n",
       "      <th>Base Pay</th>\n",
       "      <th>Benefits</th>\n",
       "      <th>Employee Name</th>\n",
       "      <th>Job Title</th>\n",
       "      <th>Other Pay</th>\n",
       "      <th>Overtime Pay</th>\n",
       "      <th>Status</th>\n",
       "      <th>Total Pay</th>\n",
       "      <th>Total Pay &amp; Benefits</th>\n",
       "      <th>Year</th>\n",
       "      <th>title_len</th>\n",
       "    </tr>\n",
       "  </thead>\n",
       "  <tbody>\n",
       "    <tr>\n",
       "      <th>31097</th>\n",
       "      <td>San Francisco</td>\n",
       "      <td>915.0</td>\n",
       "      <td>33204.72</td>\n",
       "      <td>David G Gruber</td>\n",
       "      <td>BdComm Mbr, Grp3 M=$50/Mtg</td>\n",
       "      <td>0.00</td>\n",
       "      <td>0.00</td>\n",
       "      <td>PT</td>\n",
       "      <td>915.00</td>\n",
       "      <td>34119.72</td>\n",
       "      <td>2015</td>\n",
       "      <td>26</td>\n",
       "    </tr>\n",
       "    <tr>\n",
       "      <th>30632</th>\n",
       "      <td>San Francisco</td>\n",
       "      <td>5586.2</td>\n",
       "      <td>32463.77</td>\n",
       "      <td>James H Reed</td>\n",
       "      <td>Senior Physician Specialist</td>\n",
       "      <td>558.62</td>\n",
       "      <td>0.00</td>\n",
       "      <td>PT</td>\n",
       "      <td>6144.82</td>\n",
       "      <td>38608.59</td>\n",
       "      <td>2015</td>\n",
       "      <td>27</td>\n",
       "    </tr>\n",
       "    <tr>\n",
       "      <th>32779</th>\n",
       "      <td>San Francisco</td>\n",
       "      <td>11281.6</td>\n",
       "      <td>30062.37</td>\n",
       "      <td>Tira L Haynes</td>\n",
       "      <td>Transit Operator</td>\n",
       "      <td>425.48</td>\n",
       "      <td>747.01</td>\n",
       "      <td>PT</td>\n",
       "      <td>12454.09</td>\n",
       "      <td>42516.46</td>\n",
       "      <td>2017</td>\n",
       "      <td>16</td>\n",
       "    </tr>\n",
       "    <tr>\n",
       "      <th>34148</th>\n",
       "      <td>San Francisco</td>\n",
       "      <td>700.0</td>\n",
       "      <td>28572.23</td>\n",
       "      <td>David G Gruber</td>\n",
       "      <td>BdComm Mbr, Grp3 M=$50/Mtg</td>\n",
       "      <td>0.00</td>\n",
       "      <td>0.00</td>\n",
       "      <td>PT</td>\n",
       "      <td>700.00</td>\n",
       "      <td>29272.23</td>\n",
       "      <td>2017</td>\n",
       "      <td>26</td>\n",
       "    </tr>\n",
       "    <tr>\n",
       "      <th>33314</th>\n",
       "      <td>San Francisco</td>\n",
       "      <td>770.0</td>\n",
       "      <td>28080.85</td>\n",
       "      <td>David G Gruber</td>\n",
       "      <td>BdComm Mbr, Grp3 M=$50/Mtg</td>\n",
       "      <td>0.00</td>\n",
       "      <td>0.00</td>\n",
       "      <td>FT</td>\n",
       "      <td>770.00</td>\n",
       "      <td>28850.85</td>\n",
       "      <td>2016</td>\n",
       "      <td>26</td>\n",
       "    </tr>\n",
       "  </tbody>\n",
       "</table>\n",
       "</div>"
      ],
      "text/plain": [
       "              Agency  Base Pay  Benefits   Employee Name  \\\n",
       "31097  San Francisco     915.0  33204.72  David G Gruber   \n",
       "30632  San Francisco    5586.2  32463.77    James H Reed   \n",
       "32779  San Francisco   11281.6  30062.37   Tira L Haynes   \n",
       "34148  San Francisco     700.0  28572.23  David G Gruber   \n",
       "33314  San Francisco     770.0  28080.85  David G Gruber   \n",
       "\n",
       "                         Job Title  Other Pay  Overtime Pay Status  Total Pay  \\\n",
       "31097   BdComm Mbr, Grp3 M=$50/Mtg       0.00          0.00     PT     915.00   \n",
       "30632  Senior Physician Specialist     558.62          0.00     PT    6144.82   \n",
       "32779             Transit Operator     425.48        747.01     PT   12454.09   \n",
       "34148   BdComm Mbr, Grp3 M=$50/Mtg       0.00          0.00     PT     700.00   \n",
       "33314   BdComm Mbr, Grp3 M=$50/Mtg       0.00          0.00     FT     770.00   \n",
       "\n",
       "       Total Pay & Benefits  Year  title_len  \n",
       "31097              34119.72  2015         26  \n",
       "30632              38608.59  2015         27  \n",
       "32779              42516.46  2017         16  \n",
       "34148              29272.23  2017         26  \n",
       "33314              28850.85  2016         26  "
      ]
     },
     "execution_count": 156,
     "metadata": {},
     "output_type": "execute_result"
    }
   ],
   "source": [
    "salaries[salaries['Benefits']>salaries['Total Pay']].sort_values(by='Benefits',axis=0,ascending=False).head()"
   ]
  },
  {
   "cell_type": "code",
   "execution_count": 158,
   "metadata": {},
   "outputs": [],
   "source": [
    "# Creating 2 new variables with (1) Total Pay above median; (2) Total pay below median\n",
    "aboveMedian = salaries[salaries['Total Pay & Benefits']> salaries['Total Pay & Benefits'].median()]\n",
    "belowMedian = salaries[salaries['Total Pay & Benefits'] < salaries['Total Pay & Benefits'].median()]"
   ]
  },
  {
   "cell_type": "code",
   "execution_count": 550,
   "metadata": {},
   "outputs": [
    {
     "data": {
      "text/plain": [
       "Text(0.5,1,'Below Median Total Pay Salary Correlation')"
      ]
     },
     "execution_count": 550,
     "metadata": {},
     "output_type": "execute_result"
    },
    {
     "data": {
      "image/png": "[encoded data removed]",
      "text/plain": [
       "<Figure size 1080x360 with 4 Axes>"
      ]
     },
     "metadata": {},
     "output_type": "display_data"
    }
   ],
   "source": [
    "fig, saxis = plt.subplots(1,2, figsize=(15,5))\n",
    "\n",
    "sns.heatmap(aboveMedian.corr(),annot=True,ax=saxis[0]).set_title(\"Above Median Total Pay Salary Correlation\")\n",
    "sns.heatmap(belowMedian.corr(),annot=True,ax=saxis[1]).set_title(\"Below Median Total Pay Salary Correlation\")"
   ]
  },
  {
   "cell_type": "markdown",
   "metadata": {},
   "source": [
    "### How many employees had identical full name ?"
   ]
  },
  {
   "cell_type": "code",
   "execution_count": 58,
   "metadata": {},
   "outputs": [
    {
     "data": {
      "text/plain": [
       "48122"
      ]
     },
     "execution_count": 58,
     "metadata": {},
     "output_type": "execute_result"
    }
   ],
   "source": [
    "sum(salaries['Employee Name'].value_counts() > 1)"
   ]
  },
  {
   "cell_type": "markdown",
   "metadata": {},
   "source": [
    "### Which are the top 20 most common employee names in the dataset?"
   ]
  },
  {
   "cell_type": "code",
   "execution_count": 162,
   "metadata": {},
   "outputs": [
    {
     "data": {
      "text/plain": [
       "Kevin Lee                 25\n",
       "Steven Lee                25\n",
       "Michael Wong              21\n",
       "William Wong              20\n",
       "Victor Lee                20\n",
       "Richard Lee               19\n",
       "Amelie E Bullard          19\n",
       "John Chan                 18\n",
       "Michael A Johnson         16\n",
       "Sandy Wong                15\n",
       "Jennifer J Chiu           15\n",
       "Emelita M Hathaway        15\n",
       "Mary E Mays               15\n",
       "Douglas R Price-Hanson    15\n",
       "Georgia H Chourre         15\n",
       "Stanley Lee               15\n",
       "Ying F He                 15\n",
       "Terrence R Marcotte       14\n",
       "Besilda M Mandapat        14\n",
       "Maribel Amodo             14\n",
       "Name: Employee Name, dtype: int64"
      ]
     },
     "execution_count": 162,
     "metadata": {},
     "output_type": "execute_result"
    }
   ],
   "source": [
    "salaries['Employee Name'].value_counts().head(20)"
   ]
  },
  {
   "cell_type": "markdown",
   "metadata": {},
   "source": [
    "### Top 50 Most popular Employee Names"
   ]
  },
  {
   "cell_type": "code",
   "execution_count": 176,
   "metadata": {},
   "outputs": [
    {
     "data": {
      "text/plain": [
       "Text(0.5,0,'Employee Name')"
      ]
     },
     "execution_count": 176,
     "metadata": {},
     "output_type": "execute_result"
    },
    {
     "data": {
      "image/png": "[encoded data removed]",
      "text/plain": [
       "<Figure size 1440x360 with 1 Axes>"
      ]
     },
     "metadata": {},
     "output_type": "display_data"
    }
   ],
   "source": [
    "# plotting the bar plot\n",
    "salaries['Employee Name'].value_counts().head(40).plot.bar(figsize=(20,5))\n",
    "\n",
    "plt.legend()\n",
    "plt.ylabel('Name Count')\n",
    "plt.xlabel('Employee Name')"
   ]
  },
  {
   "cell_type": "markdown",
   "metadata": {},
   "source": [
    "# END"
   ]
  }
 ],
 "metadata": {
  "kernelspec": {
   "display_name": "Python 3",
   "language": "python",
   "name": "python3"
  },
  "language_info": {
   "codemirror_mode": {
    "name": "ipython",
    "version": 3
   },
   "file_extension": ".py",
   "mimetype": "text/x-python",
   "name": "python",
   "nbconvert_exporter": "python",
   "pygments_lexer": "ipython3",
   "version": "3.6.6"
  }
 },
 "nbformat": 4,
 "nbformat_minor": 2
}
